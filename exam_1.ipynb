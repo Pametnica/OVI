{
 "cells": [
  {
   "cell_type": "markdown",
   "metadata": {},
   "source": [
    "# Прв парцијален испит по Основи на Вештачката Интелигенција\n",
    "\n",
    "Датум: 20.11.2023"
   ]
  },
  {
   "cell_type": "markdown",
   "metadata": {},
   "source": [
    "## Проблем 1 - Кутии"
   ]
  },
  {
   "cell_type": "markdown",
   "metadata": {
    "tags": []
   },
   "source": [
    "Пред вас имате табла со 10 редови и 20 колони. Ова е светот во кој се движи агентот означен со знакот `🔷`. Неговата работа е да турка кутии означени со `🟥`, до зададено поле `🟢`. За полесно означување, ќе ги користиме ознаките:\n",
    "- Ознака за празно место: знакот `·` или бројот 0.\n",
    "- Ознака за агент: знакот `🔷` или бројот 1.\n",
    "- Ознака за кутија: знакот `🟥` или бројот 2.\n",
    "- Ознака за поле каде треба да се однесе кутија: знакот `🟢` или бројот 3."
   ]
  },
  {
   "cell_type": "markdown",
   "metadata": {
    "tags": []
   },
   "source": [
    "### Задача 1\n",
    "\n",
    "#### Цел\n",
    "- Целта е кутијата `🟥` да се најде врз посакуваното поле `🟢` така што агентот ќе потроши што помалку енергија.\n",
    "\n",
    "#### Правила\n",
    "- Агентот смее да се движи само во четири насоки: нагоре, надоле, лево, десно.\n",
    "- Секој чекор на агентот е со должина 1 (едно поле).\n",
    "- Агентот е способен да турка кутија само ако стои веднаш до кутијата (на соседно поле: горе, доле, лево, десно).\n",
    "- Агентот ја турка кутијата право, во зависност од тоа каде стои. По успешното туркање, агентот ќе се најде на местото каде била кутијата, а кутијата ќе се помести за едно место понатаму, во насока на движењето на агентот.\n",
    "- Агентот троши една единица енергија за да се придвижи за едно поле, а дополнително троши три единици енергија ако турка кутија.\n",
    "- Агентот и кутијата не смеат да излезат надвор од таблата."
   ]
  },
  {
   "cell_type": "markdown",
   "metadata": {
    "tags": []
   },
   "source": [
    "#### Прашања\n",
    "1. **(15 поени)** Постави го овој проблем како проблем за пребарување.\n",
    "    1. Како ќе ја дефнинираш состојбата за овој проблем? Објасни зошто ја избираш предложената дефиниција за состојба.\n",
    "    \n",
    "    1. Како ќе ја дефинираш почетната состојба, а како ќе ја дефинираш крајната состојба?\n",
    "    \n",
    "    1. Дали за проверка за крајна состојба ќе користиш состојба или функција за проверка дали е постигната целта?\n",
    "    \n",
    "    1. Која податочна структура ќе ја искористиш за да ја зачуваш информацијата за состојбата?\n",
    "    \n",
    "1. **(15 поени)** Објасни како ќе се одвива разгранувањето за дадена состојба, преку функцијата `expand_state()`?\n",
    "\n",
    "1. **(5 поени)** Кои алгоритми за пребарување се слепи, и зошто ги нарекуваме слепи?\n",
    "\n",
    "1. **(5 поени)** Кој алгоритам за слепо пребарување одбираш да го користиш за овој проблем? Избери еден. Зошто баш тој алгоритам пред другите алгоритми?\n",
    "\n",
    "1. **(30 поени)** Имплементирај го избраниот алгоритам користејќи пајтон, па отпечати барем едно можно решение на проблемот.\n",
    "\n",
    "1. **(5 поени)** Зошто избираме да ја користиме библиотеката heapq при имплементирање на алгоритмите за пребарување?\n",
    "\n",
    "1. **(15 поени)** Дали избраниот алгоритам може да се убрза со користење на пребарување А*? Осмисли функција за дојава, и објасни го начинот на функционирање на твојата функција, и како истата може да го убрза избраниот алгоритам.\n",
    "\n",
    "1. **(15 поени)** Имплементирај го избраниот алгоритам користејќи пајтон, овојпат користејќи и функција за дојава, па испечати барем едно можно решение.\n",
    "\n",
    "Збирот на поените е 110. 10 Поени ви се бонус.\n",
    "\n",
    "Таблата B, како објект од класата Board, служи за исцртување на решението. Можете да ја користите како помош при решавањето, а може и сами да си имплементирате решение за прикажување на состојбата на светот во кој се наоѓа агентот. Ако ви треба нова табла, слободно направете нов објект од класата."
   ]
  },
  {
   "cell_type": "code",
   "execution_count": 1,
   "metadata": {
    "tags": []
   },
   "outputs": [],
   "source": [
    "from exam_help import Board, generate_random_table"
   ]
  },
  {
   "cell_type": "code",
   "execution_count": 2,
   "metadata": {
    "tags": []
   },
   "outputs": [
    {
     "data": {
      "application/vnd.jupyter.widget-view+json": {
       "model_id": "06ec46aaaab34cdcac2633604aa33a0a",
       "version_major": 2,
       "version_minor": 0
      },
      "text/plain": [
       "Board()"
      ]
     },
     "execution_count": 2,
     "metadata": {},
     "output_type": "execute_result"
    }
   ],
   "source": [
    "ROWS, COLS = 10, 20\n",
    "B = Board(ROWS, COLS)\n",
    "B"
   ]
  },
  {
   "cell_type": "code",
   "execution_count": 3,
   "metadata": {
    "tags": []
   },
   "outputs": [],
   "source": [
    "random_table = generate_random_table(n_rows=ROWS, n_cols=COLS, n_agents=1, n_boxes=1, n_goal_fields=1)\n",
    "B.update(random_table)"
   ]
  },
  {
   "cell_type": "markdown",
   "metadata": {},
   "source": [
    "Одговори на прашањата:\n",
    "1. \n",
    "А. Состојбата за овој проблем ја дефинираме како матрица со N*N елементи.\n",
    "\n",
    "B. Почетната состојба на проблемот е кога агентот се наоѓа на местото на коешто му е зададено, пред да почне да ја турката кутијата, односно пред воопшто да почне да се движи и самиот, а крајната состојба е кога ќе ја постигнеме целта, односно агентот ќе ја истурка кутијата до посакуваното поле.\n",
    "\n",
    "C. Ќе користам функција за проверка дали сме стигнале до крајната состојба, check_end.\n",
    "\n",
    "D. За да ја зачуваме информацијата за состојбата најпрво користам торка од елементи, која дозволува промени на елементите, а потоа состојбата ја враќаме како листа.\n",
    "\n",
    "2. Expand state функцијата ја дефинираме и најпрво правиме листа со нови променливи којашто треба да ја пополниме и да ја вратиме на крај. Во expand state додаваме по едно валидно движење на агентот, а со тоа и на кутијата, а под валидно подразбираме во рамките на таблата и согласно со дозволените придвижувања на агентот. Откако ги ставивме сите елементи во листата, на крај ја враќаме со return.\n",
    "\n",
    "3. Слепи алгоритми за пребарување се пребарувањата по широчина и длабочина, и пребарување со униформна цена. Се нарекуваат слепи затоа што немаат информации каде треба да пребаруваат, тие почнуваат да пребаруваат според кодот кој им го задаваме, но не знаат каде одат се додека не го најдат тоа што го бараат.\n",
    "\n",
    "4. За овој алгоритам одбирам да го користам пребарувањето со униформна цена, затоа што со секое движење агентот троши енергија, којашто ја гледаме како цена на патот. Доколку агентот не ја туркаше кутијата, односно секое движење го чинеше само една единица во текот на целиот пат, тогаш пребарувањето со униформна цена би преминало во пребарување по широчина.\n",
    "\n",
    "5. Алгоритмот е имплементиран во продолжение.\n",
    "\n",
    "6. Избираме да ја користиме библиотеката heapq затоа што работи многу побрзо, ги преуредува елементите на специјален начин и најбрзо ни враќа решение за даден проблем.\n",
    "\n",
    "7. А* пребарувањето може да го убрза дадениот алгоритам, меѓутоа тоа зависи најмногу од избраната функција за дојава."
   ]
  },
  {
   "cell_type": "code",
   "execution_count": null,
   "metadata": {},
   "outputs": [],
   "source": []
  },
  {
   "cell_type": "code",
   "execution_count": 6,
   "metadata": {
    "tags": []
   },
   "outputs": [],
   "source": [
    "from collections import deque\n",
    "import heapq"
   ]
  },
  {
   "cell_type": "code",
   "execution_count": 7,
   "metadata": {
    "tags": []
   },
   "outputs": [],
   "source": [
    "def check_end(state):\n",
    "    state_matrix=[list(row) for row in state]\n",
    "    box_position=i,j\n",
    "    new_box_position=x,y\n",
    "    for i, row in state_matrix:\n",
    "        for j, column in state_matrix:\n",
    "            if i==x and j==y:\n",
    "                return True\n",
    "            else:\n",
    "                return False\n",
    "#So ovaa funkcija proveruvame dali koordinatite na kutijata se poklopuvaat so\n",
    "#koordinatite na zadadenoto pole do koesto treba da stigne kutijata"
   ]
  },
  {
   "cell_type": "code",
   "execution_count": 8,
   "metadata": {
    "tags": []
   },
   "outputs": [
    {
     "ename": "SyntaxError",
     "evalue": "expected ':' (2287523236.py, line 4)",
     "output_type": "error",
     "traceback": [
      "\u001b[0;36m  Cell \u001b[0;32mIn[8], line 4\u001b[0;36m\u001b[0m\n\u001b[0;31m    if matrix_state[x][y]==1\u001b[0m\n\u001b[0m                            ^\u001b[0m\n\u001b[0;31mSyntaxError\u001b[0m\u001b[0;31m:\u001b[0m expected ':'\n"
     ]
    }
   ],
   "source": [
    "def find_position_agent(matrix_state):\n",
    "    for x, row in enumerate(matrix_state):\n",
    "        for y, column in enumerate(matrix_state):\n",
    "            if matrix_state[x][y]==1\n",
    "                return (x,y)\n",
    "    return (0,0)"
   ]
  },
  {
   "cell_type": "code",
   "execution_count": 9,
   "metadata": {
    "tags": []
   },
   "outputs": [],
   "source": [
    "def find_position_box(matrix_state):\n",
    "    for x, row in enumerate(matrix_state):\n",
    "        for y, column in enumerate(matrix_state):\n",
    "            if matrix_state[x][y]==2:\n",
    "                return (x,y)\n",
    "    return (0,0)"
   ]
  },
  {
   "cell_type": "code",
   "execution_count": 10,
   "metadata": {
    "tags": []
   },
   "outputs": [],
   "source": [
    "def distance_of_the_box(state, agent_position, box_position):\n",
    "    agent_position=z,p\n",
    "    box_position=i,j\n",
    "    if agent_position.difference(box_position)==1:\n",
    "        return True"
   ]
  },
  {
   "cell_type": "code",
   "execution_count": 11,
   "metadata": {
    "tags": []
   },
   "outputs": [],
   "source": [
    "def agent_moves(state):\n",
    "    new_states=[]\n",
    "    state = i,j\n",
    "    possible_moves=[(i,j+1),(i,j-1),(i+1,j),(i-1,j)]\n",
    "    for m, n in possible_moves:\n",
    "        if 0<=z<=N and 0<=p<=N:\n",
    "            new_states.append((z,p))\n",
    "    return new_states"
   ]
  },
  {
   "cell_type": "code",
   "execution_count": 12,
   "metadata": {
    "tags": []
   },
   "outputs": [],
   "source": [
    "def expand_state(state):\n",
    "    new_states=[]\n",
    "    new_state_matrix=[list(row) for row in state]\n",
    "    possible_moves_agent=[(0,1),(0,-1),(1,0),(-1,0)]\n",
    "    z,p =find_position_agent(new_state_matrix)\n",
    "    i,j=find_position_box(new_state_matrix)\n",
    "    if distance_of_the_box(state, agent_position, box_position)==1:\n",
    "        for (dz, dp) in zip(possible_moves_agent):\n",
    "            new_state_matrix=[list(row) for row in state]\n",
    "            new_z=z+dz\n",
    "            new_p=p+dp\n",
    "            new_i=i+dz\n",
    "            new_j=j+dp\n",
    "            new_states.append(tuple(map(tuple.new_state_matrix)))\n",
    "    return new_states"
   ]
  },
  {
   "cell_type": "code",
   "execution_count": 13,
   "metadata": {
    "tags": []
   },
   "outputs": [],
   "source": [
    "def uniform_cost_search(initial_state):\n",
    "    expanded=()\n",
    "    if check_end:\n",
    "        return []\n",
    "    queue=[(0,[intial_state])]\n",
    "    heapq.heapify(queue)\n",
    "    while queue:\n",
    "        weight, state_list=heapq.heappop(queue)\n",
    "        state_to_expand=state_list[-1]\n",
    "        if state_to_expand==goal_state:\n",
    "            return weight, state_list\n",
    "        if check_end:\n",
    "            return []\n",
    "        else:\n",
    "            if state_to_expand not in expanded:\n",
    "                for neighbour in expand_state(state_to_expand):\n",
    "                    if neighbour not in expanded:\n",
    "                        heapq.heappush(queue,(weight+new_weight,state_list+[neighbour]))\n",
    "                    expanded.add(state_to_expand)"
   ]
  },
  {
   "cell_type": "markdown",
   "metadata": {},
   "source": [
    "7. Имплементација на А* алгоритам за пребарување\n",
    "Со оглед на тоа дека роботот може да се движи во само четири насоки, користиме Менхетан растојание."
   ]
  },
  {
   "cell_type": "code",
   "execution_count": 14,
   "metadata": {
    "tags": []
   },
   "outputs": [],
   "source": [
    "def a_star_search(initial_state, h, alpha=1):\n",
    "    expanded=set()\n",
    "    if check_end(state_to_expand):\n",
    "        return []\n",
    "    queue=[((0,0),[starting_vertex])]\n",
    "    heapq.heapify(queue)\n",
    "    while queue:\n",
    "        weight, state_list=heapq.heappop(queue)\n",
    "        current_a_star_weight, current_path_weight=weight\n",
    "        state_to_expand=state_list[-1]\n",
    "        if check_end(state_to_expand):\n",
    "            return current_path_weight, state_list\n",
    "        else:\n",
    "            for next_state in expand(state_to_expand):\n",
    "                if next_state not in expanded:\n",
    "                    h=heuristic_function(neighbour)\n",
    "                    path_weight=current_path_weight+1\n",
    "                    a_star_weight=path_weight+alpha*h\n",
    "                    heapq.heappush(queue, ((a_star_weight, path_weight), state_list+[next_state]))\n",
    "                expanded.add(next_state)"
   ]
  },
  {
   "cell_type": "code",
   "execution_count": 15,
   "metadata": {
    "tags": []
   },
   "outputs": [],
   "source": [
    "def manhattan_distance(state):\n",
    "    matrix_explorer=[list(row) for row in state]\n",
    "    i_p,j_p=find_person(matrix_explorer)\n",
    "    return abs(i_p-1)+abs(j_p-7)"
   ]
  },
  {
   "cell_type": "markdown",
   "metadata": {},
   "source": [
    "Kreirame funkcija za dojava koja se zasnova na Menhetan rastojanieto, a go odbrav Menhetan poradi toa sto agentot moze da se dvizi vo 4 nasoki. Go ubrzuva so toa sto mu dava nasoki na kade da se dvizi i go nasocuva pobrzo kon posakuvanata cel."
   ]
  },
  {
   "cell_type": "code",
   "execution_count": 16,
   "metadata": {
    "tags": []
   },
   "outputs": [],
   "source": [
    "def h(state):\n",
    "    distance=manhattan_distance(state)\n",
    "    return distance"
   ]
  },
  {
   "cell_type": "code",
   "execution_count": null,
   "metadata": {},
   "outputs": [],
   "source": []
  }
 ],
 "metadata": {
  "kernelspec": {
   "display_name": "Python 3 (ipykernel)",
   "language": "python",
   "name": "python3"
  },
  "language_info": {
   "codemirror_mode": {
    "name": "ipython",
    "version": 3
   },
   "file_extension": ".py",
   "mimetype": "text/x-python",
   "name": "python",
   "nbconvert_exporter": "python",
   "pygments_lexer": "ipython3",
   "version": "3.12.3"
  }
 },
 "nbformat": 4,
 "nbformat_minor": 4
}
