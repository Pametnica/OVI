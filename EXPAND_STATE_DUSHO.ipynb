{
 "cells": [
  {
   "cell_type": "markdown",
   "id": "c0339f33-4456-4e77-8912-b50afe557cba",
   "metadata": {},
   "source": [
    "# 1.ЗА ЗАДАЧИ КАДЕ ДВИЖИМЕ ЕЛЕМЕНТ И ГО ПРИДВИЖУВАМЕ НЕГОВИОТ СОСЕД (ЗАДАЧАТА СО ТУРКАЊЕ КУТИЈА)"
   ]
  },
  {
   "cell_type": "code",
   "execution_count": null,
   "id": "a7f094c6-0934-4f63-92ff-abdd0fd21da4",
   "metadata": {},
   "outputs": [],
   "source": [
    "def expand_state(state):\n",
    "    new_states=[] # lista vo koja kje gi vrakjame sostojbite\n",
    "    new_state_matrix=[list(row) for row in state] # hard copy na state\n",
    "    possible_moves_agent=[(0,1),(0,-1),(1,0),(-1,0)] # deltas, odnosno za kolku polinja smee da se pomestuva\n",
    "    z,p =find_position_agent(new_state_matrix) # find position na element 1 - ja ima vo logicki funkcii\n",
    "    i,j=find_position_box(new_state_matrix)  # find position na element 2 istata od logicki funkcii\n",
    "    if distance_of_the_box(state, agent_position, box_position)==1: # ako elementite se sosedi uslov\n",
    "        for (dz, dp) in zip(possible_moves_agent):   # zaedno za dvata elementi iteriram po possibe_moves\n",
    "            new_state_matrix=[list(row) for row in state] # hard copy na state za da ne se promeni satteto (1 shto ni se povtoruvashe Mila, ne ti teknuva)\n",
    "            new_z=z+dz       # zgolemuvan / namaluvam pozicija\n",
    "            new_p=p+dp\n",
    "            new_i=i+dz\n",
    "            new_j=j+dp\n",
    "            new_states.append(tuple(map(tuple.new_state_matrix))) # ja sozdava novata torka od statovi\n",
    "    return new_states\n",
    "    # za da bide 1 agent samo zakomentiraj go vtoriot"
   ]
  },
  {
   "cell_type": "code",
   "execution_count": null,
   "id": "f69fe8c5-2816-416c-b650-96737561a544",
   "metadata": {},
   "outputs": [],
   "source": [
    "def expand_state(state):\n",
    "    new_states = []  # Листа за чување на новите состојби\n",
    "    new_state_matrix = [list(row) for row in state]  # Hard copy на state\n",
    "    possible_moves_agent = [(0, 1), (0, -1), (1, 0), (-1, 0)]  # Дозволени движења\n",
    "    z, p = find_position_agent(new_state_matrix)  # Позиција на агентот\n",
    "    i, j = find_position_box(new_state_matrix)  # Позиција на кутијата\n",
    "    \n",
    "    if distance_of_the_box(state, (z, p), (i, j)) == 1:  # Ако кутијата е соседна на агентот\n",
    "        for (dz, dp) in possible_moves_agent:  # Примени секое можно движење\n",
    "            new_state_matrix = [list(row) for row in state]  # Hard copy на state\n",
    "            new_z = z + dz  # Новата позиција на агентот\n",
    "            new_p = p + dp\n",
    "            new_i = i + dz  # Движење на кутијата\n",
    "            new_j = j + dp\n",
    "\n",
    "            # Проверка дали движењето е валидно (во границите и без колизии)\n",
    "            if is_valid_move(new_state_matrix, new_z, new_p, new_i, new_j):\n",
    "                # Ажурирај ја состојбата\n",
    "                new_state_matrix[z][p] = 0  # Претходна позиција на агентот станува празна\n",
    "                new_state_matrix[new_z][new_p] = 1  # Новата позиција на агентот\n",
    "                new_state_matrix[i][j] = 0  # Претходна позиција на кутијата станува празна\n",
    "                new_state_matrix[new_i][new_j] = 2  # Новата позиција на кутијата\n",
    "                \n",
    "                # Додај ја новата состојба како tuple и тежина на движењето (во овој случај 1)\n",
    "                new_states.append((1,(tuple(map(tuple, new_state_matrix)))))  # Тежината е 1\n",
    "    return new_states\n"
   ]
  },
  {
   "cell_type": "markdown",
   "id": "77ccf90b-bddf-4943-a409-26b9da8b6fed",
   "metadata": {},
   "source": [
    "# ЗАДАЧА КОГА 2 ФИГУРИ СЕ ДВИЖАТ НЕЗАВИСНО ЕДНА ОД ДРУГА А НЕ СМЕЕ ДА ЗАСТАНАТ НА ИСТО ПОЛЕ (sTAR-CHESS)"
   ]
  },
  {
   "cell_type": "code",
   "execution_count": null,
   "id": "02570176-6717-462c-aad5-2ec716356269",
   "metadata": {},
   "outputs": [],
   "source": [
    "def expand_state(state):\n",
    "    states = []   # lista kade kje gi skladirame prosirenite\n",
    "    new_state_matrix = [list(row) for row in state] # hard copy na state\n",
    "\n",
    "    possible_moves_bishop = [(1, 1),(1, -1),(-1, 1),(-1, -1),(1, 1),(1, -1),(-1, 1),(-1, -1)]  # mozni premini na lovec vo shahot(mnogu lesno moze da se dobie za kralica;samo possible moves od gore)\n",
    "    possible_moves_knight = [(1,2), (2,1), (-1,-2), (-2,-1), (-1,2), (2,-1), (-2,1), (1,-2)] # KONJ\n",
    "    \n",
    "    x,y = find_pos_knight(new_state_matrix)# find element ja imas\n",
    "    w,z = find_pos_bishop(new_state_matrix)# find element ja imas\n",
    "\n",
    "    for (dx,dy),(dw,dz) in zip(possible_moves_knight, possible_moves_bishop): #povtorno iterira istovremeno za dvata elementi vo listata\n",
    "        new_state_matrix = [list(row) for row in state] # povtorno hard copy na state\n",
    "        new_x = x + dx #pomestuvanja\n",
    "        new_y = y + dy\n",
    "        new_w = w + dw\n",
    "        new_z = z + dz\n",
    "        #print(new_x,new_y,new_w,new_z)\n",
    "        if same_position((new_x,new_y),(new_w,new_z)): # vnimavaj funkcijata vrakja true ako NE se na ista pozicija\n",
    "            if limits_of_table((new_x,new_y)):  # limits of table vrakja TURE ako se naogjaat vnatre vo tablata \n",
    "                new_state_matrix[x][y] = 0       # stata 0 na mestotot kade shto se naogjal konjot\n",
    "                new_state_matrix[new_x][new_y] = 1  #KONJ=1\n",
    "            if limits_of_table((new_w,new_z)):\n",
    "                new_state_matrix[w][z] = 0 # stava 0 na prethodnata pozicija na lovecot\n",
    "                new_state_matrix[new_w][new_z] = 2 #2=LOVEC\n",
    "            states.append(tuple(map(tuple,new_state_matrix))) # torka od statovi\n",
    "    return states "
   ]
  },
  {
   "cell_type": "markdown",
   "id": "ddaa935d-59fe-477d-bc44-4298e5ca501b",
   "metadata": {},
   "source": [
    "# Кога се движат 3 елементи, внимавај сите имаат иста можност за потег-во исти насоки и со ист чекор (МОЛЕКУЛИ)"
   ]
  },
  {
   "cell_type": "code",
   "execution_count": null,
   "id": "9dcd5ee6-84b8-4a3e-9c2c-fe0448a0c55a",
   "metadata": {},
   "outputs": [],
   "source": [
    "def expand_state(state):\n",
    "    states = [] # prazna lista\n",
    "    new_state_matrix = [list(row) for row in state] # hard copy na listata\n",
    "    \n",
    "    xo,yo = find_pos_O(new_state_matrix) # find position na site 3 elementi ja ima vo drugiot dokument\n",
    "    xh_1,yh_1 = find_pos_H1(new_state_matrix)\n",
    "    xh_2,yh_2 = find_pos_H2(new_state_matrix)\n",
    "\n",
    "    moves = [(0,-1),(-1,0),(0,1),(1,0)] # mozni potezi; dokolku site 3 elementi treba da se dvizat vo ral nasoka -> 3 listi ..in zip(lista1,lista2,lista3)\n",
    "\n",
    "    for (dxo,dyo),(dxh_1,dyh_1),(dxh_2,dyh_2) in zip(moves,moves,moves): # iteriranje na listata za site 3 elementi soodvetno\n",
    "        new_state_matrix = [list(row) for row in state] # povtorno hard copy\n",
    "        new_xo = xo + dxo\n",
    "        new_yo = yo + dyo\n",
    "        new_xh_1 = xh_1 + dxh_1\n",
    "        new_yh_1 = yh_1 + dyh_1\n",
    "        new_xh_2 = xh_2 + dxh_2\n",
    "        new_yh_2 = yh_2 + dyh_2\n",
    "\n",
    "        if is_valid(new_xo,new_yo,new_xh_1,new_yh_1) and is_valid(new_xo,new_yo,new_xh_2,new_yh_2): # Is valid vrakja true ako poleto e validno\n",
    "            new_state_matrix[xo][yo] = 0 # predhodnoto klajgo na nula\n",
    "            new_state_matrix[new_xo][new_yo] = 3 # pomesten element ; hard code e 3\n",
    "        if is_valid(new_xh_1,new_yh_1,new_xo,new_yo) and is_valid(new_xh_1,new_yh_1,new_xh_2,new_yh_2):\n",
    "            new_state_matrix[xh_1][yh_1] = 0 # predhodnoto klajgo na nula\n",
    "            new_state_matrix[new_xh_1][new_yh_1] = 1 # pomesten element 2\n",
    "        if is_valid(new_xh_2,new_yh_2,new_xh_1,new_yh_1) and is_valid(new_xh_2,new_yh_2,new_xo,new_yo):\n",
    "            new_state_matrix[xh_2][yh_2] = 0 # predhodnoto klajgo na nula\n",
    "            new_state_matrix[new_xh_2][new_yh_2] = 2 # pomesten element 3\n",
    "\n",
    "        states.append(tuple(map(tuple,new_state_matrix))) # torka od statovi\n",
    "        \n",
    "\n",
    "    return states# vrati gi statovite"
   ]
  },
  {
   "cell_type": "markdown",
   "id": "1cb1a453-d6a2-456f-bbec-f93a7949c7fb",
   "metadata": {},
   "source": [
    "# КОГА ПОМЕСТУВАМЕ САМО 1 ЕЛЕМЕНТ АКО ДО НЕГО ИМА ДРУГ СПЕЦИФИЧЕН ЕЛЕМЕНТ (0 во овој случај )игра со плочки"
   ]
  },
  {
   "cell_type": "code",
   "execution_count": null,
   "id": "602d33e4-60ef-4475-8106-d69a331963e2",
   "metadata": {},
   "outputs": [],
   "source": [
    "def expand_state(state):\n",
    "    states_list = [] # prazna lista kade kje gi stavame statovite\n",
    "    \n",
    "    for index_row, row in enumerate(state): # iznituva po redicite na matricata\n",
    "        if 0 in row:  # dokolku dojde do toj element-0 ; odnosno elementot koj ovozmozuva prazno mesto- pomestuvanje\n",
    "            zero_position = (index_row, row.index(0))\n",
    "            break\n",
    "            \n",
    "    zero_row, zero_col = zero_position # pozicija na elementot koj ovozmozuva pomestuvanje\n",
    "            \n",
    "    tile_indexes_to_move = [(zero_row+1, zero_col), # koi plocki okolku praznoto mesto moze da se pomestat, odnosno koi se validni elementi za pomestuvanje\n",
    "                            (zero_row-1, zero_col), # koi elementi mozat da dojdat na mestoto na 0ta\n",
    "                            (zero_row, zero_col+1),\n",
    "                            (zero_row, zero_col-1)] \n",
    "    \n",
    "            # [(1, 0), (0, 1)]\n",
    "            \n",
    "    for index_row, index_col in tile_indexes_to_move: # za sekoj element vo listata na tile_indexes_to_move\n",
    "        # N=len(satate), 0<=index_row<=N-1\n",
    "        if (index_row < 0 or index_row >= 3) or (index_col < 0 or index_col >= 3): # 3 e dolzinata na tablata , moze i so N ako \n",
    "            continue   # dokolku ne sme nadvor od tablata prodolzi ponatamu\n",
    "        states_list.append(move_tile(state, (index_row, index_col), zero_position)) # so nadvoresna funkcija move_tile, zamenata ja pravi nadovr \n",
    "        # funkcijata ja ima vo LOGICKI FUNKCII; vrakja state - torka od torki\n",
    "    return states_list"
   ]
  },
  {
   "cell_type": "markdown",
   "id": "28bb551d-a78b-4c08-8041-c81ef60f2154",
   "metadata": {},
   "source": [
    "# Работи на дел м на н во стате матрицата (матрица во матирца)- ПИВАРА"
   ]
  },
  {
   "cell_type": "code",
   "execution_count": null,
   "id": "416e6ce2-622b-49f0-8cc0-55de6f0e1ae0",
   "metadata": {},
   "outputs": [],
   "source": [
    "def expand_state(state):\n",
    "    \n",
    "    states = []\n",
    "    grid_dimensions = (2, 3) # dimenzii na podmatrica\n",
    "    \n",
    "    for position_row in range(-1, 7): # state e 7X7\n",
    "        for position_col in range(-2, 7): # gi zema vo predvid i onie pozicii na grid shto ne se celosno vnatre (ako zeme 1 kolona blizu do rabot)\n",
    "            position = (position_row, position_col) # zadava pozicija za cekoj ciklus vo iteratorot\n",
    "            if take_bottles(grid_dimensions, state, position) not in states: # take bottles e nadvore[na funkcija sto vrakja state\n",
    "                if take_bottles(grid_dimensions, state, position) != state: # dokolu vratenata sostojba i sostojbata ne se ednakvi\n",
    "                    states.append(take_bottles(grid_dimensions, state, position)) # dodadi gi novite sostojbi \n",
    "            \n",
    "    grid_dimensions = (3, 2) # dimenzii na podmatrica\n",
    "    for position_row in range(-2, 7): # dokolku e svrten obratno za rab\n",
    "        for position_col in range(-1, 7): # nadolu se povtoruva\n",
    "            position = (position_row, position_col) \n",
    "            if take_bottles(grid_dimensions, state, position) not in states: \n",
    "                if take_bottles(grid_dimensions, state, position) != state:\n",
    "                    states.append(take_bottles(grid_dimensions, state, position))\n",
    "            \n",
    "    return states"
   ]
  },
  {
   "cell_type": "code",
   "execution_count": null,
   "id": "bd477c87-c2ef-47f3-bd14-0e8e4e959259",
   "metadata": {},
   "outputs": [],
   "source": [
    " # dokolku sakame da go napravime istoto no rabotime so algoritmot A *\n",
    "def expand_state(state):\n",
    "    \n",
    "    states = []\n",
    "    grid_dimensions = (2, 3)\n",
    "    \n",
    "    for position_row in range(-1, 7):\n",
    "        for position_col in range(-2, 7):\n",
    "            position = (position_row, position_col)\n",
    "            if take_bottles(grid_dimensions, state, position) not in states:\n",
    "                if take_bottles(grid_dimensions, state, position) != state:\n",
    "                    states.append((1, take_bottles(grid_dimensions, state, position)))\n",
    "            \n",
    "    grid_dimensions = (3, 2)\n",
    "    for position_row in range(-2, 7):\n",
    "        for position_col in range(-1, 7):\n",
    "            position = (position_row, position_col)\n",
    "            if take_bottles(grid_dimensions, state, position) not in states: \n",
    "                if take_bottles(grid_dimensions, state, position) != state:\n",
    "                    states.append((1, take_bottles(grid_dimensions, state, position)))\n",
    "            \n",
    "    return states"
   ]
  },
  {
   "cell_type": "markdown",
   "id": "f1eebf1b-9516-48e1-a964-ed90f8d6171f",
   "metadata": {},
   "source": [
    "# ДВИЖЕЊЕ НА АГЕНТ ВО 8 НАСОКИ, ДВИЖЕЊЕ ВО МАТРИЦА"
   ]
  },
  {
   "cell_type": "code",
   "execution_count": null,
   "id": "9bc5f210-828d-4e59-b636-d514c5ff5421",
   "metadata": {},
   "outputs": [],
   "source": [
    "def expand_state(state):\n",
    "    states = [] # lista kade kje gi dodavame site sostojbi\n",
    "    for index_row, row in enumerate(state):\n",
    "        if 1 in row: # go bara agentot, sosema validno i so find funkcijata\n",
    "            one_row, one_col = index_row, row.index(1)\n",
    "            break\n",
    "            \n",
    "    movements = [(one_row+1, one_col), (one_row-1, one_col), (one_row+1, one_col+1), (one_row-1, one_col-1), # mozno dvizenje bidejkji se dvizi vo 8 nasoki\n",
    "                 (one_row, one_col+1), (one_row, one_col-1), (one_row+1, one_col-1), (one_row-1, one_col+1)]\n",
    "    \n",
    "    for movement in movements:\n",
    "        if is_valid_position(movement): # dokolku ne e izlezen od matricata\n",
    "            states.append((1, move(state, (one_row, one_col), movement))) # tezina 1, move funkcija koja vrakja izmeneta state, movement na koja strana se pridvizil\n",
    "    \n",
    "    return states"
   ]
  },
  {
   "cell_type": "markdown",
   "id": "6cc2847c-4991-49f7-a2c6-297818e04623",
   "metadata": {},
   "source": [
    "# ДВИЖЕЊЕ НА АГЕНТ ВО 4 НАСОКИ (робот кој разнесува алат),враќа само нова позиција"
   ]
  },
  {
   "cell_type": "code",
   "execution_count": null,
   "id": "6c520f83-0419-4661-9f9c-728a5192a000",
   "metadata": {},
   "outputs": [],
   "source": [
    "def expand_state(state_to_expand):\n",
    "    i, j = state_to_expand \n",
    "    movements = [(i-1, j), (i+1, j), (i, j-1), (i, j+1)]\n",
    "    new_states = []\n",
    "    for movement in movements:\n",
    "        if is_valid(movement):\n",
    "            new_states.append(movement)    \n",
    "    return new_states"
   ]
  },
  {
   "cell_type": "markdown",
   "id": "a3a35adb-cc76-4f93-80be-f0e65cdd66fb",
   "metadata": {},
   "source": [
    "# Движење на коњ- враќа само позиција"
   ]
  },
  {
   "cell_type": "code",
   "execution_count": null,
   "id": "9d9f5b2e-0b20-4fbf-a879-800d2035e8e5",
   "metadata": {},
   "outputs": [],
   "source": [
    "def expand_state(state):\n",
    "    # state == pozicijata na konjot vo momentot, torka\n",
    "    x, y = state\n",
    "    next_movements = [(x+1, y+2), (x+1, y-2), (x-1, y+2), (x-1, y-2),\n",
    "                      (x+2, y-1), (x+2, y+1), (x-2, y-1), (x-2, y+1)]\n",
    "    states = []\n",
    "    for movement in next_movements:\n",
    "        if is_valid(movement):\n",
    "            states.append(movement)\n",
    "    return states"
   ]
  },
  {
   "cell_type": "code",
   "execution_count": null,
   "id": "3f405ba6-52a8-4851-b0d4-75a4642d4f2f",
   "metadata": {},
   "outputs": [],
   "source": []
  },
  {
   "cell_type": "code",
   "execution_count": null,
   "id": "c2110f8f-0860-4d0d-916f-cab00ca45cda",
   "metadata": {},
   "outputs": [],
   "source": []
  },
  {
   "cell_type": "code",
   "execution_count": null,
   "id": "891d7633-a8e9-4c35-96a5-d4fdcdb9c43d",
   "metadata": {},
   "outputs": [],
   "source": []
  },
  {
   "cell_type": "code",
   "execution_count": null,
   "id": "bf2b9ad8-fbb2-480e-9b9c-4f33263dc273",
   "metadata": {},
   "outputs": [],
   "source": []
  }
 ],
 "metadata": {
  "kernelspec": {
   "display_name": "Python 3 (ipykernel)",
   "language": "python",
   "name": "python3"
  },
  "language_info": {
   "codemirror_mode": {
    "name": "ipython",
    "version": 3
   },
   "file_extension": ".py",
   "mimetype": "text/x-python",
   "name": "python",
   "nbconvert_exporter": "python",
   "pygments_lexer": "ipython3",
   "version": "3.12.6"
  }
 },
 "nbformat": 4,
 "nbformat_minor": 5
}
