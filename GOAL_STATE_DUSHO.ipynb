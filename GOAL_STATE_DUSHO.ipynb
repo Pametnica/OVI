{
 "cells": [
  {
   "cell_type": "code",
   "execution_count": null,
   "id": "20bca67d-1a47-446c-8949-76a762f0e536",
   "metadata": {},
   "outputs": [],
   "source": [
    "g  = (\n",
    "    (0, 3, 2, 0, 2, 2, 2),\n",
    "    (2, 1, 2, 2, 2, 3, 2),\n",
    "    (2, 2, 0, 2, 2, 2, 2),\n",
    "    (0, 2, 2, 2, 2, 2, 0),\n",
    "    (2, 2, 3, 2, 2, 2, 2),\n",
    "    (2, 2, 1, 2, 2, 2, 2),\n",
    "    (0, 3, 0, 2, 2, 2, 2)\n",
    ")"
   ]
  },
  {
   "cell_type": "markdown",
   "id": "079e8d13-ee85-4040-8ae0-79bc02e6052f",
   "metadata": {},
   "source": [
    "# GOAL STATE PIVARA -> DA NEMA 2KA NIKADE\n"
   ]
  },
  {
   "cell_type": "code",
   "execution_count": null,
   "id": "068d9a4f-4416-4ea3-9d6d-b2fe6510b612",
   "metadata": {},
   "outputs": [],
   "source": [
    "def goal_state(state):\n",
    "    \n",
    "    state_list = []\n",
    "    for row in state:\n",
    "        state_list.append(list(row))\n",
    "        \n",
    "    for row_index, row in enumerate(state_list):\n",
    "        for col_index, element in enumerate(row):\n",
    "            if element == 2:\n",
    "                state_list[row_index][col_index] = 0\n",
    "                \n",
    "    state_tuple = []\n",
    "    for row in state_list:\n",
    "        state_tuple.append(tuple(row))\n",
    "        \n",
    "    return tuple(state_tuple)"
   ]
  },
  {
   "cell_type": "markdown",
   "id": "40b27b98-93a7-4e8e-b97b-d1341f2f3ae6",
   "metadata": {},
   "source": [
    "# GOAL STATE ZA AGENTOT DA SE NAJDE NA ODREDENO MESTO VO MATRICATA"
   ]
  },
  {
   "cell_type": "code",
   "execution_count": null,
   "id": "629db4e3-c37e-49f9-92fb-59b5f6fde9a0",
   "metadata": {},
   "outputs": [],
   "source": [
    "def goal_state(state,robot,goal_position): # state, (x agent,y agent), (x pos,y-pos)\n",
    "    state_list = [list(row) for row in state]\n",
    "    for i in range(len(state)):\n",
    "        for j in range(len(state[0])):\n",
    "            if state[i][j]==robot:\n",
    "                state_list[i][j]=0\n",
    "    for station in goal_position:\n",
    "        station_row,station_col=station\n",
    "        state_list[station_row][station_col]=robot\n",
    "        break\n",
    "    return tuple(tuple(row) for row in state_list)\n",
    "goal_state(g,)"
   ]
  },
  {
   "cell_type": "markdown",
   "id": "635b18cc-0613-4c86-bdfc-a0ea1f4bd9a3",
   "metadata": {},
   "source": [
    "# GOAL STATE OD KUTII"
   ]
  },
  {
   "cell_type": "code",
   "execution_count": null,
   "id": "0ed77e90-4e86-4132-8022-42e032e8f189",
   "metadata": {},
   "outputs": [],
   "source": [
    "def check_end(state):\n",
    "    state_matrix=[list(row) for row in state]\n",
    "    box_position=i,j\n",
    "    new_box_position=x,y\n",
    "    for i, row in state_matrix:\n",
    "        for j, column in state_matrix:\n",
    "            if i==x and j==y:\n",
    "                return True\n",
    "            else:\n",
    "                return False\n",
    "#So ovaa funkcija proveruvame dali koordinatite na kutijata se poklopuvaat so\n",
    "#koordinatite na zadadenoto pole do koesto treba da stigne kutijata"
   ]
  },
  {
   "cell_type": "markdown",
   "id": "21ca6f28-a27e-4a55-a89d-2cdfb3bfa35b",
   "metadata": {},
   "source": [
    "# GOAL STATE - STAR CHESS"
   ]
  },
  {
   "cell_type": "code",
   "execution_count": null,
   "id": "0b1116ef-a11a-42e8-a7e4-57af127c4057",
   "metadata": {},
   "outputs": [],
   "source": [
    "def end_check(state):\n",
    "    table_check_matrix = [list(row) for row in state]\n",
    "    count_stars = sum(row.count(3) for row in table_check_matrix) #ovde broj kolku trojki ima na matricata ako nema trojki togas ja resivme zad\n",
    "    #print(count_1)\n",
    "    if count_stars == 0:\n",
    "        return True\n",
    "    else:\n",
    "        return False   # samo vrakja true ili false vo zavisnost od toa kolku 3ki ima"
   ]
  },
  {
   "cell_type": "code",
   "execution_count": null,
   "id": "e333d4c6-274a-4dac-a6ca-474132ce1fbc",
   "metadata": {},
   "outputs": [],
   "source": [
    "# Moze da se svede na goal state od pivara kdae kje vrakja cela state bez 3ki"
   ]
  },
  {
   "cell_type": "markdown",
   "id": "222bfe9c-a601-4fb4-aef5-69a3a97b5369",
   "metadata": {},
   "source": [
    "# GOAL STATE MOLEKULI"
   ]
  },
  {
   "cell_type": "code",
   "execution_count": null,
   "id": "6e4088ab-0088-4fbf-9f18-38ca0ab6d8f5",
   "metadata": {},
   "outputs": [],
   "source": [
    "def end_check(new_state):  \n",
    "    \n",
    "    xo,yo = find_pos_O(new_state)\n",
    "    xh_1,yh_1 = find_pos_H1(new_state)\n",
    "    xh_2,yh_2 = find_pos_H2(new_state)\n",
    "    if yh_1 == yo + 1 and xh_1 == xo and yh_2 == yo - 1 and xh_2 == xo:\n",
    "        return True  # dokolku se naredeni eden do drug vrakja true"
   ]
  },
  {
   "cell_type": "markdown",
   "id": "2dafef14-7c9c-4ac8-b77c-e20154dfea0d",
   "metadata": {},
   "source": [
    "# GOAL STATE SO COVECETO"
   ]
  },
  {
   "cell_type": "code",
   "execution_count": null,
   "id": "940cd8f1-f578-44af-9fad-ab8acd0f47b7",
   "metadata": {
    "jupyter": {
     "source_hidden": true
    }
   },
   "outputs": [],
   "source": [
    "def end_check(state): \n",
    "    state_matrix = [list(row) for row in state]\n",
    "    i,j = find_person(state_matrix)\n",
    "    if i == 1 and j == 7:\n",
    "        return True"
   ]
  },
  {
   "cell_type": "code",
   "execution_count": null,
   "id": "826ff399-dea1-4cf0-937c-c47408eb5835",
   "metadata": {},
   "outputs": [],
   "source": []
  },
  {
   "cell_type": "code",
   "execution_count": null,
   "id": "5d36d053-b9c8-4161-944f-a27abd63fb69",
   "metadata": {},
   "outputs": [],
   "source": []
  },
  {
   "cell_type": "code",
   "execution_count": null,
   "id": "47b6d982-1f39-44bb-8da1-90197cfb9051",
   "metadata": {},
   "outputs": [],
   "source": []
  }
 ],
 "metadata": {
  "kernelspec": {
   "display_name": "Python 3 (ipykernel)",
   "language": "python",
   "name": "python3"
  },
  "language_info": {
   "codemirror_mode": {
    "name": "ipython",
    "version": 3
   },
   "file_extension": ".py",
   "mimetype": "text/x-python",
   "name": "python",
   "nbconvert_exporter": "python",
   "pygments_lexer": "ipython3",
   "version": "3.12.6"
  }
 },
 "nbformat": 4,
 "nbformat_minor": 5
}
