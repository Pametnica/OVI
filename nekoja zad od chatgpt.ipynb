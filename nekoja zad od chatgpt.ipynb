{
 "cells": [
  {
   "cell_type": "markdown",
   "id": "eee0e245-8804-46ae-8314-c3841fa630b9",
   "metadata": {},
   "source": [
    "## ZADACA 1"
   ]
  },
  {
   "cell_type": "markdown",
   "id": "86797084-cc15-4ca6-8a42-8f6ca6a2f3eb",
   "metadata": {},
   "source": [
    "Задача: Координирано движење на агенти во лабиринт со повеќе цели\n",
    "\n",
    "Имаш матрица со димензии N×NN×N, каде што:\n",
    "\n",
    "    0 означува проодна ќелија.\n",
    "    1 означува ѕид (непроодна ќелија).\n",
    "    Агенти се позиционирани на одредени стартни точки.\n",
    "    Цели се поставени на различни локации во матрицата.\n",
    "\n",
    "Услови:\n",
    "\n",
    "    Постојат KK агенти (индексирани од A1,A2,…,AKA1​,A2​,…,AK​).\n",
    "\n",
    "    Секој агент има своја специфична целна локација.\n",
    "\n",
    "    Дозволени движења за секој агент се:\n",
    "        Горe (−1,0)\n",
    "        Долу (+1,0)\n",
    "        Лево (0,−1)\n",
    "        Десно (0,+1)\n",
    "\n",
    "    Агенти не смеат да се судираат:\n",
    "        Две агенти не можат да се најдат на иста ќелија истовремено.\n",
    "        Агенти не можат да разменат места помеѓу чекори (т.е. AiAi​ не може да оди на местото на AjAj​, ако AjAj​ оди на местото на AiAi​).\n",
    "\n",
    "    Цел на задачата:\n",
    "        Сите агенти мора да стигнат до своите цели.\n",
    "        Најди го оптималниот пат (по вкупна цена) за сите агенти, користејќи еден од алгоритмите: BFS, UCS или A*.\n",
    "\n",
    "Пример матрица:\n",
    "\n",
    "Матрица N=5N=5:\n",
    "\n",
    "0  0  0  0  0\n",
    "1  1  0  1  0\n",
    "A1 0  0  1  C1\n",
    "0  1  0  0  0\n",
    "0  0  A2 0  C2\n",
    "\n",
    "    Стартни позиции: A1A1​ на (2,0)(2,0), A2A2​ на (4,2)(4,2).\n",
    "    Цели: C1C1​ на (2,4)(2,4), C2C2​ на (4,4)(4,4).\n",
    "    Блокирачки ѕидови се обележани со 1."
   ]
  },
  {
   "cell_type": "code",
   "execution_count": 71,
   "id": "0729a408-81a1-4175-9bbc-e6629e782774",
   "metadata": {},
   "outputs": [],
   "source": [
    "# 2 mi e A1, a 3 mi e A2\n",
    "# 4 mi e celta C1, a 5 mii e celta C2\n",
    "state=(\n",
    "    (0,0,0,0,0),\n",
    "    (1,1,0,1,0),\n",
    "    (2,0,0,1,4),\n",
    "    (0,1,0,0,0),\n",
    "    (0,0,3,0,5)\n",
    "    \n",
    ")"
   ]
  },
  {
   "cell_type": "code",
   "execution_count": 72,
   "id": "76a8ffdf-4fe2-4af9-9695-4b876d9e3fec",
   "metadata": {},
   "outputs": [],
   "source": [
    "def find_pos_A2(state):\n",
    "    for i, row in enumerate(state):\n",
    "        for j, column in enumerate(row):\n",
    "            if state[i][j] == 3:\n",
    "                return (i,j)\n",
    "    return(0,0)"
   ]
  },
  {
   "cell_type": "code",
   "execution_count": 73,
   "id": "5178d94d-74fb-4d3d-be25-d5ffa0218755",
   "metadata": {},
   "outputs": [],
   "source": [
    "def find_pos_A1(state):\n",
    "    for i, row in enumerate(state):\n",
    "        for j, column in enumerate(row):\n",
    "            if state[i][j] == 2:\n",
    "                return (i,j)\n",
    "    return(0,0)"
   ]
  },
  {
   "cell_type": "code",
   "execution_count": 74,
   "id": "65ef3c4b-3f71-4d76-9f23-b00d324720eb",
   "metadata": {},
   "outputs": [],
   "source": [
    "def check_end(state):\n",
    "    x,y = find_pos_A1(state)\n",
    "    i,j= find_pos_A2(state)\n",
    "    if x==2 and y==4 and i==4 and j==4:\n",
    "        return True\n",
    "    return False"
   ]
  },
  {
   "cell_type": "code",
   "execution_count": 75,
   "id": "8e7f845f-1e63-422d-87cf-1cf4ec1faa5b",
   "metadata": {},
   "outputs": [
    {
     "data": {
      "text/plain": [
       "False"
      ]
     },
     "execution_count": 75,
     "metadata": {},
     "output_type": "execute_result"
    }
   ],
   "source": [
    "check_end(state)"
   ]
  },
  {
   "cell_type": "code",
   "execution_count": 89,
   "id": "f86f1a72-a96e-45e0-87be-226c157f2ea5",
   "metadata": {},
   "outputs": [],
   "source": [
    "def limits_of_table(poz):\n",
    "    x,y=poz\n",
    "    if 0 <= x <5 and 0 <= y < 5:\n",
    "        return True"
   ]
  },
  {
   "cell_type": "code",
   "execution_count": 132,
   "id": "9c7a10b8-00a7-4bdd-95e3-a4d08b375696",
   "metadata": {},
   "outputs": [],
   "source": [
    "def obstacles(state,poz):\n",
    "    x,y=poz\n",
    "    obstacle_positions=[]\n",
    "    for i,row in enumerate(state):\n",
    "        for j,col in enumerate(row):\n",
    "            if col==1:\n",
    "                obstacle_positions.append((i,j))\n",
    "    return (x,y) not in obstacle_positions"
   ]
  },
  {
   "cell_type": "code",
   "execution_count": 78,
   "id": "a2e8d8b0-f061-4a54-ade3-2a460509a45d",
   "metadata": {},
   "outputs": [
    {
     "data": {
      "text/plain": [
       "True"
      ]
     },
     "execution_count": 78,
     "metadata": {},
     "output_type": "execute_result"
    }
   ],
   "source": [
    "obstacles(state,(0,0))"
   ]
  },
  {
   "cell_type": "code",
   "execution_count": 79,
   "id": "068582f2-bc41-447e-b5d3-0c54c2a9ea0e",
   "metadata": {},
   "outputs": [],
   "source": [
    "def same_position(poz1,poz2):\n",
    "    x1,y1=poz1\n",
    "    x2,y2=poz2\n",
    "    if x1 == x2 and y1 == y2:\n",
    "        return False\n",
    "    else:\n",
    "        return True"
   ]
  },
  {
   "cell_type": "code",
   "execution_count": 80,
   "id": "bc51ece7-a15b-48dd-872b-dc86d931e963",
   "metadata": {},
   "outputs": [],
   "source": [
    "def is_valid(state,x1,y1,x2,y2):\n",
    "    if table_limits((x1,y1)) and obstacles(state,(x1,y1)) and mismatch((x1,y1),(x2,y2)):\n",
    "        return True\n",
    "    else:\n",
    "        return False"
   ]
  },
  {
   "cell_type": "code",
   "execution_count": null,
   "id": "f50d38b2-2757-42b0-86f2-6a554ed38621",
   "metadata": {},
   "outputs": [],
   "source": []
  },
  {
   "cell_type": "code",
   "execution_count": 104,
   "id": "15156046-44ea-45e4-b276-c99776082801",
   "metadata": {},
   "outputs": [],
   "source": [
    "def expand_state(state):\n",
    "    states = []   # lista kade kje gi skladirame prosirenite\n",
    "    new_state_matrix = [list(row) for row in state] # hard copy na state\n",
    "\n",
    "    possible_moves=[(1,0),(-1,0),(0,1),(0,-1)]\n",
    "    \n",
    "    x,y=find_pos_A1(state)\n",
    "    i,j=find_pos_A2(state)\n",
    "\n",
    "    for (dx,dy),(di,dj) in zip(possible_moves,possible_moves):\n",
    " #povtorno iterira istovremeno za dvata elementi vo listata\n",
    "        new_state_matrix = [list(row) for row in state] # povtorno hard copy na state\n",
    "        new_x = x + dx #pomestuvanja\n",
    "        new_y = y + dy\n",
    "        new_i = i + di\n",
    "        new_j = j + dj\n",
    "        #print(new_x,new_y,new_w,new_z)\n",
    "        if same_position((new_x,new_y),(new_i,new_j)):\n",
    "            if limits_of_table((new_x,new_y)) and obstacles(state,(new_x,new_y)):\n",
    "                new_state_matrix[x][y] = 0\n",
    "                new_state_matrix[new_x][new_y] = 2\n",
    "            if limits_of_table((new_i,new_j)) and obstacles(state,(new_i,new_j)):\n",
    "                new_state_matrix[i][j] = 0\n",
    "                new_state_matrix[new_i][new_j] = 3\n",
    "           \n",
    "        \n",
    "\n",
    "        states.append((1,tuple(map(tuple,new_state_matrix))))\n",
    "    return states \n",
    "\n"
   ]
  },
  {
   "cell_type": "code",
   "execution_count": 105,
   "id": "e10575af-1cad-4c13-8871-fd937acada78",
   "metadata": {},
   "outputs": [
    {
     "data": {
      "text/plain": [
       "[(1,\n",
       "  ((0, 0, 0, 0, 0),\n",
       "   (1, 1, 0, 1, 0),\n",
       "   (0, 0, 0, 1, 4),\n",
       "   (2, 1, 0, 0, 0),\n",
       "   (0, 0, 3, 0, 5))),\n",
       " (1,\n",
       "  ((0, 0, 0, 0, 0),\n",
       "   (1, 1, 0, 1, 0),\n",
       "   (2, 0, 0, 1, 4),\n",
       "   (0, 1, 3, 0, 0),\n",
       "   (0, 0, 0, 0, 5))),\n",
       " (1,\n",
       "  ((0, 0, 0, 0, 0),\n",
       "   (1, 1, 0, 1, 0),\n",
       "   (0, 2, 0, 1, 4),\n",
       "   (0, 1, 0, 0, 0),\n",
       "   (0, 0, 0, 3, 5))),\n",
       " (1,\n",
       "  ((0, 0, 0, 0, 0),\n",
       "   (1, 1, 0, 1, 0),\n",
       "   (2, 0, 0, 1, 4),\n",
       "   (0, 1, 0, 0, 0),\n",
       "   (0, 3, 0, 0, 5)))]"
      ]
     },
     "execution_count": 105,
     "metadata": {},
     "output_type": "execute_result"
    }
   ],
   "source": [
    "expand_state(state)"
   ]
  },
  {
   "cell_type": "code",
   "execution_count": 92,
   "id": "d56ddf9b-a910-4bfe-bdba-f772c9059b2d",
   "metadata": {},
   "outputs": [],
   "source": [
    "state=(\n",
    "    (0,0,0,0,0),\n",
    "    (1,1,0,1,0),\n",
    "    (2,0,0,1,4),\n",
    "    (0,1,0,0,0),\n",
    "    (0,0,3,0,5)\n",
    "    \n",
    ")"
   ]
  },
  {
   "cell_type": "code",
   "execution_count": 93,
   "id": "084eb522-ee4a-4056-b2f4-7447e3bf4e18",
   "metadata": {},
   "outputs": [],
   "source": [
    "def manhattan_distance(state, target):\n",
    "    return abs(state[0] - target[0]) + abs(state[1] - target[1])"
   ]
  },
  {
   "cell_type": "code",
   "execution_count": 94,
   "id": "9834e934-dc04-44ec-b451-908e177a178a",
   "metadata": {},
   "outputs": [],
   "source": [
    "def heuristic(state):\n",
    "    count=0\n",
    "    x,y=find_pos_A1(state)\n",
    "    i,j=find_pos_A2(state)\n",
    "    count+=manhattan_distance((x,y),(2,4))\n",
    "    count+=manhattan_distance((i,j),(4,4))\n",
    "    return count"
   ]
  },
  {
   "cell_type": "code",
   "execution_count": 95,
   "id": "225ac759-dc8a-4e85-921d-1937bcc164cc",
   "metadata": {},
   "outputs": [
    {
     "data": {
      "text/plain": [
       "6"
      ]
     },
     "execution_count": 95,
     "metadata": {},
     "output_type": "execute_result"
    }
   ],
   "source": [
    "heuristic(state)"
   ]
  },
  {
   "cell_type": "code",
   "execution_count": 102,
   "id": "baf9306d-3b52-4426-ab18-e329185dfd14",
   "metadata": {},
   "outputs": [],
   "source": [
    "def a_star_search(initial_state, h, alpha=1): \n",
    "    expanded=set()\n",
    "    if check_end(state_to_expand): \n",
    "        return []\n",
    "    queue=[((0,0),[starting_vertex])]\n",
    "    heapq.heapify(queue)\n",
    "\n",
    "    while queue:\n",
    "        weight, state_list=heapq.heappop(queue)\n",
    "        current_a_star_weight, current_path_weight=weight\n",
    "        state_to_expand=state_list[-1]\n",
    "        if check_end(state_to_expand):\n",
    "            return current_path_weight, state_list\n",
    "        else:\n",
    "            for next_state in expand_state(state_to_expand):\n",
    "                if next_state not in expanded:\n",
    "                    h=heuristic(neighbour)\n",
    "                    path_weight=current_path_weight+1\n",
    "                    a_star_weight=path_weight+alpha*h\n",
    "                    heapq.heappush(queue, ((a_star_weight, path_weight), state_list+[next_state]))\n",
    "                expanded.add(next_state)\n"
   ]
  },
  {
   "cell_type": "code",
   "execution_count": 103,
   "id": "6fcfc126-fe25-4c50-b9e0-31bc34963cb0",
   "metadata": {},
   "outputs": [
    {
     "ename": "UnboundLocalError",
     "evalue": "cannot access local variable 'state_to_expand' where it is not associated with a value",
     "output_type": "error",
     "traceback": [
      "\u001b[0;31m---------------------------------------------------------------------------\u001b[0m",
      "\u001b[0;31mUnboundLocalError\u001b[0m                         Traceback (most recent call last)",
      "Cell \u001b[0;32mIn[103], line 1\u001b[0m\n\u001b[0;32m----> 1\u001b[0m \u001b[43ma_star_search\u001b[49m\u001b[43m(\u001b[49m\u001b[43mstate\u001b[49m\u001b[43m,\u001b[49m\u001b[43mheuristic\u001b[49m\u001b[43m)\u001b[49m\n",
      "Cell \u001b[0;32mIn[102], line 3\u001b[0m, in \u001b[0;36ma_star_search\u001b[0;34m(initial_state, h, alpha)\u001b[0m\n\u001b[1;32m      1\u001b[0m \u001b[38;5;28;01mdef\u001b[39;00m \u001b[38;5;21ma_star_search\u001b[39m(initial_state, h, alpha\u001b[38;5;241m=\u001b[39m\u001b[38;5;241m1\u001b[39m): \n\u001b[1;32m      2\u001b[0m     expanded\u001b[38;5;241m=\u001b[39m\u001b[38;5;28mset\u001b[39m()\n\u001b[0;32m----> 3\u001b[0m     \u001b[38;5;28;01mif\u001b[39;00m check_end(\u001b[43mstate_to_expand\u001b[49m): \n\u001b[1;32m      4\u001b[0m         \u001b[38;5;28;01mreturn\u001b[39;00m []\n\u001b[1;32m      5\u001b[0m     queue\u001b[38;5;241m=\u001b[39m[((\u001b[38;5;241m0\u001b[39m,\u001b[38;5;241m0\u001b[39m),[starting_vertex])]\n",
      "\u001b[0;31mUnboundLocalError\u001b[0m: cannot access local variable 'state_to_expand' where it is not associated with a value"
     ]
    }
   ],
   "source": [
    "a_star_search(state,heuristic)"
   ]
  },
  {
   "cell_type": "code",
   "execution_count": null,
   "id": "d97a1076-4ba0-4f40-81c4-ee4f11e536e4",
   "metadata": {},
   "outputs": [],
   "source": []
  },
  {
   "cell_type": "code",
   "execution_count": null,
   "id": "6962b8db-2aa5-4eb6-b67c-751a15fd52c3",
   "metadata": {},
   "outputs": [],
   "source": []
  },
  {
   "cell_type": "markdown",
   "id": "47961e32-168c-452a-b0c7-f45d5e29c087",
   "metadata": {},
   "source": [
    "## ZADACA 2"
   ]
  },
  {
   "cell_type": "markdown",
   "id": "aa9df126-2fb2-4a7d-9be6-b522cc472fed",
   "metadata": {},
   "source": [
    "Задача: Синхронизирано собирање на ресурси во лавиринт\n",
    "\n",
    "Имате лавиринт претставен како матрица N×NN×N, каде што постојат MM агенти и KK ресурси. Целта е сите агенти заеднички да соберат што повеќе ресурси во најмал број чекори.\n",
    "Услови:\n",
    "\n",
    "    Агенти и ресурси:\n",
    "        Агентите се обележани како A1,A2,…,AMA1,A2,…,AM.\n",
    "        Ресурсите се обележани со R.\n",
    "\n",
    "    Лавиринт:\n",
    "        Матрицата содржи празни полиња (0), ѕидови (X), почетни позиции на агенти (A1, A2, ...), и ресурси (R).\n",
    "\n",
    "    Правила на движење:\n",
    "        Агенти можат да се движат горе, долу, лево или десно за едно поле по чекор.\n",
    "        Движењата на сите агенти се симултани.\n",
    "        Агенти не смеат:\n",
    "            Да завршат на исто поле.\n",
    "            Да се судрат при преминување (на пр. A1A1 се движи на полето каде што A2A2 моментално е и обратно).\n",
    "        Агенти не можат да поминат низ ѕидови (X).\n",
    "\n",
    "    Цел:\n",
    "        Соберете што повеќе ресурси со сите агенти.\n",
    "        Враќање на минималниот број чекори потребни за собирање на сите ресурси или колку што е можно повеќе.\n",
    "        Агентите може да престанат да се движат откако ќе ги соберат ресурсите во нивна близина.\n",
    "\n",
    "    Хевристика (додатно):\n",
    "        Минимизирај ја дистрибуцијата на патиштата: агенти кои се поблиску до ресурсите треба први да ги соберат.\n",
    "\n",
    "Влез:\n",
    "\n",
    "Пример за лавиринт:\n",
    "\n",
    "N = 6\n",
    "Лавиринт:\n",
    "0  0  X  R  0  0\n",
    "0  A1 0  0  R  0\n",
    "0  X  0  0  0  0\n",
    "0  0  R  0  0  0\n",
    "0  A2 0  0  0  R\n",
    "0  0  0  0  0  0\n",
    "\n",
    "    A1A1: Почетна позиција на првиот агент.\n",
    "    A2A2: Почетна позиција на вториот агент.\n",
    "    RR: Ресурси кои треба да се соберат.\n",
    "\n",
    "Барање:\n",
    "\n",
    "    Движењата на агентите треба да бидат координирани за да се соберат ресурсите во минимален број чекори.\n",
    "    Враќање на следниве податоци:\n",
    "        Број на собрани ресурси.\n",
    "        Број на чекори потребни за собирање.\n",
    "        Последователност на движењата (на пр. „A1A1: горе, A2A2: десно“).\n",
    "\n",
    "Ограничувања:\n",
    "\n",
    "    N≤10N≤10\n",
    "    M≤3M≤3\n",
    "    K≤5K≤5"
   ]
  },
  {
   "cell_type": "code",
   "execution_count": 106,
   "id": "8200675d-5957-4d59-9dc2-1ae56b387e8e",
   "metadata": {},
   "outputs": [],
   "source": [
    "state=(\n",
    "    (0,0,1,4,0,0),\n",
    "    (0,2,0,0,4,0),\n",
    "    (0,1,0,0,0,0),\n",
    "    (0,0,4,0,0,0),\n",
    "    (0,3,0,0,0,4),\n",
    "    (0,0,0,0,0,0)\n",
    ")"
   ]
  },
  {
   "cell_type": "code",
   "execution_count": 107,
   "id": "5b426766-3de7-4826-822e-1e55cc3e37fe",
   "metadata": {},
   "outputs": [],
   "source": [
    "def end_check(state):\n",
    "    table_check_matrix = [list(row) for row in state]\n",
    "    count_stars = sum(row.count(4) for row in table_check_matrix) #ovde broj kolku trojki ima na matricata ako nema trojki togas ja resivme zad\n",
    "    #print(count_1)\n",
    "    if count_stars == 0:\n",
    "        return True\n",
    "    else:\n",
    "        return False\n",
    "\n"
   ]
  },
  {
   "cell_type": "code",
   "execution_count": 108,
   "id": "20a911c1-cfcc-4f0f-a6a8-f8faf9347f1b",
   "metadata": {},
   "outputs": [],
   "source": [
    "def limits_of_table(state):\n",
    "    x,y = state\n",
    "    if 0 <= x and x <6 and 0 <= y and y <6:\n",
    "        return True\n",
    "    else:\n",
    "        return False"
   ]
  },
  {
   "cell_type": "code",
   "execution_count": 125,
   "id": "953736e8-7999-4b43-a8d7-753ffea31fcc",
   "metadata": {},
   "outputs": [],
   "source": [
    "def obstacles(state,poz):\n",
    "    x,y=poz\n",
    "    obstacle_positions=[]\n",
    "    for i,row in enumerate(state):\n",
    "        for j,col in enumerate(row):\n",
    "            if col==1:\n",
    "                obstacle_positions.append((i,j))\n",
    "    return (x,y) not in obstacle_positions"
   ]
  },
  {
   "cell_type": "code",
   "execution_count": 126,
   "id": "75510d4a-eb5b-4ff0-b0ba-5f4e89bd315e",
   "metadata": {},
   "outputs": [],
   "source": [
    "def is_valid(state,poz):\n",
    "    x,y=poz\n",
    "    if limits_of_table(poz) and obstacles(state,poz):\n",
    "        return True\n",
    "\n",
    "    else:\n",
    "        return False"
   ]
  },
  {
   "cell_type": "code",
   "execution_count": 127,
   "id": "849710a0-42ca-4d6f-a492-998d2d7b2c07",
   "metadata": {},
   "outputs": [],
   "source": [
    "def same_position(state_A1, state_A2):\n",
    "    x,y = state_A1\n",
    "    w,z = state_A2\n",
    "\n",
    "    if x == w and y == z:\n",
    "        return False\n",
    "    else:\n",
    "        return True"
   ]
  },
  {
   "cell_type": "code",
   "execution_count": 128,
   "id": "cbdbc994-5b86-400c-9d63-3ffe1e9734b0",
   "metadata": {},
   "outputs": [],
   "source": [
    "def find_pos_A1(matrix_state):\n",
    "    for i, row in enumerate(matrix_state):\n",
    "        for j, column in enumerate(row):\n",
    "            if matrix_state[i][j] == 2:\n",
    "                return (i,j)\n",
    "    return(0,0)"
   ]
  },
  {
   "cell_type": "code",
   "execution_count": 129,
   "id": "8a6e69c3-35c0-4c5f-b1c4-8a193e3e9c72",
   "metadata": {},
   "outputs": [],
   "source": [
    "def find_pos_A2(matrix_state):\n",
    "    for i, row in enumerate(matrix_state):\n",
    "        for j, column in enumerate(row):\n",
    "            if matrix_state[i][j] == 3:\n",
    "                return (i,j)\n",
    "    return(0,0)"
   ]
  },
  {
   "cell_type": "code",
   "execution_count": 130,
   "id": "d1eef136-ffb0-441d-bc92-d06f6ef46e47",
   "metadata": {},
   "outputs": [],
   "source": [
    "def expand_state(state):\n",
    "    states = []\n",
    "    new_state_matrix = [list(row) for row in state]\n",
    "\n",
    "    possible_moves=[(1,0),(-1,0),(0,1),(0,-1)]\n",
    "    \n",
    "    x,y = find_pos_A1(new_state_matrix)\n",
    "    w,z = find_pos_A2(new_state_matrix)\n",
    "\n",
    "    for (dx,dy),(dw,dz) in zip(possible_moves, possible_moves):\n",
    "        new_state_matrix = [list(row) for row in state]\n",
    "        new_x = x + dx\n",
    "        new_y = y + dy\n",
    "        new_w = w + dw\n",
    "        new_z = z + dz\n",
    "        #print(new_x,new_y,new_w,new_z)\n",
    "        if same_position((new_x,new_y),(new_w,new_z)):\n",
    "            if is_valid(state,(new_x,new_y)):\n",
    "                new_state_matrix[x][y] = 0\n",
    "                new_state_matrix[new_x][new_y] = 2\n",
    "            if is_valid(state,(new_w,new_z)):\n",
    "                new_state_matrix[w][z] = 0\n",
    "                new_state_matrix[new_w][new_z] = 3\n",
    "            states.append((1,tuple(map(tuple,new_state_matrix))))\n",
    "    return states "
   ]
  },
  {
   "cell_type": "code",
   "execution_count": 131,
   "id": "06466591-1ab8-4707-b519-f4bf8c793139",
   "metadata": {},
   "outputs": [
    {
     "data": {
      "text/plain": [
       "[(1,\n",
       "  ((0, 0, 1, 4, 0, 0),\n",
       "   (0, 2, 0, 0, 4, 0),\n",
       "   (0, 1, 0, 0, 0, 0),\n",
       "   (0, 0, 4, 0, 0, 0),\n",
       "   (0, 0, 0, 0, 0, 4),\n",
       "   (0, 3, 0, 0, 0, 0))),\n",
       " (1,\n",
       "  ((0, 2, 1, 4, 0, 0),\n",
       "   (0, 0, 0, 0, 4, 0),\n",
       "   (0, 1, 0, 0, 0, 0),\n",
       "   (0, 3, 4, 0, 0, 0),\n",
       "   (0, 0, 0, 0, 0, 4),\n",
       "   (0, 0, 0, 0, 0, 0))),\n",
       " (1,\n",
       "  ((0, 0, 1, 4, 0, 0),\n",
       "   (0, 0, 2, 0, 4, 0),\n",
       "   (0, 1, 0, 0, 0, 0),\n",
       "   (0, 0, 4, 0, 0, 0),\n",
       "   (0, 0, 3, 0, 0, 4),\n",
       "   (0, 0, 0, 0, 0, 0))),\n",
       " (1,\n",
       "  ((0, 0, 1, 4, 0, 0),\n",
       "   (2, 0, 0, 0, 4, 0),\n",
       "   (0, 1, 0, 0, 0, 0),\n",
       "   (0, 0, 4, 0, 0, 0),\n",
       "   (3, 0, 0, 0, 0, 4),\n",
       "   (0, 0, 0, 0, 0, 0)))]"
      ]
     },
     "execution_count": 131,
     "metadata": {},
     "output_type": "execute_result"
    }
   ],
   "source": [
    "expand_state(state)"
   ]
  },
  {
   "cell_type": "code",
   "execution_count": null,
   "id": "de936c37-082d-41f1-81fd-92ccd5e41e93",
   "metadata": {},
   "outputs": [],
   "source": []
  },
  {
   "cell_type": "markdown",
   "id": "3af57cc4-6157-4f1a-b960-c5dee3771824",
   "metadata": {},
   "source": [
    "# ZADACA 3"
   ]
  },
  {
   "cell_type": "markdown",
   "id": "6bbec1a4-548c-42e4-acb4-78dd306ce767",
   "metadata": {},
   "source": [
    "Задача: Робот собирач на предмети\n",
    "Робот се движи низ лавиринт и треба да собере одреден број предмети и потоа да стигне до целна позиција. Лавиринтот е претставен како матрица \n",
    "𝑁\n",
    "×\n",
    "𝑀\n",
    "N×M, каде што:\n",
    "\n",
    "0 – проодно поле.\n",
    "1 – ѕид (непроодно поле).\n",
    "P – позиција со предмет (роботот треба да ги посети сите P).\n",
    "S – почетна позиција на роботот.\n",
    "G – целна позиција.\n",
    "Правила:\n",
    "Роботот може да се движи горе, долу, лево или десно.\n",
    "Може да помине низ исто поле повеќе пати, но не може да помине низ пречки (1).\n",
    "За да се смета дека задачата е завршена, роботот треба да ги посети сите полиња со P барем еднаш и потоа да стигне до G.\n",
    "Алгоритмот треба да најде најкраток пат што ги задоволува горните услови.\n",
    "Влез:\n",
    "Матрица \n",
    "\n",
    "N×M.\n",
    "Почетна позиција \n",
    "𝑆\n",
    " и целна позиција \n",
    "\n",
    "G.\n",
    "Координати на сите P.\n",
    "Излез:\n",
    "Најкраток пат (ако постои), претставен како листа од координати или порака дека нема решение. \n",
    "S 0 1 P 0\n",
    "1 0 1 0 0\n",
    "0 0 P 1 0\n",
    "P 1 1 1 G\n",
    "0 0 0 0 0\n",
    "Почетна позиција: \n",
    "𝑆=(0,0)\n",
    "S=(0,0)\n",
    "Целна позиција: \n",
    "𝐺=(3,4)\n",
    "G=(3,4)\n",
    "Полиња со предмети: \n",
    "𝑃={(0,3),(2,2),(3,0)}\n",
    "P={(0,3),(2,2),(3,0)}"
   ]
  },
  {
   "cell_type": "code",
   "execution_count": 216,
   "id": "d46e50a2-8096-4176-a94e-c1bbd7238348",
   "metadata": {},
   "outputs": [],
   "source": [
    "# 1- dzid\n",
    "# 2 - predmet\n",
    "# 3- robot\n",
    "# 4- cel\n",
    "state=(\n",
    "    (3,0,1,2,0),\n",
    "    (1,0,1,0,0),\n",
    "    (0,0,0,1,0),\n",
    "    (2,1,1,1,4),\n",
    "    (0,0,0,0,0)\n",
    "    \n",
    ")\n",
    "\n",
    "goal=(\n",
    "    (0,0,1,0,0),\n",
    "    (1,0,1,0,0),\n",
    "    (0,0,0,1,0),\n",
    "    (0,1,1,1,3),\n",
    "    (0,0,0,0,0)\n",
    "    \n",
    ")\n",
    "cel=(3,4)"
   ]
  },
  {
   "cell_type": "code",
   "execution_count": 217,
   "id": "e82985b8-b52d-4299-871b-31eb2972a32f",
   "metadata": {},
   "outputs": [],
   "source": [
    "def end_check(state):\n",
    "    table_check_matrix = [list(row) for row in state]\n",
    "    for i,row in enumerate(state):\n",
    "        for j,col in enumerate(row):\n",
    "            if col==3:\n",
    "                robot=(i,j)\n",
    "    count_stars = sum(row.count(2) for row in table_check_matrix) #ovde broj kolku trojki ima na matricata ako nema trojki togas ja resivme zad\n",
    "    #print(count_1)\n",
    "    if count_stars == 0:\n",
    "        if robot==(3,4):\n",
    "            return True\n",
    "    else:\n",
    "        return False\n"
   ]
  },
  {
   "cell_type": "code",
   "execution_count": 218,
   "id": "ebf44410-b22a-43e4-b2f1-0f9f285cc1d4",
   "metadata": {},
   "outputs": [
    {
     "data": {
      "text/plain": [
       "True"
      ]
     },
     "execution_count": 218,
     "metadata": {},
     "output_type": "execute_result"
    }
   ],
   "source": [
    "end_check(goal)"
   ]
  },
  {
   "cell_type": "code",
   "execution_count": 219,
   "id": "947c4c13-79ba-488a-b3e8-68381f3413f0",
   "metadata": {},
   "outputs": [],
   "source": [
    "def table_limits(pozicija):\n",
    "    x,y=pozicija\n",
    "    if 0<=x<5 and 0<=y<5:\n",
    "        return True\n",
    "\n",
    "    return False"
   ]
  },
  {
   "cell_type": "code",
   "execution_count": 220,
   "id": "c0a6bb1c-6a46-43eb-a85a-ee73037a3764",
   "metadata": {},
   "outputs": [],
   "source": [
    "def obstacles(state,poz):\n",
    "    x,y=poz\n",
    "    obstacle_positions=[]\n",
    "    for i,row in enumerate(state):\n",
    "        for j,col in enumerate(row):\n",
    "            if col==1:\n",
    "                obstacle_positions.append((i,j))\n",
    "    return (x,y) not in obstacle_positions"
   ]
  },
  {
   "cell_type": "code",
   "execution_count": 221,
   "id": "88cac381-dbf5-48ad-9297-7c4310f31df8",
   "metadata": {},
   "outputs": [],
   "source": [
    "def is_valid(state,pozicija):\n",
    "    if table_limits(pozicija) and obstacles(state,pozicija):\n",
    "        return True\n",
    "    return False"
   ]
  },
  {
   "cell_type": "code",
   "execution_count": null,
   "id": "c909f6c3-81f7-4103-b357-92250fa392da",
   "metadata": {},
   "outputs": [],
   "source": []
  },
  {
   "cell_type": "code",
   "execution_count": 235,
   "id": "86c82a9a-40c3-43df-a29e-575488ec2d37",
   "metadata": {},
   "outputs": [],
   "source": [
    "def find_predmet(state):\n",
    "    lista=[]\n",
    "    for i,row in enumerate(state):\n",
    "        for j,col in enumerate(row):\n",
    "            if col==2:\n",
    "                lista.append((i,j))\n",
    "    return tuple(lista)"
   ]
  },
  {
   "cell_type": "code",
   "execution_count": 222,
   "id": "c5ca8e4c-35ab-49e5-a5ad-2200387a3c55",
   "metadata": {},
   "outputs": [],
   "source": [
    "def find_position_robot(state):\n",
    "    for i,row in enumerate(state):\n",
    "        for j,col in enumerate(row):\n",
    "            if col==3:\n",
    "                return (i,j)"
   ]
  },
  {
   "cell_type": "code",
   "execution_count": 274,
   "id": "519939ad-424b-4731-b68d-8a8aac460e3f",
   "metadata": {},
   "outputs": [],
   "source": [
    "def expand_state(state):\n",
    "    new_states=[]\n",
    "    new_state_matrix=[list(row) for row in state]\n",
    "    possible_moves_robot=[(0,1),(0,-1),(1,0),(-1,0)]\n",
    "    x,y =find_position_robot(new_state_matrix)\n",
    "    for (dx, dy) in possible_moves_robot:\n",
    "        new_state_matrix=[list(row) for row in state]\n",
    "        new_x=x+dx\n",
    "        new_y=y+dy\n",
    "        if is_valid(state,(new_x,new_y)):\n",
    "            new_state_matrix[x][y] = 0\n",
    "            new_state_matrix[new_x][new_y] = 3\n",
    "            new_states.append((1,tuple(map(tuple,new_state_matrix))))\n",
    "    \n",
    "    return tuple(new_states)"
   ]
  },
  {
   "cell_type": "code",
   "execution_count": 245,
   "id": "9cadf82c-12ca-4738-a9ee-76081e54f4dc",
   "metadata": {},
   "outputs": [
    {
     "data": {
      "text/plain": [
       "(((0, 3, 1, 2, 0),\n",
       "  (1, 0, 1, 0, 0),\n",
       "  (0, 0, 0, 1, 0),\n",
       "  (2, 1, 1, 1, 4),\n",
       "  (0, 0, 0, 0, 0)),)"
      ]
     },
     "execution_count": 245,
     "metadata": {},
     "output_type": "execute_result"
    }
   ],
   "source": [
    "expand_state(state)"
   ]
  },
  {
   "cell_type": "code",
   "execution_count": 246,
   "id": "cddea632-7e01-4710-97c7-cfc9711d0aab",
   "metadata": {},
   "outputs": [],
   "source": [
    "from collections import deque\n",
    "\n",
    "def search_path(initial_state):\n",
    "    visited = {initial_state}\n",
    "    states_queue = deque([[initial_state]])\n",
    "    while states_queue:\n",
    "        states_list = states_queue.popleft()\n",
    "        state_to_expand = states_list[-1]\n",
    "        for next_state in expand_state(state_to_expand):\n",
    "            if next_state not in visited:\n",
    "                if end_check(next_state):\n",
    "                    return states_list + [next_state]\n",
    "                visited.add(next_state)\n",
    "                states_queue.append(states_list + [next_state])\n",
    "    return []"
   ]
  },
  {
   "cell_type": "code",
   "execution_count": null,
   "id": "42c8c5fc-de7d-46f1-951b-b2dd63beeb05",
   "metadata": {},
   "outputs": [],
   "source": [
    "search_path(state)"
   ]
  },
  {
   "cell_type": "code",
   "execution_count": 275,
   "id": "ac0f216b-5ecf-4310-9d21-399e4937e735",
   "metadata": {},
   "outputs": [],
   "source": [
    "def manhattan_distance(state_1,state_2):\n",
    "    return abs(state_1[0] - state_2[0]) + abs(state_1[1] - state_2[1])\n"
   ]
  },
  {
   "cell_type": "code",
   "execution_count": 285,
   "id": "a025a84f-831d-463d-96bc-d4481adfa54b",
   "metadata": {},
   "outputs": [],
   "source": [
    "def heuristics(state):\n",
    "    predmeti=[]\n",
    "    count=0\n",
    "    robot=find_position_robot(state)\n",
    "    predmeti=find_predmet(state)\n",
    "    for pozicija in predmeti:\n",
    "        x,y=pozicija\n",
    "        count+=manhattan_distance(robot,pozicija)\n",
    "    count+=manhattan_distance(robot,(3,4))\n",
    "    return count"
   ]
  },
  {
   "cell_type": "code",
   "execution_count": 286,
   "id": "4c717c61-ce6d-4416-9cc0-61e5739cb1d1",
   "metadata": {},
   "outputs": [
    {
     "data": {
      "text/plain": [
       "4.333333333333333"
      ]
     },
     "execution_count": 286,
     "metadata": {},
     "output_type": "execute_result"
    }
   ],
   "source": [
    "heuristic(state)"
   ]
  },
  {
   "cell_type": "code",
   "execution_count": 278,
   "id": "1337b567-d6e9-4f73-9839-f11815488c19",
   "metadata": {},
   "outputs": [],
   "source": [
    "import heapq\n",
    "def a_star_search1(initial_state, h, alpha=1):\n",
    "    expanded=set()\n",
    "    \n",
    "    queue=[((0,0),[initial_state])]\n",
    "    heapq.heapify(queue)\n",
    "    while queue:\n",
    "        weight, state_list=heapq.heappop(queue)\n",
    "        current_a_star_weight, current_path_weight=weight\n",
    "        state_to_expand=state_list[-1]\n",
    "        if check_end(state_to_expand):\n",
    "            return current_path_weight, state_list\n",
    "        else:\n",
    "            for next_state in expand_state(state_to_expand):\n",
    "                if next_state not in expanded:\n",
    "                    h=heuristics(next_state)\n",
    "                    path_weight=current_path_weight+1\n",
    "                    a_star_weight=path_weight+alpha*h\n",
    "                    heapq.heappush(queue, ((a_star_weight, path_weight), state_list+[next_state]))\n",
    "                expanded.add(next_state)"
   ]
  },
  {
   "cell_type": "code",
   "execution_count": 280,
   "id": "74d044c2-a140-4a9a-ae0d-0166f0f2b047",
   "metadata": {},
   "outputs": [
    {
     "ename": "TypeError",
     "evalue": "'int' object is not iterable",
     "output_type": "error",
     "traceback": [
      "\u001b[0;31m---------------------------------------------------------------------------\u001b[0m",
      "\u001b[0;31mTypeError\u001b[0m                                 Traceback (most recent call last)",
      "Cell \u001b[0;32mIn[280], line 1\u001b[0m\n\u001b[0;32m----> 1\u001b[0m \u001b[43ma_star_search1\u001b[49m\u001b[43m(\u001b[49m\u001b[43mstate\u001b[49m\u001b[43m,\u001b[49m\u001b[43mheuristics\u001b[49m\u001b[43m)\u001b[49m\n",
      "Cell \u001b[0;32mIn[278], line 16\u001b[0m, in \u001b[0;36ma_star_search1\u001b[0;34m(initial_state, h, alpha)\u001b[0m\n\u001b[1;32m     14\u001b[0m \u001b[38;5;28;01mfor\u001b[39;00m next_state \u001b[38;5;129;01min\u001b[39;00m expand_state(state_to_expand):\n\u001b[1;32m     15\u001b[0m     \u001b[38;5;28;01mif\u001b[39;00m next_state \u001b[38;5;129;01mnot\u001b[39;00m \u001b[38;5;129;01min\u001b[39;00m expanded:\n\u001b[0;32m---> 16\u001b[0m         h\u001b[38;5;241m=\u001b[39m\u001b[43mheuristics\u001b[49m\u001b[43m(\u001b[49m\u001b[43mnext_state\u001b[49m\u001b[43m)\u001b[49m\n\u001b[1;32m     17\u001b[0m         path_weight\u001b[38;5;241m=\u001b[39mcurrent_path_weight\u001b[38;5;241m+\u001b[39m\u001b[38;5;241m1\u001b[39m\n\u001b[1;32m     18\u001b[0m         a_star_weight\u001b[38;5;241m=\u001b[39mpath_weight\u001b[38;5;241m+\u001b[39malpha\u001b[38;5;241m*\u001b[39mh\n",
      "Cell \u001b[0;32mIn[276], line 4\u001b[0m, in \u001b[0;36mheuristics\u001b[0;34m(state)\u001b[0m\n\u001b[1;32m      2\u001b[0m predmeti\u001b[38;5;241m=\u001b[39m[]\n\u001b[1;32m      3\u001b[0m count\u001b[38;5;241m=\u001b[39m\u001b[38;5;241m0\u001b[39m\n\u001b[0;32m----> 4\u001b[0m robot\u001b[38;5;241m=\u001b[39m\u001b[43mfind_position_robot\u001b[49m\u001b[43m(\u001b[49m\u001b[43mstate\u001b[49m\u001b[43m)\u001b[49m\n\u001b[1;32m      5\u001b[0m predmeti\u001b[38;5;241m=\u001b[39mfind_predmet(state)\n\u001b[1;32m      6\u001b[0m \u001b[38;5;28;01mfor\u001b[39;00m pozicija \u001b[38;5;129;01min\u001b[39;00m predmeti:\n",
      "Cell \u001b[0;32mIn[222], line 3\u001b[0m, in \u001b[0;36mfind_position_robot\u001b[0;34m(state)\u001b[0m\n\u001b[1;32m      1\u001b[0m \u001b[38;5;28;01mdef\u001b[39;00m \u001b[38;5;21mfind_position_robot\u001b[39m(state):\n\u001b[1;32m      2\u001b[0m     \u001b[38;5;28;01mfor\u001b[39;00m i,row \u001b[38;5;129;01min\u001b[39;00m \u001b[38;5;28menumerate\u001b[39m(state):\n\u001b[0;32m----> 3\u001b[0m         \u001b[38;5;28;01mfor\u001b[39;00m j,col \u001b[38;5;129;01min\u001b[39;00m \u001b[38;5;28;43menumerate\u001b[39;49m\u001b[43m(\u001b[49m\u001b[43mrow\u001b[49m\u001b[43m)\u001b[49m:\n\u001b[1;32m      4\u001b[0m             \u001b[38;5;28;01mif\u001b[39;00m col\u001b[38;5;241m==\u001b[39m\u001b[38;5;241m3\u001b[39m:\n\u001b[1;32m      5\u001b[0m                 \u001b[38;5;28;01mreturn\u001b[39;00m (i,j)\n",
      "\u001b[0;31mTypeError\u001b[0m: 'int' object is not iterable"
     ]
    }
   ],
   "source": [
    "a_star_search1(state,heuristics)"
   ]
  },
  {
   "cell_type": "code",
   "execution_count": 287,
   "id": "bcc6bc5d-b685-4632-ad0c-d7d43f21b156",
   "metadata": {},
   "outputs": [],
   "source": [
    "import heapq\n",
    "\n",
    "def a_star_search(initial_state, goal_state):\n",
    "    \n",
    "    queue = [((0, 0), [initial_state])]\n",
    "    heapq.heapify(queue)\n",
    "    expanded = set()\n",
    "    \n",
    "    while queue:\n",
    "        current_weight_tuple, list_to_expand = heapq.heappop(queue)\n",
    "        current_a_star_weight, current_path_weight = current_weight_tuple\n",
    "        state_to_expand = list_to_expand[-1]\n",
    "        \n",
    "        if state_to_expand == goal_state:\n",
    "            return current_path_weight, list_to_expand\n",
    "        \n",
    "        if state_to_expand not in expanded:\n",
    "            for next_path_weight, next_state in expand_state(state_to_expand):\n",
    "                if next_state not in expanded:\n",
    "                    total_path_weight = current_path_weight + next_path_weight\n",
    "                    a_star_weight = total_path_weight + heuristic(next_state)\n",
    "                    heapq.heappush(queue, ((a_star_weight, total_path_weight), list_to_expand + [next_state]))\n",
    "            expanded.add(state_to_expand)"
   ]
  },
  {
   "cell_type": "code",
   "execution_count": 288,
   "id": "5ea9e2dc-cc60-4e86-8ac4-32380d42f7e7",
   "metadata": {},
   "outputs": [
    {
     "data": {
      "text/plain": [
       "(19,\n",
       " [((3, 0, 1, 2, 0),\n",
       "   (1, 0, 1, 0, 0),\n",
       "   (0, 0, 0, 1, 0),\n",
       "   (2, 1, 1, 1, 4),\n",
       "   (0, 0, 0, 0, 0)),\n",
       "  ((0, 3, 1, 2, 0),\n",
       "   (1, 0, 1, 0, 0),\n",
       "   (0, 0, 0, 1, 0),\n",
       "   (2, 1, 1, 1, 4),\n",
       "   (0, 0, 0, 0, 0)),\n",
       "  ((0, 0, 1, 2, 0),\n",
       "   (1, 3, 1, 0, 0),\n",
       "   (0, 0, 0, 1, 0),\n",
       "   (2, 1, 1, 1, 4),\n",
       "   (0, 0, 0, 0, 0)),\n",
       "  ((0, 0, 1, 2, 0),\n",
       "   (1, 0, 1, 0, 0),\n",
       "   (0, 3, 0, 1, 0),\n",
       "   (2, 1, 1, 1, 4),\n",
       "   (0, 0, 0, 0, 0)),\n",
       "  ((0, 0, 1, 2, 0),\n",
       "   (1, 0, 1, 0, 0),\n",
       "   (3, 0, 0, 1, 0),\n",
       "   (2, 1, 1, 1, 4),\n",
       "   (0, 0, 0, 0, 0)),\n",
       "  ((0, 0, 1, 2, 0),\n",
       "   (1, 0, 1, 0, 0),\n",
       "   (0, 0, 0, 1, 0),\n",
       "   (3, 1, 1, 1, 4),\n",
       "   (0, 0, 0, 0, 0)),\n",
       "  ((0, 0, 1, 2, 0),\n",
       "   (1, 0, 1, 0, 0),\n",
       "   (0, 0, 0, 1, 0),\n",
       "   (0, 1, 1, 1, 4),\n",
       "   (3, 0, 0, 0, 0)),\n",
       "  ((0, 0, 1, 2, 0),\n",
       "   (1, 0, 1, 0, 0),\n",
       "   (0, 0, 0, 1, 0),\n",
       "   (0, 1, 1, 1, 4),\n",
       "   (0, 3, 0, 0, 0)),\n",
       "  ((0, 0, 1, 2, 0),\n",
       "   (1, 0, 1, 0, 0),\n",
       "   (0, 0, 0, 1, 0),\n",
       "   (0, 1, 1, 1, 4),\n",
       "   (0, 0, 3, 0, 0)),\n",
       "  ((0, 0, 1, 2, 0),\n",
       "   (1, 0, 1, 0, 0),\n",
       "   (0, 0, 0, 1, 0),\n",
       "   (0, 1, 1, 1, 4),\n",
       "   (0, 0, 0, 3, 0)),\n",
       "  ((0, 0, 1, 2, 0),\n",
       "   (1, 0, 1, 0, 0),\n",
       "   (0, 0, 0, 1, 0),\n",
       "   (0, 1, 1, 1, 4),\n",
       "   (0, 0, 0, 0, 3)),\n",
       "  ((0, 0, 1, 2, 0),\n",
       "   (1, 0, 1, 0, 0),\n",
       "   (0, 0, 0, 1, 0),\n",
       "   (0, 1, 1, 1, 3),\n",
       "   (0, 0, 0, 0, 0)),\n",
       "  ((0, 0, 1, 2, 0),\n",
       "   (1, 0, 1, 0, 0),\n",
       "   (0, 0, 0, 1, 3),\n",
       "   (0, 1, 1, 1, 0),\n",
       "   (0, 0, 0, 0, 0)),\n",
       "  ((0, 0, 1, 2, 0),\n",
       "   (1, 0, 1, 0, 3),\n",
       "   (0, 0, 0, 1, 0),\n",
       "   (0, 1, 1, 1, 0),\n",
       "   (0, 0, 0, 0, 0)),\n",
       "  ((0, 0, 1, 2, 0),\n",
       "   (1, 0, 1, 3, 0),\n",
       "   (0, 0, 0, 1, 0),\n",
       "   (0, 1, 1, 1, 0),\n",
       "   (0, 0, 0, 0, 0)),\n",
       "  ((0, 0, 1, 3, 0),\n",
       "   (1, 0, 1, 0, 0),\n",
       "   (0, 0, 0, 1, 0),\n",
       "   (0, 1, 1, 1, 0),\n",
       "   (0, 0, 0, 0, 0)),\n",
       "  ((0, 0, 1, 0, 0),\n",
       "   (1, 0, 1, 3, 0),\n",
       "   (0, 0, 0, 1, 0),\n",
       "   (0, 1, 1, 1, 0),\n",
       "   (0, 0, 0, 0, 0)),\n",
       "  ((0, 0, 1, 0, 0),\n",
       "   (1, 0, 1, 0, 3),\n",
       "   (0, 0, 0, 1, 0),\n",
       "   (0, 1, 1, 1, 0),\n",
       "   (0, 0, 0, 0, 0)),\n",
       "  ((0, 0, 1, 0, 0),\n",
       "   (1, 0, 1, 0, 0),\n",
       "   (0, 0, 0, 1, 3),\n",
       "   (0, 1, 1, 1, 0),\n",
       "   (0, 0, 0, 0, 0)),\n",
       "  ((0, 0, 1, 0, 0),\n",
       "   (1, 0, 1, 0, 0),\n",
       "   (0, 0, 0, 1, 0),\n",
       "   (0, 1, 1, 1, 3),\n",
       "   (0, 0, 0, 0, 0))])"
      ]
     },
     "execution_count": 288,
     "metadata": {},
     "output_type": "execute_result"
    }
   ],
   "source": [
    "a_star_search(state,goal)"
   ]
  },
  {
   "cell_type": "code",
   "execution_count": null,
   "id": "2539a008-30e6-4f0f-acd5-dd011a9672ad",
   "metadata": {},
   "outputs": [],
   "source": []
  },
  {
   "cell_type": "code",
   "execution_count": null,
   "id": "4170d80d-3944-486a-97e9-917cbe3ba46d",
   "metadata": {},
   "outputs": [],
   "source": []
  }
 ],
 "metadata": {
  "kernelspec": {
   "display_name": "Python 3 (ipykernel)",
   "language": "python",
   "name": "python3"
  },
  "language_info": {
   "codemirror_mode": {
    "name": "ipython",
    "version": 3
   },
   "file_extension": ".py",
   "mimetype": "text/x-python",
   "name": "python",
   "nbconvert_exporter": "python",
   "pygments_lexer": "ipython3",
   "version": "3.12.6"
  }
 },
 "nbformat": 4,
 "nbformat_minor": 5
}
