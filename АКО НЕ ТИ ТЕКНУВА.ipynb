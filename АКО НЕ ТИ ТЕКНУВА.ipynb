{
 "cells": [
  {
   "cell_type": "markdown",
   "id": "fdf40f88-9c95-46a6-bd8a-a4dcf422a902",
   "metadata": {},
   "source": [
    "# ако се движи 1 агент (стар чес) само тргни го едниот\n",
    "# ако се движат 2 или повеќе агенти стар чес\n",
    "# ако треба нешто да се собере (без да се бутка и да застане на негово место) стар чес или задачите од вчера\n",
    "# ако треба да бутка до одредена позиција кутија\n",
    "# во дали е валидо пази ги у и икс\n",
    "# ако треба ѕид молекули\n",
    "# А* таа што прима гол\n",
    "# ако треба размена на еден елемент со друг кој му сосед - плочки\n",
    "# ако треба да се постави нешто на различно место на празна табла- сензори\n"
   ]
  }
 ],
 "metadata": {
  "kernelspec": {
   "display_name": "Python 3 (ipykernel)",
   "language": "python",
   "name": "python3"
  },
  "language_info": {
   "codemirror_mode": {
    "name": "ipython",
    "version": 3
   },
   "file_extension": ".py",
   "mimetype": "text/x-python",
   "name": "python",
   "nbconvert_exporter": "python",
   "pygments_lexer": "ipython3",
   "version": "3.12.6"
  }
 },
 "nbformat": 4,
 "nbformat_minor": 5
}
