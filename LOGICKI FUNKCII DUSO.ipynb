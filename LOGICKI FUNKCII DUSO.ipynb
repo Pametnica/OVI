{
 "cells": [
  {
   "cell_type": "markdown",
   "id": "603639f9-d201-4301-a193-03c661a42f25",
   "metadata": {},
   "source": [
    "## IGRA SO PLOCKI"
   ]
  },
  {
   "cell_type": "code",
   "execution_count": null,
   "id": "aaf513c8-9f7d-4a8b-8935-de2275fac1a3",
   "metadata": {},
   "outputs": [],
   "source": [
    "#gi menuva poziciite na dve tiles\n",
    "def move_tile(state, tile_position, zero_position):\n",
    "    tile_row, tile_col = tile_position\n",
    "    zero_row, zero_col = zero_position\n",
    "    state_list = []\n",
    "    for row in state:\n",
    "        state_list.append(list(row))\n",
    "        \n",
    "    state_list[zero_row][zero_col] = state[tile_row][tile_col]\n",
    "    state_list[tile_row][tile_col] = state[zero_row][zero_col]\n",
    "    \n",
    "    state_tuple = []\n",
    "    for row in state_list:\n",
    "        state_tuple.append(tuple(row))\n",
    "        \n",
    "    return tuple(state_tuple)"
   ]
  },
  {
   "cell_type": "markdown",
   "id": "468ac9ca-f237-4166-8d1a-b83fc9c36a88",
   "metadata": {},
   "source": [
    " "
   ]
  },
  {
   "cell_type": "markdown",
   "id": "bede988a-ffe6-40d6-85fb-7a33ba458115",
   "metadata": {},
   "source": [
    "## IGRATA SO LOVEC I KONJ\n",
    "U slucaj ako treba dvizenjeto da go napises vo recnik i da go koristis taka\n"
   ]
  },
  {
   "cell_type": "code",
   "execution_count": null,
   "id": "df337749-5ad7-42b1-b801-8a24064e3f0c",
   "metadata": {},
   "outputs": [],
   "source": [
    "def horse_moved(state,movement):\n",
    "    position=find_horse(state)\n",
    "    row,col=position\n",
    "    possible_horse_hop = {\n",
    "        \"K1\": (row + 2, col - 1),\n",
    "        \"K2\": (row + 2, col + 1),\n",
    "        \"K3\": (row + 1, col + 2),\n",
    "        \"K4\": (row - 1, col + 2),\n",
    "        \"K5\": (row - 2, col + 1),\n",
    "        \"K6\": (row - 2, col - 1),\n",
    "        \"K7\": (row - 1, col - 2),\n",
    "        \"K8\": (row + 1, col - 2)\n",
    "        }\n",
    "    if movement in possible_horse_hop.keys():\n",
    "        return possible_horse_hop[movement]\n",
    "    return None\n"
   ]
  },
  {
   "cell_type": "code",
   "execution_count": null,
   "id": "c496be59-bd54-48fc-b5a4-69377e447db2",
   "metadata": {},
   "outputs": [],
   "source": [
    "def horse_hop(state,movement): # se misili na K1,K2.\n",
    "\n",
    "    state_list = [list(row) for row in state] \n",
    "    horse_position=find_horse(state)\n",
    "    oldr,oldc=horse_position\n",
    "    new_horse_position=horse_moved(state,movement)\n",
    "    newr,newc=new_horse_position\n",
    "    hunter=find_hunter(state)\n",
    "    if not is_valid(state,new_horse_position,hunter):\n",
    "        return state\n",
    "    state_list[oldr][oldc]=PRAZNO\n",
    "    state_list[newr][newc]=KONJ\n",
    "    new_state = tuple(tuple(row) for row in state_list)\n",
    "    return new_state"
   ]
  },
  {
   "cell_type": "code",
   "execution_count": null,
   "id": "fbf7c157-c584-43b4-967a-1861b04d47fd",
   "metadata": {},
   "outputs": [],
   "source": [
    "state = (\n",
    "    (0, 0, 0, 1, 0),\n",
    "    (0, 0, 0, 0, 0),  # Horse at (1, 1)\n",
    "    (0, 0, 0, 0, 2),  # Hunter at (2, 4)\n",
    "    (0, 0, 0, 0, 0),\n",
    "    (0, 0, 0, 0, 0)\n",
    ")\n",
    "\n",
    "new_state = horse_hop(state, \"K1\")\n",
    "\n",
    "print(new_state)"
   ]
  },
  {
   "cell_type": "markdown",
   "id": "8c91e2cc-a25b-4115-b4a2-ac062ba5d021",
   "metadata": {},
   "source": [
    " "
   ]
  },
  {
   "cell_type": "code",
   "execution_count": null,
   "id": "96748acf-b3b3-423b-ae31-016b895b8196",
   "metadata": {},
   "outputs": [],
   "source": [
    "def hunter_moved(state,movement):\n",
    "    hunter_pos=find_hunter(state)\n",
    "    h_row,h_col=hunter_pos\n",
    "    possible_hunter_move ={\n",
    "        \"B1\":(h_row+1,h_col-1),\n",
    "        \"B2\":(h_row+1,h_col+1),\n",
    "        \"B3\":(h_row-1,h_col-1),\n",
    "        \"B4\":(h_row-1,h_col-1)\n",
    "\n",
    "    }\n",
    "    if movement in possible_hunter_move.keys():\n",
    "        return possible_hunter_move[movement]\n",
    "    return None"
   ]
  },
  {
   "cell_type": "code",
   "execution_count": null,
   "id": "9f8761cf-7991-49ad-8d7d-483ef5a77d38",
   "metadata": {},
   "outputs": [],
   "source": [
    "def hunter_hunt(state,movement): # se misili na K1,K2....\n",
    "    state_list=[list(row) for row in state]\n",
    "    hunter_position=find_hunter(state)\n",
    "    oldr,oldc=hunter_position\n",
    "    new_hunter_position=hunter_moved(state,movement)\n",
    "    newr,newc=new_hunter_position\n",
    "    horse=find_horse(state)\n",
    "    if not is_valid(state,new_hunter_position,horse):\n",
    "        return state\n",
    "    state_list[oldr][oldc]=PRAZNO\n",
    "    state_list[newr][newc]=LOVEC\n",
    "    new_state = tuple(tuple(row) for row in state_list)\n",
    "    return new_state"
   ]
  },
  {
   "cell_type": "code",
   "execution_count": null,
   "id": "b14817a7-7659-4ce3-b932-aa89c33904c6",
   "metadata": {},
   "outputs": [],
   "source": [
    "state = (\n",
    "    (0, 0, 0, 1, 0),\n",
    "    (0, 0, 0, 0, 0),  # Horse at (1, 1)\n",
    "    (0, 0, 0, 0, 2),  # Hunter at (2, 4)\n",
    "    (0, 0, 0, 0, 0),\n",
    "    (0, 0, 0, 0, 0)\n",
    ")\n",
    "\n",
    "new_state = hunter_hunt(state, \"B1\")\n",
    "print(new_state)"
   ]
  },
  {
   "cell_type": "markdown",
   "id": "09c16388-5dc5-4fd1-961b-4ebce1c2bef2",
   "metadata": {},
   "source": [
    " "
   ]
  },
  {
   "cell_type": "markdown",
   "id": "02fec8de-2d77-4bc3-a523-556916a4bb35",
   "metadata": {},
   "source": [
    "## ZADACATA SO SHISHINJATA --> PIVARA"
   ]
  },
  {
   "cell_type": "code",
   "execution_count": null,
   "id": "c95295b6-0ef5-4db5-9f9e-f964378af475",
   "metadata": {},
   "outputs": [],
   "source": [
    "# Gi zima sisinjata so se vo malata matrica\n",
    "\n",
    "def take_bottles(grid_dimensions, state, position):\n",
    "    # position e gore leviot del\n",
    "    grid_rows_number, grid_columns_number = grid_dimensions # (2, 3) ili (3, 2)\n",
    "    position_row, position_col = position\n",
    "    \n",
    "    state_list = []\n",
    "    for row in state:\n",
    "        state_list.append(list(row))\n",
    "        \n",
    "    for i in range(grid_rows_number):\n",
    "        for j in range(grid_columns_number):\n",
    "            if is_valid((position_row+i, position_col+j)):\n",
    "                if state_list[position_row+i][position_col+j] == 2:\n",
    "                    state_list[position_row+i][position_col+j] = 0\n",
    "                \n",
    "    state_tuple = []\n",
    "    for row in state_list:\n",
    "        state_tuple.append(tuple(row))\n",
    "        \n",
    "    return tuple(state_tuple)"
   ]
  },
  {
   "cell_type": "code",
   "execution_count": null,
   "id": "48434ec6-e9b2-40b4-9597-6eb0716aa139",
   "metadata": {},
   "outputs": [],
   "source": [
    "take_bottles((3, 2), g, (0, -1))"
   ]
  },
  {
   "cell_type": "code",
   "execution_count": null,
   "id": "b76dbc07-533b-4f36-bd16-c6d9512eb577",
   "metadata": {},
   "outputs": [],
   "source": []
  },
  {
   "cell_type": "code",
   "execution_count": null,
   "id": "0f2d34a4-6cbe-4c5f-92e3-b7fc57b90766",
   "metadata": {},
   "outputs": [],
   "source": [
    "# go mrda agentot od edna pozicija na druga(od initial_state na destination_position) \n",
    "def move(state, initial_position, destination_position):\n",
    "    state_list = [list(row) for row in state]\n",
    "    # for row in state:\n",
    "    #    state_list.append(list(row))\n",
    "    ix, iy = initial_position\n",
    "    dx, dy = destination_position\n",
    "    state_list[ix][iy] = state[dx][dy]\n",
    "    state_list[dx][dy] = state[ix][iy]\n",
    "    state_tuple = []\n",
    "    for row in state_list:\n",
    "        state_tuple.append(tuple(row))\n",
    "    return tuple(state_tuple)"
   ]
  },
  {
   "cell_type": "code",
   "execution_count": null,
   "id": "59911dac-3274-4c3e-9272-53ebc285f44d",
   "metadata": {},
   "outputs": [],
   "source": [
    "initial_matrix= (\n",
    "    (0, 0, 0, 0, 0, 0, 0, 0, 0, 0),\n",
    "    (0, 1, 0, 0, 0, 0, 0, 0, 0, 0),\n",
    "    (0, 0, 4, 4, 4, 0, 0, 0, 0, 0),\n",
    "    (0, 0, 0, 0, 0, 0, 0, 4, 4, 0),\n",
    "    (0, 0, 0, 0, 0, 0, 0, 4, 4, 0),\n",
    "    (0, 4, 4, 0, 0, 0, 0, 0, 0, 0),\n",
    "    (0, 0, 0, 0, 0, 0, 0, 0, 0, 0),\n",
    "    (0, 0, 0, 0, 0, 0, 0, 0, 0, 0),\n",
    "    (0, 0, 0, 0, 0, 0, 0, 0, 0, 0),\n",
    "    (0, 0, 0, 0, 0, 0, 0, 0, 0, 0)\n",
    ")\n",
    "move(initial_matrix,(1,1),(6,5))"
   ]
  },
  {
   "cell_type": "code",
   "execution_count": null,
   "id": "a2d3206b-7a45-4521-be60-4c686880a821",
   "metadata": {},
   "outputs": [],
   "source": []
  },
  {
   "cell_type": "markdown",
   "id": "603ee887-ed3e-4086-9e3f-5626c5489c5c",
   "metadata": {},
   "source": [
    "# ZADACATA SO KUTIJA"
   ]
  },
  {
   "cell_type": "code",
   "execution_count": null,
   "id": "c5f7bd4d-3211-411f-8f5c-28c34712c596",
   "metadata": {},
   "outputs": [],
   "source": [
    "# go gleda rastojanieto od edna pozicija do druga, ako se edna do druga postaveni, vraka true\n",
    "def distance_of_the_box(state, agent_position, box_position):\n",
    "    agent_position=z,p\n",
    "    box_position=i,j\n",
    "    if agent_position.difference(box_position)==1:\n",
    "        return True"
   ]
  },
  {
   "cell_type": "code",
   "execution_count": null,
   "id": "f034eaae-7e7c-4117-8de7-b01429c35e47",
   "metadata": {},
   "outputs": [],
   "source": [
    "# vrakame positions (lista od pozicii kade sto e pomrdnat odnosno)\n",
    "def agent_moves(state):\n",
    "    new_states=[]\n",
    "    state = i,j\n",
    "    possible_moves=[(i,j+1),(i,j-1),(i+1,j),(i-1,j)]\n",
    "    for m, n in possible_moves:\n",
    "        if 0<=z<=N and 0<=p<=N:\n",
    "            new_states.append((z,p))\n",
    "    return new_states"
   ]
  },
  {
   "cell_type": "code",
   "execution_count": null,
   "id": "f0c9f48d-700a-4960-8ce2-60e5c86e5799",
   "metadata": {},
   "outputs": [],
   "source": []
  },
  {
   "cell_type": "markdown",
   "id": "617f764e-67b1-4b50-9df1-ecd6059a82ff",
   "metadata": {},
   "source": [
    "# ZADACATA SO KUKICKATA I COVEKOT"
   ]
  },
  {
   "cell_type": "code",
   "execution_count": null,
   "id": "10f98589-7dbb-41c9-9e12-ef57d97ec983",
   "metadata": {},
   "outputs": [],
   "source": [
    "#Za da ne se poklopuvaat \n",
    "def same_position(i_p,j_p,state):\n",
    "    i_o1, j_o1 = find_obstacle_1(state)\n",
    "    i_o2, j_o2 = find_obstacle_2(state)\n",
    "\n",
    "    if (i_p == i_o1 and j_p == j_o1) or (i_p == i_o2 and j_p == j_o2):\n",
    "        return False\n",
    "    else:\n",
    "        return True"
   ]
  },
  {
   "cell_type": "code",
   "execution_count": null,
   "id": "ef44acaa-c436-4485-a8bd-12e5e3e301ff",
   "metadata": {},
   "outputs": [],
   "source": []
  },
  {
   "cell_type": "markdown",
   "id": "171daf19-64d7-4dae-9fb7-d5e333230568",
   "metadata": {},
   "source": [
    "# ZADACATA SO ROBOTSKATA PLATFORMA SO SENZORITE"
   ]
  },
  {
   "cell_type": "code",
   "execution_count": null,
   "id": "e03be6b5-b688-4496-b95e-d5c9fb2b2099",
   "metadata": {},
   "outputs": [],
   "source": [
    "def add_sensor(state, sensor_type, sensor_position):\n",
    "    row, col = sensor_position\n",
    "    state_list = list(list(row) for row in state) # state se pravi kako lista od listi, namesto torka od torki, za da mozeme da gi menuvame elementite\n",
    "    state_list[row][col] = sensor_type\n",
    "    return tuple(tuple(row) for row in state_list) # ja vrakame state ama povtorno kako torka od torki"
   ]
  },
  {
   "cell_type": "code",
   "execution_count": null,
   "id": "fc1175cf-7f25-41a8-a896-ad62b59af6d2",
   "metadata": {},
   "outputs": [],
   "source": []
  },
  {
   "cell_type": "markdown",
   "id": "0223d0ac-db31-4c0a-bc0d-1f774e317608",
   "metadata": {},
   "source": [
    "# ZADACATA SO MOLEKULI"
   ]
  },
  {
   "cell_type": "code",
   "execution_count": null,
   "id": "6ebd1b03-ed9f-4ab6-a834-f04ed62dd82a",
   "metadata": {},
   "outputs": [],
   "source": [
    "def move_up(x,y):\n",
    "    while is_valid(x,y):\n",
    "        y += 1\n",
    "    return x,y"
   ]
  },
  {
   "cell_type": "code",
   "execution_count": null,
   "id": "5e915634-43b9-4a48-a8ae-750a9b668ea0",
   "metadata": {},
   "outputs": [],
   "source": [
    "def move_down(x,y):\n",
    "    while is_valid(x,y):\n",
    "        y -= 1\n",
    "    return x,y"
   ]
  },
  {
   "cell_type": "code",
   "execution_count": null,
   "id": "f925fa67-67d5-4afa-8f5a-37a407587155",
   "metadata": {},
   "outputs": [],
   "source": [
    "def move_right(x,y):\n",
    "    while is_valid(x,y):\n",
    "        x += 1\n",
    "    return x,y"
   ]
  },
  {
   "cell_type": "code",
   "execution_count": null,
   "id": "eb225194-aee6-4700-b03e-02ce762a6349",
   "metadata": {},
   "outputs": [],
   "source": [
    "def move_left(x,y):\n",
    "    while is_valid(x,y):\n",
    "        x -= 1\n",
    "    return x,y"
   ]
  },
  {
   "cell_type": "code",
   "execution_count": null,
   "id": "ea3959ed-5f75-4a8c-a1f3-0b4e2a775029",
   "metadata": {},
   "outputs": [],
   "source": []
  },
  {
   "cell_type": "code",
   "execution_count": null,
   "id": "32aa82ac-7308-40cd-8410-ac597f85955d",
   "metadata": {},
   "outputs": [],
   "source": [
    "def find_pos_knight(matrix_state):\n",
    "    for i, row in enumerate(matrix_state):\n",
    "        for j, column in enumerate(row):\n",
    "            if matrix_state[i][j] == 1:\n",
    "                return (i,j)\n",
    "    return(0,0)"
   ]
  },
  {
   "cell_type": "code",
   "execution_count": null,
   "id": "2ec101f6-f3b9-4454-987c-296a7151afa5",
   "metadata": {},
   "outputs": [],
   "source": []
  },
  {
   "cell_type": "markdown",
   "id": "c12588ba-8d61-4093-9bfa-cc4e0d8ae4bc",
   "metadata": {},
   "source": [
    "# OD LABSOT 3"
   ]
  },
  {
   "cell_type": "code",
   "execution_count": null,
   "id": "94842a3d-7dd1-4194-a3e6-ab0757472287",
   "metadata": {},
   "outputs": [],
   "source": [
    "# DA MENJAS OD UKLUCENO NA IZGASENO I OBRATNO\n",
    "def toggle(state, bulb_position):\n",
    "    N = len(state)\n",
    "    state_list = []\n",
    "    bulb_row, bulb_column = bulb_position \n",
    "    for row in state:\n",
    "        state_list.append(list(row))\n",
    "    if 0 <= bulb_row < N and 0 <= bulb_column < N:\n",
    "        state_list[bulb_row][bulb_column] = 1 - state[bulb_row][bulb_column]\n",
    "        if bulb_row > 0: \n",
    "            state_list[bulb_row - 1][bulb_column] = 1 - state[bulb_row - 1][bulb_column]\n",
    "        if bulb_row < N - 1: \n",
    "            state_list[bulb_row + 1][bulb_column] = 1 - state[bulb_row + 1][bulb_column]\n",
    "        if bulb_column > 0: \n",
    "            state_list[bulb_row][bulb_column - 1] = 1 - state[bulb_row][bulb_column - 1]\n",
    "        if bulb_column < N - 1: \n",
    "            state_list[bulb_row][bulb_column + 1] = 1 - state[bulb_row][bulb_column + 1]\n",
    "        \n",
    "    state_tuple=[]\n",
    "    for row in state_list:\n",
    "         state_tuple.append(tuple(row))\n",
    "        \n",
    "    return tuple(state_tuple)"
   ]
  }
 ],
 "metadata": {
  "kernelspec": {
   "display_name": "Python 3 (ipykernel)",
   "language": "python",
   "name": "python3"
  },
  "language_info": {
   "codemirror_mode": {
    "name": "ipython",
    "version": 3
   },
   "file_extension": ".py",
   "mimetype": "text/x-python",
   "name": "python",
   "nbconvert_exporter": "python",
   "pygments_lexer": "ipython3",
   "version": "3.12.6"
  }
 },
 "nbformat": 4,
 "nbformat_minor": 5
}
