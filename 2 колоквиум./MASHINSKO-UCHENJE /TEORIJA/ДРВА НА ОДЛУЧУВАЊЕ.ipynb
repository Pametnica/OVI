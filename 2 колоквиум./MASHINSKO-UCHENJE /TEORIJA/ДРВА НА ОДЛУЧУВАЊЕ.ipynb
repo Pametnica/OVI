{
 "cells": [
  {
   "cell_type": "markdown",
   "id": "e6019f95-b004-4bbf-affc-023450fbc09a",
   "metadata": {},
   "source": [
    "# ДРВА НА ОДЛУЧУВАЊЕ"
   ]
  },
  {
   "cell_type": "markdown",
   "id": "3319672e-da01-46f1-82dd-4c4a2e0180fa",
   "metadata": {},
   "source": [
    "## Како алгоритмите за дрва за одлучување ги употребуваат признаците (каркатеристиките) кои се континуални (а не дискретни / категорични)?"
   ]
  },
  {
   "cell_type": "markdown",
   "id": "b9f4fe13-77cb-41e0-a629-76b4a9bc853b",
   "metadata": {},
   "source": [
    "Дрвата на одлучување можат директно да обработуваат и категоријални и континуирани карактеристики без да бараат обемна претходна обработка на податоците, \n",
    "како што е енкодирање со една точка (one-hot encoding) или енкодирање на цели броеви за номинален тип на податоци (категоријални податоци). \n",
    "За континуирани карактеристики, дрвата на одлучување ги одредуваат точките на поделба кои најдобро го поделуваат податочниот сет на подмножества."
   ]
  },
  {
   "cell_type": "markdown",
   "id": "0492e77c-fd47-469c-af24-0181f0d03977",
   "metadata": {},
   "source": [
    "Алгоритмите за дрва за одлучување, како што се CART (Classification and Regression Trees), користат специјални методи за ракување со континуалните признаци. \n",
    "Овие методи вклучуваат поделба на континуалните признаци на повеќе интервали или прагови \n",
    "за да можат да се користат за донесување одлуки. Еве како тоа функционира:\n",
    "    1. Поделба на континуалните признаци\n",
    "При изградба на дрвото за одлучување, алгоритмот ги разгледува сите можни точки на поделба (прагови) за континуалниот признак и ја избира онаа \n",
    "точка што ја минимизира грешката (или ја максимизира информациската добивка) во секој јазол.\n",
    "\n",
    "    2. Пример\n",
    "Да речеме дека имаме континуален признак висина и сакаме да го користиме за класификација. Алгоритмот ќе разгледа различни точки на поделба,\n",
    "на пример 170 cm, 175 cm, 180 cm, итн. и ќе одлучи која точка најдобро ги разделува податоците.\n",
    "    3. Чекори на алгоритмот\n",
    "Избор на признак: Алгоритмот ги разгледува сите континуални признаци и ги тестира сите можни точки на поделба. Избор на најдобра точка на поделба: За секоја точка на поделба, \n",
    "алгоритмот пресметува некоја мерка на грешка (на пример, Gini индекс или ентропија) и ја избира таа точка што ја минимизира грешката.\n",
    "Создавање на потјазли: Податоците се поделени во два потјазли врз основа на избраната точка на поделба.\n",
    "Рекурзивно повторување: Овој процес се повторува рекурзивно за секој потјазол додека не се постигне максималната длабочина на дрвото или додека не се \n",
    "исполнат критериумите за запирање.Алгоритмите за дрва за одлучување користат точки на поделба за да ги трансформираат континуалните признаци во бинарни одлуки,\n",
    "што им овозможува ефективно да работат со континуални податоци. Ова го прави дрвото за одлучување моќен алат за класификација и регресија со разни типови на податоци."
   ]
  },
  {
   "cell_type": "markdown",
   "id": "954aa941-7942-46c8-ae92-783ef19b4c27",
   "metadata": {},
   "source": [
    "Дрвјата на одлучување можат да обработуваат текстуални податоци, но заради ефикасност и за да можат правилно да ги анализираат, \n",
    "текстуалните податоци се енкодираат во нумерички вредности. \n",
    "Енкодирањето го олеснува процесот на донесување одлуки и ја зголемува ефикасноста на алгоритмите. \n",
    "Со енкодирање, текстуалните податоци се претвораат во формат кој е попогоден за пресметки, со што се овозможува постабилно и побрзо предвидување.\n",
    "На овој начин, иако дрвјата можат да обработуваат текст, енкодирањето ја подобрува нивната изведба и стабилност."
   ]
  },
  {
   "cell_type": "code",
   "execution_count": null,
   "id": "4688a70e-f4af-496a-a419-ad4b8c115b8a",
   "metadata": {},
   "outputs": [],
   "source": []
  },
  {
   "cell_type": "code",
   "execution_count": null,
   "id": "d3328ccb-453c-4ba3-9a57-287c370f1f6e",
   "metadata": {},
   "outputs": [],
   "source": []
  },
  {
   "cell_type": "markdown",
   "id": "edfd4843-5586-4659-97d9-505668f5ea58",
   "metadata": {},
   "source": [
    "## Објаснете што значи дрво за одлучување. Замислете си дека одговарате на прашање поставено од дете од 5-то оделение\n"
   ]
  },
  {
   "cell_type": "markdown",
   "id": "fb803ed9-c9e3-4256-84a8-56da9e03ee30",
   "metadata": {},
   "source": [
    "Едно стебло на одлучување, како и секое стебло, има корен, јазли кои се разгрануваат, наречени внатрешни јазли и листови (крајни јазли кои не се разгрануваат понатаму). Секој јазол, освен листовите, има придружено одредена влезна карактеристика. Тој, кај бинарните стебла, секогаш се разгранува на две гранки означени со 0 и 1. Овие броеви ги означуваат двете можни вредности на карактеристиката која е придружена кон соодветниот јазол. Кон листовите се придружени одлуки или излези. Бидејќи излезите, под претпоставка, се Булови величини, листовите се означени со 0 или 1."
   ]
  },
  {
   "cell_type": "markdown",
   "id": "0fb122fc-a503-4780-991a-0ad68093901d",
   "metadata": {},
   "source": [
    "Стеблата преставуваат Булови функции кои ја дефинираат врската помеѓу влезните вектори (вектори на карактеристиките на влезовите) и излезите кои се, исто така, Булови величини. При пресметувањето на излезот у за даден влезен вектор х', 1, се започнува од коренот на стеблото. Нека, на пример, со коренот од стеблото е придружена влезната карактеристика 1;. Тогаш, во зависност од вредноста на оваа карактеристика, се проследува по соодветната гранка од стеблото. Ако патот води кон внатрешен јазол, повторно се одредува вредноста на карактеристиката придружена со тој јазол, се проследува по соодветната гранка од стеблото итн. Кога патот доведува до краен јазол, вредноста придружена со него се усвојува како излез.\n",
    "\n",
    "Нека е даден е влезниот вектор [01/01], кој има четири карактеристики f1, f2, f3 и f4 . Овој вектор, во согласност со стеблото на одлучување (од Слика 6.15 o), ќе генерира излез 1. Имено, со коренот од стеблото е придружена влезната карактеристика f3, која има вредност 0. Затоа се проследува по гранката со вредност 0, која води до јазолот 12. Бидејќи 12 има вредност 1, се проследува по гранката со вредност 1, која води до краен јазол со вредност 1. Следствено, излезот за дадениот влез е:\n",
    "\n",
    "h(0,1,0,1) = 1"
   ]
  },
  {
   "cell_type": "markdown",
   "id": "b7158ff0-c392-476e-aeeb-786cc3c31029",
   "metadata": {},
   "source": [
    "Стеблата на одлучување претставуваат начин на запишување Булови изрази. За едно стебло на одлучување да се претвори во соодветен Булов израз, потребно е секој пат низ стеблото кој завршува со лист со вредност 1 да биде претставен со конјункција. Оваа конјункција ги дефинира условите кои треба да ги исполни влезот за да се добие тој соодветен излез. Вакви конјункции има за секој лист од стеблото со вредност 1 и тие потоа влегуваат во крајниот Булов израз раздвоени со знакот „или\" (дисјункција). Така стеблото од Слика 6.15 ја претставува Буловата функција:\n",
    "\n",
    "h=(f*3ヘf*4) (f3ヘf1へf*4)  (Извор: „ Предавања по предметот машинско учење“- Елизабета Чазаревска)"
   ]
  },
  {
   "cell_type": "code",
   "execution_count": null,
   "id": "87e7e860-8a37-4636-9d0e-c9392461f36a",
   "metadata": {},
   "outputs": [],
   "source": []
  },
  {
   "cell_type": "markdown",
   "id": "533b9abc-5e0f-4475-9294-246450d1ef7c",
   "metadata": {
    "editable": true,
    "slideshow": {
     "slide_type": ""
    },
    "tags": []
   },
   "source": [
    "Дрво на одлучување е граф со дрвенеста структура каде секој јазол е прашање кое го дели на неколку дела даденото множество податоци. Врските во дрвото се одговорите на прашањето поставено од јазолот. Листовите на дрвото се излезите кои ќе ги произведе дрвото за даден влезен податок. \n",
    "\n",
    "Дрвото на одлучување ги класифицира дадените влезни податоци така што ќе започне од коренот и одејќи од јазол на јазол ќе стигне до некој лист чија вредност е излез за дадениот влезен податок.\n",
    "\n",
    "Еве пример за дрво на одлучување кое ќе ни одговори кое превозно средство да го искористиме во зависност од моменталната состојба на денот во кој се наоѓаме.\n"
   ]
  },
  {
   "cell_type": "code",
   "execution_count": 5,
   "id": "edcd3f97-e6c8-49d9-bd58-fb97d3997ed5",
   "metadata": {},
   "outputs": [
    {
     "data": {
      "text/html": [
       "\n",
       "<img src=\"https://www.simplilearn.com/ice9/free_resources_article_thumb/decision-tree.JPG\" alt=\"Image from URL\" style=\"width:500px;\"/>\n"
      ],
      "text/plain": [
       "<IPython.core.display.HTML object>"
      ]
     },
     "execution_count": 5,
     "metadata": {},
     "output_type": "execute_result"
    }
   ],
   "source": [
    "from IPython.display import HTML\n",
    "\n",
    "# URL of the image\n",
    "image_url = \"https://www.simplilearn.com/ice9/free_resources_article_thumb/decision-tree.JPG\"\n",
    "\n",
    "# Embed the image using HTML\n",
    "HTML(f\"\"\"\n",
    "<img src=\"{image_url}\" alt=\"Image from URL\" style=\"width:500px;\"/>\n",
    "\"\"\")\n",
    "\n"
   ]
  },
  {
   "cell_type": "code",
   "execution_count": null,
   "id": "85524f41-3549-4466-a076-8d85993e8f80",
   "metadata": {},
   "outputs": [],
   "source": []
  },
  {
   "cell_type": "markdown",
   "id": "3b43130e-a684-4b9c-8852-64e63b676dc7",
   "metadata": {},
   "source": [
    "## Зошто за алгоритамот ID3 за градење на дрво се вели дека е алчен алгоритам?"
   ]
  },
  {
   "cell_type": "raw",
   "id": "6fd226c5-997c-4f72-9e2d-65820fcefa1e",
   "metadata": {},
   "source": [
    "ID3 (Iterative Dichotomiser 3) е алчен алгоритам затоа што при секој чекор од креирањето на дрвото за одлучување, тој избира поделба која најмногу ја намалува ентропијата (или ја зголемува информациската добивка) за моменталниот јазол. Ова значи дека алгоритмот прави локално оптимални одлуки во секој чекор, без да ги разгледува глобалните последици од тие одлуки.\n",
    "Објаснување:\n",
    "\n",
    "    Алчна природа:\n",
    "        ID3 го избира признакот кој во тој момент обезбедува најголема информациска добивка за да го подели податоците. Алгоритмот не ја разгледува целокупната структура на дрвото, туку само сегашниот јазол.\n",
    "\n",
    "    Поделба според информациска добивка:\n",
    "        Во секој чекор, ID3 ги пресметува сите можни поделби за секој признак и ја избира таа што води до најголема информациска добивка. Оваа поделба може да не биде најдобра на долг рок, но е најдобра за моменталниот јазол.\n",
    "Заклучок:\n",
    "\n",
    "ID3 е алчен алгоритам затоа што прави локално оптимални одлуки во секој чекор, избирајќи ја поделбата која во моментот најдобро ги дели податоците врз основа на информациската добивка. Ова води до брзо и ефикасно креирање на дрвото за одлучување, но не секогаш до глобално оптимално решение. "
   ]
  },
  {
   "cell_type": "code",
   "execution_count": 6,
   "id": "e168dbba-014d-454b-8486-03ff95a271f8",
   "metadata": {},
   "outputs": [
    {
     "data": {
      "text/html": [
       "\n",
       "<img src=\"https://1billiontech.com/assets/images/Decision-tree-16.jpg\" alt=\"Image from URL\" style=\"width:500px;\"/>\n"
      ],
      "text/plain": [
       "<IPython.core.display.HTML object>"
      ]
     },
     "execution_count": 6,
     "metadata": {},
     "output_type": "execute_result"
    }
   ],
   "source": [
    "from IPython.display import HTML\n",
    "\n",
    "# URL of the image\n",
    "image_url = \"https://1billiontech.com/assets/images/Decision-tree-16.jpg\"\n",
    "\n",
    "# Embed the image using HTML\n",
    "HTML(f\"\"\"\n",
    "<img src=\"{image_url}\" alt=\"Image from URL\" style=\"width:500px;\"/>\n",
    "\"\"\")"
   ]
  },
  {
   "cell_type": "markdown",
   "id": "0f61ef0b-604f-4c88-9d7f-80b70d48e4f6",
   "metadata": {},
   "source": [
    "## Како се пресметува информациската придобивка кај алгоритмите за дрва за одлучување?"
   ]
  },
  {
   "cell_type": "code",
   "execution_count": null,
   "id": "936c7faa-33c4-4e1d-a763-f291f1db2227",
   "metadata": {},
   "outputs": [],
   "source": [
    "најпрво треба да одбереме според кој параметар ќе сакаме да го поделиме множеството на класи, и ќе добиеме број на класи соодветно колку што има различни состојби тој параметар\n",
    "потота треба да ја пресметаме ентропијата пред поделбата на множеството\n",
    "следен чекор е за секоја останата колона(параметар) да се пресмета ентропија во одност на класите што ги определивме\n",
    "потоа се пресметува ентропијата по поделбата како збир од множителите од факторот на ентропија и ентропијата за секој посебно\n",
    "информациската придобивка е разлика од ентропијата пред и по поделбата и се бира онаа информациска придобивка според подеблите која е најголема"
   ]
  },
  {
   "cell_type": "code",
   "execution_count": null,
   "id": "7fb35f5c-b205-477f-9895-0a84b9370e21",
   "metadata": {},
   "outputs": [],
   "source": [
    "Информациска придобивка\n",
    "\n",
    "Информациската придобивка е статистичка мерка која кажува колку добро карактеристиката го дели множеството на групи за да\n",
    "можеме успешно да класифицираме. На сликата (десно) може да видиме како една карактеристика го дели множеството на два дела.\n",
    "Двата дела имаат приближно еднаков број + и -. Едноставно, оваа поделба не нѐ води поблиску кон успешна класификација бидејќи подгрупите се хомогени.\n",
    "За разлика од ова, (лево) ја имаме карактеристиката со голема информациска придобивка која подобро го дели множеството бидејќи има изразена нехомогеност.\n",
    "Лесно забележуваме дека во едната подгрупа имаме повеќе +, а во другата имаме повеќе -. Ова нѐ води кон успешна класификација.\n",
    "\n",
    "Висока информациска придобивка Ниска информациска придобивка\n",
    "\n",
    "Пред да ја дефинираме точно информациската придобивка, ќе дефинираме што значи ентропија во теоријата на инфромации. "
   ]
  },
  {
   "cell_type": "markdown",
   "id": "4bda2583-5f33-41c7-ac67-843f3ba16846",
   "metadata": {},
   "source": [
    "## Објаснете на кој начин ни помага функцијата за ентропија кај дрвата за одлучување"
   ]
  },
  {
   "cell_type": "markdown",
   "id": "40ab0526-ad29-46ea-ad0d-702b7fb19e86",
   "metadata": {
    "editable": true,
    "slideshow": {
     "slide_type": ""
    },
    "tags": []
   },
   "source": [
    "Генерално, ентропијата е мерка за неред во едно множество. За нашиот проблем ентропијата ќе ни каже дали во едно многжество податоци, како претходно со `+` и `-`, имаме хомогеност или пак не. Ентропијата $H$ во теоријата на информации ја пресметуваме според равенката на научникот [Клод Шенон](https://en.wikipedia.org/wiki/Claude_Shannon)\n",
    "\n",
    "$$ H = \\sum_i - p_i \\log p_i$$\n",
    "\n",
    "За алгоритамот ID3, неговата бинарна класификација, и дадено множество $S$ каде излезите се означени со `+` и `-`, ентропијата ќе ја запишуваме како\n",
    "\n",
    "$$ H(S) = - p_+ \\log_2 p_+ - p_- \\log_2 p_- $$\n",
    "\n",
    "каде $p_+$ е подмножеството на $S$ каде излезот е `+`, а $p_-$ е подмножеството на $S$ каде излезот е `-`.\n",
    "\n",
    "Вредноста која ќе ја добиеме е реален број. На пример, за 30 податоци каде 14 се `+`, а 16 се `-`, ќе добиеме дека ентропијата е 0.996. "
   ]
  },
  {
   "cell_type": "code",
   "execution_count": 13,
   "id": "46a602ab-2d53-4e37-b366-7db9bcaac615",
   "metadata": {},
   "outputs": [],
   "source": [
    "def entropy_of_dataset(df, output_column, class_1, class_2):\n",
    "#     ги земаме податоците од множеството df каде излезот е еднаков на класа 1\n",
    "    class_1_data = df.query(f\"{output_column} == '{class_1}'\")\n",
    "#     ги земаме податоците од множеството df каде излезот е еднаков на класа 2\n",
    "    class_2_data = df.query(f\"{output_column} == '{class_2}'\")\n",
    "#     ја пресметуваме ентропијата за даденото множество податоци\n",
    "    return entropy(class_1_data.shape[0], class_2_data.shape[0])"
   ]
  },
  {
   "cell_type": "raw",
   "id": "d47129dd-12c8-4c2a-bc53-fbb160ac4dfb",
   "metadata": {},
   "source": [
    "Целта на изборот на атрибутот во дрвјата за одлучување е да се најде оној кој има најголем Information Gain. Тоа значи дека поделбата со тој атрибут најмногу ја намалува ентропијата на податоците, овозможувајќи подобра \"чистота\" во под-сетите и резултира во поедноставни и по-точни правила.\n",
    "\n",
    "**Ниска ентропија:** Кога ентропијата е ниска, класите се добро поделени и сите примероци во податочниот сет се слични или припаѓаат на истата класа.\n",
    "Во такви случаи, нема потреба за понатамошно раздвојување и тој сет се смета за завршен.\n",
    "\n",
    "**Висока ентропија:** Кога ентропијата е висока, класите се разнолични и не се добро поделени. Алгоритмот продолжува да ги дели \n",
    "податоците користејќи нови атрибути, со цел намалување на ентропијата, додека не се постигне ниска ентропија или максималната дозволена длабочина на дрвото.\n",
    "\n",
    "Ентропијата игра клучна улога во дрвјата за одлучување бидејќи помага да се одреди кој атрибут е најдобар за разделување \n",
    "на податоците на секој чекор од градењето на дрвото. Алгоритмите ја минимизираат ентропијата преку изборот на атрибутот кој води до најголемо \n",
    "Information Gain, што резултира во попрецизни и поефикасни дрвја за одлучување."
   ]
  },
  {
   "cell_type": "markdown",
   "id": "dd6fc92f-7a38-45d1-9b4c-58414f9b8064",
   "metadata": {},
   "source": [
    "## RELU функција и сигмоид"
   ]
  },
  {
   "cell_type": "markdown",
   "id": "fa00ddfa-480d-4bf1-9c66-ef33612f5714",
   "metadata": {},
   "source": [
    "**Сигмоидната функција** е активациска функција што често се користи во невронските мрежи. Таа секоја влезна вредност ја пресликува во опсег од 0 до 1, следејќи S-образна крива. Математички е дефинирана како:\n",
    "\n",
    "$$ \\sigma(x) = \\frac{1}{1 + e^{-x}} $$\n",
    "\n",
    "Иако сигмоидната функција воведува нелинеарност, има значаен недостаток: **проблемот со исчезнување на градиентите**. Во длабоки мрежи, градиентите можат да станат многу мали при назадно проширување (backpropagation), што го забавува учењето и ја намалува ефикасноста на тренингот.\n",
    "\n",
    "Од друга страна, **ReLU (Rectified Linear Unit)** е дефинирана како:\n",
    "\n",
    "$$ \\text{ReLU}(x) = \\max(0, x) $$\n",
    "\n",
    "ReLU го решава проблемот со исчезнување на градиентите со тоа што дозволува градиентите полесно да се пренесуваат за време на учењето, што води до побрза конвергенција. Сепак, ReLU може да има проблем наречен **\"умирање на ReLU\"**, каде што одредени неврони стануваат неактивни за одредени влезови.\n",
    "\n",
    "### Заклучок:\n",
    "Иако сигмоидната функција е корисна поради мазниот излез, **ReLU** често се користи во длабоки мрежи поради поголемата ефикасност во процесот на учење.\n"
   ]
  },
  {
   "cell_type": "code",
   "execution_count": 7,
   "id": "ce141eb3-8bf1-4cac-b7eb-925222cd2eda",
   "metadata": {},
   "outputs": [
    {
     "data": {
      "image/png": "[encoded data removed]",
      "text/plain": [
       "<Figure size 800x500 with 1 Axes>"
      ]
     },
     "metadata": {},
     "output_type": "display_data"
    }
   ],
   "source": [
    "import numpy as np\n",
    "import matplotlib.pyplot as plt\n",
    "\n",
    "# Sigmoid function\n",
    "def sigmoid(x):\n",
    "    return 1 / (1 + np.exp(-x))\n",
    "\n",
    "# Generate input values\n",
    "x = np.linspace(-10, 10, 400)\n",
    "y = sigmoid(x)\n",
    "\n",
    "# Plot Sigmoid function\n",
    "plt.figure(figsize=(8, 5))\n",
    "plt.plot(x, y, label=\"Sigmoid\", color='blue')\n",
    "plt.title(\"Sigmoid Activation Function\")\n",
    "plt.xlabel(\"Input\")\n",
    "plt.ylabel(\"Output\")\n",
    "plt.grid(True)\n",
    "plt.axhline(0, color='black', linewidth=1)\n",
    "plt.axvline(0, color='black', linewidth=1)\n",
    "plt.legend()\n",
    "plt.show()\n"
   ]
  },
  {
   "cell_type": "code",
   "execution_count": 8,
   "id": "cccc75b2-00b3-4120-932d-d9359a733659",
   "metadata": {},
   "outputs": [
    {
     "data": {
      "image/png": "[encoded data removed]",
      "text/plain": [
       "<Figure size 800x500 with 1 Axes>"
      ]
     },
     "metadata": {},
     "output_type": "display_data"
    }
   ],
   "source": [
    "import numpy as np\n",
    "import matplotlib.pyplot as plt\n",
    "\n",
    "# ReLU function\n",
    "def relu(x):\n",
    "    return np.maximum(0, x)\n",
    "\n",
    "# Generate input values\n",
    "x = np.linspace(-10, 10, 400)\n",
    "y = relu(x)\n",
    "\n",
    "# Plot ReLU function\n",
    "plt.figure(figsize=(8, 5))\n",
    "plt.plot(x, y, label=\"ReLU\", color='green')\n",
    "plt.title(\"ReLU Activation Function\")\n",
    "plt.xlabel(\"Input\")\n",
    "plt.ylabel(\"Output\")\n",
    "plt.grid(True)\n",
    "plt.axhline(0, color='black', linewidth=1)\n",
    "plt.axvline(0, color='black', linewidth=1)\n",
    "plt.legend()\n",
    "plt.show()\n"
   ]
  }
 ],
 "metadata": {
  "kernelspec": {
   "display_name": "Python 3 (ipykernel)",
   "language": "python",
   "name": "python3"
  },
  "language_info": {
   "codemirror_mode": {
    "name": "ipython",
    "version": 3
   },
   "file_extension": ".py",
   "mimetype": "text/x-python",
   "name": "python",
   "nbconvert_exporter": "python",
   "pygments_lexer": "ipython3",
   "version": "3.12.6"
  }
 },
 "nbformat": 4,
 "nbformat_minor": 5
}
