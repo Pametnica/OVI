{
 "cells": [
  {
   "cell_type": "markdown",
   "id": "7ae90d73-bce2-4a84-bd97-06b7382d4be4",
   "metadata": {},
   "source": [
    "# OLA"
   ]
  },
  {
   "cell_type": "code",
   "execution_count": null,
   "id": "f8450aa2-0669-4032-abf8-1de839929b39",
   "metadata": {},
   "outputs": [],
   "source": []
  }
 ],
 "metadata": {
  "kernelspec": {
   "display_name": "Python 3 (ipykernel)",
   "language": "python",
   "name": "python3"
  },
  "language_info": {
   "codemirror_mode": {
    "name": "ipython",
    "version": 3
   },
   "file_extension": ".py",
   "mimetype": "text/x-python",
   "name": "python",
   "nbconvert_exporter": "python",
   "pygments_lexer": "ipython3",
   "version": "3.12.6"
  }
 },
 "nbformat": 4,
 "nbformat_minor": 5
}
