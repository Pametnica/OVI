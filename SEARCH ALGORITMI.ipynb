{
 "cells": [
  {
   "cell_type": "markdown",
   "id": "1174e3fd-92b6-479c-8027-699353107907",
   "metadata": {},
   "source": [
    "## A*\n"
   ]
  },
  {
   "cell_type": "markdown",
   "id": "e23182bf-504a-4fba-bc19-86a7136247fd",
   "metadata": {},
   "source": [
    "## ZADACHI STO NE SE RESAVAAT KAKO ZADACATA SO KUTIJA (ovie se za zadachi kako taa so plocki)\n",
    "Od pivara,plocki (istata funkcija e)"
   ]
  },
  {
   "cell_type": "code",
   "execution_count": null,
   "id": "61a56154-a3b7-4fe6-b6a5-4c57ed88e71d",
   "metadata": {},
   "outputs": [],
   "source": [
    "import heapq\n",
    "def a_star_search(initial_state, goal_state):\n",
    "    \n",
    "    queue = [((0, 0), [initial_state])]\n",
    "    heapq.heapify(queue)\n",
    "    expanded = set()\n",
    "    \n",
    "    while queue:\n",
    "        current_weight_tuple, list_to_expand = heapq.heappop(queue)\n",
    "        current_a_star_weight, current_path_weight = current_weight_tuple\n",
    "        state_to_expand = list_to_expand[-1]\n",
    "        \n",
    "        if state_to_expand == goal_state:\n",
    "            return current_path_weight, list_to_expand\n",
    "        \n",
    "        if state_to_expand not in expanded:\n",
    "            for next_path_weight, next_state in expand_state(state_to_expand):\n",
    "                if next_state not in expanded:\n",
    "                    total_path_weight = current_path_weight + next_path_weight\n",
    "                    a_star_weight = total_path_weight + heuristic(next_state)\n",
    "                    heapq.heappush(queue, ((a_star_weight, total_path_weight), list_to_expand + [next_state]))\n",
    "            expanded.add(state_to_expand)\n",
    "            "
   ]
  },
  {
   "cell_type": "markdown",
   "id": "c1ea6500-755e-425f-b696-d92d67dc4139",
   "metadata": {},
   "source": [
    "## ZADACHI SO SE RESAVAAT KAKO TAA SO KUTIJA\n",
    "ova e od taa so kutija"
   ]
  },
  {
   "cell_type": "code",
   "execution_count": 2,
   "id": "ef2b6c0c-3adc-46be-955c-c790a85f698d",
   "metadata": {},
   "outputs": [],
   "source": [
    "#ima check_end funkcija kade ke mu proveruva dali e stignat do celta\n",
    "# ke treba taa za da raboti kodov\n",
    "# SO HEURISTIC\n",
    "def a_star_search(initial_state, h, alpha=1): \n",
    "    expanded=set()\n",
    "    if check_end(state_to_expand): \n",
    "        return []\n",
    "    queue=[((0,0),[starting_vertex])]\n",
    "    heapq.heapify(queue)\n",
    "    while queue:\n",
    "        weight, state_list=heapq.heappop(queue)\n",
    "        current_a_star_weight, current_path_weight=weight\n",
    "        state_to_expand=state_list[-1]\n",
    "        if check_end(state_to_expand):\n",
    "            return current_path_weight, state_list\n",
    "        else:\n",
    "            for next_state in expand(state_to_expand):\n",
    "                if next_state not in expanded:\n",
    "                    h=heuristic_function(neighbour)\n",
    "                    path_weight=current_path_weight+1\n",
    "                    a_star_weight=path_weight+alpha*h\n",
    "                    heapq.heappush(queue, ((a_star_weight, path_weight), state_list+[next_state]))\n",
    "                expanded.add(next_state)"
   ]
  },
  {
   "cell_type": "markdown",
   "id": "a06511c9-85d1-4592-8066-35bed8bac95d",
   "metadata": {},
   "source": [
    "## IMA C VO KODOT SO TI BROI ITERACII (ZADACHATA SO KUKICKA I COVECE)"
   ]
  },
  {
   "cell_type": "code",
   "execution_count": null,
   "id": "d584460e-2d0d-4b06-8537-502473496c6b",
   "metadata": {},
   "outputs": [],
   "source": [
    "# pak ti treba funkcija check_end\n",
    "def a_star_search(starting_vertex, heuristic_function, alpha=1):\n",
    "    expanded = set()\n",
    "    queue = [((0, 0), [starting_vertex])]\n",
    "    heapq.heapify(queue)\n",
    "    c = 0           # za ova c \n",
    "    while queue:\n",
    "        c += 1\n",
    "        weight_tuple, vertex_list = heapq.heappop(queue)\n",
    "        current_a_star_weight, current_path_weight = weight_tuple\n",
    "        vertex_to_expand = vertex_list[-1]\n",
    "        if end_check(vertex_to_expand):\n",
    "            return current_path_weight, vertex_list, c\n",
    "        if vertex_to_expand in expanded:\n",
    "            continue\n",
    "        for neighbour in expand_state(vertex_to_expand):\n",
    "            if neighbour not in expanded:\n",
    "                heuristic = heuristic_function(neighbour)\n",
    "                path_weight = current_path_weight + 1\n",
    "                a_star_weight = path_weight + alpha * heuristic\n",
    "                heapq.heappush(queue, ((a_star_weight, path_weight), vertex_list + [neighbour]))\n",
    "        expanded.add(vertex_to_expand)"
   ]
  },
  {
   "cell_type": "markdown",
   "id": "0396203a-31b4-4a88-ad88-8b6a5cfd48d7",
   "metadata": {},
   "source": [
    "\n",
    "\n",
    "\n",
    "\n",
    " "
   ]
  },
  {
   "cell_type": "markdown",
   "id": "8df5935d-e037-4569-8983-7170b2339077",
   "metadata": {},
   "source": [
    " "
   ]
  },
  {
   "cell_type": "markdown",
   "id": "47ba2a62-e15c-4634-9913-9d1ed0aca976",
   "metadata": {},
   "source": [
    " "
   ]
  },
  {
   "cell_type": "markdown",
   "id": "6e9f4e10-6d44-474a-804a-861eaac8a4e5",
   "metadata": {},
   "source": [
    "## BFS (PREBARUVANJE PO SIROCINA)"
   ]
  },
  {
   "cell_type": "markdown",
   "id": "7ee335d8-863e-4535-a176-ee66bd857be8",
   "metadata": {},
   "source": [
    "## Zadachata kako molekuli i star chess (vlezen argument e samo initial state)"
   ]
  },
  {
   "cell_type": "code",
   "execution_count": null,
   "id": "0fd218eb-3e61-4028-be5d-f6ec7af0b61c",
   "metadata": {},
   "outputs": [],
   "source": [
    "from collections import deque\n",
    "\n",
    "def search_path(initial_state):\n",
    "    visited = {initial_state}\n",
    "    states_queue = deque([[initial_state]])\n",
    "    while states_queue:\n",
    "        states_list = states_queue.popleft()\n",
    "        state_to_expand = states_list[-1]\n",
    "        for next_state in expand_state(state_to_expand):\n",
    "            if next_state not in visited:\n",
    "                if end_check(next_state):   # ti treba funkcija za proverka\n",
    "                    return states_list + [next_state]\n",
    "                visited.add(next_state)\n",
    "                states_queue.append(states_list + [next_state])\n",
    "    return []"
   ]
  },
  {
   "cell_type": "markdown",
   "id": "6dadd961-95d6-4f24-9fcd-c3655217cb23",
   "metadata": {},
   "source": [
    "## Zadachata so plocki (vlezni argumenti initial_state i goal_state)"
   ]
  },
  {
   "cell_type": "code",
   "execution_count": null,
   "id": "bf0df9aa-4576-4f2a-a105-6ca603d86654",
   "metadata": {},
   "outputs": [],
   "source": [
    "from collections import deque\n",
    "\n",
    "def breadth_first_search(initial_state, goal_state):\n",
    "    if initial_state == goal_state:\n",
    "        return\n",
    "    \n",
    "    queue = deque([[initial_state]])\n",
    "    visited = {initial_state}\n",
    "    \n",
    "    while queue:\n",
    "        list_to_expand = queue.popleft()\n",
    "        state_to_expand = list_to_expand[-1]\n",
    "        \n",
    "        for next_state in expand_state(state_to_expand):\n",
    "            if next_state not in visited:\n",
    "                if next_state == goal_state:\n",
    "                    return list_to_expand + [next_state]\n",
    "                queue.append(list_to_expand + [next_state])\n",
    "                visited.add(next_state)"
   ]
  },
  {
   "cell_type": "markdown",
   "id": "d1edd65e-75c1-4eef-a50c-32363dfd8a8b",
   "metadata": {},
   "source": [
    " "
   ]
  },
  {
   "cell_type": "markdown",
   "id": "8fea460d-128f-45d3-8d2e-a6d06fbfb5ad",
   "metadata": {},
   "source": [
    " "
   ]
  },
  {
   "cell_type": "markdown",
   "id": "3addef68-d70e-40db-ba16-80a2cb3384bb",
   "metadata": {},
   "source": [
    " "
   ]
  },
  {
   "cell_type": "markdown",
   "id": "c6e66d9b-4c78-4660-be0a-a61cdba1c0ba",
   "metadata": {},
   "source": [
    "## DFS (prebaruvanje po dlabochina)"
   ]
  },
  {
   "cell_type": "markdown",
   "id": "30b90376-68ce-4e1f-bc17-2341f9d040ec",
   "metadata": {},
   "source": [
    "Zadachata so kralici, ama ovoj e zemen od zadachata so robotska platforma (ist e)"
   ]
  },
  {
   "cell_type": "code",
   "execution_count": null,
   "id": "b94c45b8-539d-4dce-b66d-21423ad87ec2",
   "metadata": {},
   "outputs": [],
   "source": [
    "def depth_first_search(initial_state):\n",
    "    \n",
    "    queue = deque([initial_state])\n",
    "    visited = {initial_state}\n",
    "    \n",
    "    while queue:\n",
    "        state_to_expand = queue.popleft()\n",
    "        #state_to_expand = list_to_expand[-1]\n",
    "        \n",
    "        for next_state in expand_state(state_to_expand):\n",
    "            if next_state not in visited:\n",
    "                how_many_zeroes = 0\n",
    "                for row in next_state:\n",
    "                    how_many_zeroes += row.count(0)\n",
    "                \n",
    "                if how_many_zeroes == 0: # ako ne preotanale nuli vo state t.e. site polinja se popolnati so senzor\n",
    "                    return next_state # togas zavrsilo prebaruvanjeto, kako rezultat vrati ja poslednata razgraneta sostojba\n",
    "                queue.appendleft(next_state)\n",
    "                visited.add(next_state)"
   ]
  },
  {
   "cell_type": "markdown",
   "id": "cb402100-2ee8-46eb-81c9-98712f84ba6c",
   "metadata": {},
   "source": [
    " "
   ]
  },
  {
   "cell_type": "markdown",
   "id": "d4d40f40-1ea4-4891-b692-4615490b43e5",
   "metadata": {},
   "source": [
    " "
   ]
  },
  {
   "cell_type": "markdown",
   "id": "a64d5f78-15c9-4cd0-842f-0356c7a0267c",
   "metadata": {},
   "source": [
    "## UNIFORMNA CENA"
   ]
  },
  {
   "cell_type": "markdown",
   "id": "68ae8482-fa01-4df1-8a11-57c3ce296aa4",
   "metadata": {},
   "source": [
    "## Od zadachata so preminuvanje preku most\n",
    "Vlezni argumenti initial state i goal state"
   ]
  },
  {
   "cell_type": "code",
   "execution_count": null,
   "id": "51cc5524-b96a-47c9-adde-1bb2f5f02542",
   "metadata": {},
   "outputs": [],
   "source": [
    "import heapq\n",
    "def uniform_cost_search(initial_state, goal_state):\n",
    "    queue = [(0, [initial_state])]\n",
    "    heapq.heapify(queue)\n",
    "    expanded = set()\n",
    "    \n",
    "    while queue:\n",
    "        weight, list_to_expand = heapq.heappop(queue)\n",
    "        state_to_expand = list_to_expand[-1]\n",
    "        \n",
    "        if state_to_expand == goal_state:\n",
    "            return weight, list_to_expand\n",
    "        \n",
    "        if state_to_expand not in expanded:\n",
    "            for next_weight, next_state in expand_state(state_to_expand):\n",
    "                if next_state not in expanded:\n",
    "                    heapq.heappush(queue, (next_weight+weight, list_to_expand + [next_state]))\n",
    "            expanded.add(state_to_expand)"
   ]
  },
  {
   "cell_type": "markdown",
   "id": "0d375e82-4a6f-471f-9e2b-7797edea7c64",
   "metadata": {},
   "source": [
    "## Od zadachata so kutija\n",
    "Ti treba check_end funkcija da ti proveruva dali si stignala do krajot"
   ]
  },
  {
   "cell_type": "code",
   "execution_count": null,
   "id": "a21c9126-02ba-40b0-b19a-bc58701c253e",
   "metadata": {},
   "outputs": [],
   "source": [
    "def uniform_cost_search(initial_state):\n",
    "    expanded=()\n",
    "    if check_end: #tuka\n",
    "        return []\n",
    "    queue=[(0,[intial_state])]\n",
    "    heapq.heapify(queue)\n",
    "    while queue:\n",
    "        weight, state_list=heapq.heappop(queue)\n",
    "        state_to_expand=state_list[-1]\n",
    "        if state_to_expand==goal_state:\n",
    "            return weight, state_list\n",
    "        if check_end:\n",
    "            return []\n",
    "        else:\n",
    "            if state_to_expand not in expanded:\n",
    "                for neighbour in expand_state(state_to_expand):\n",
    "                    if neighbour not in expanded:\n",
    "                        heapq.heappush(queue,(weight+new_weight,state_list+[neighbour]))\n",
    "                    expanded.add(state_to_expand)"
   ]
  }
 ],
 "metadata": {
  "kernelspec": {
   "display_name": "Python 3 (ipykernel)",
   "language": "python",
   "name": "python3"
  },
  "language_info": {
   "codemirror_mode": {
    "name": "ipython",
    "version": 3
   },
   "file_extension": ".py",
   "mimetype": "text/x-python",
   "name": "python",
   "nbconvert_exporter": "python",
   "pygments_lexer": "ipython3",
   "version": "3.12.6"
  }
 },
 "nbformat": 4,
 "nbformat_minor": 5
}
