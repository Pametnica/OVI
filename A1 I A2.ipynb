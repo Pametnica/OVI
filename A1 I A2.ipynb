{
 "cells": [
  {
   "cell_type": "markdown",
   "id": "9834f437-dfb4-402d-ab1a-86715460ca84",
   "metadata": {},
   "source": [
    "Задача: Координирано движење на агенти во лабиринт со повеќе цели\n",
    "\n",
    "Имаш матрица со димензии N×NN×N, каде што:\n",
    "\n",
    "    0 означува проодна ќелија.\n",
    "    1 означува ѕид (непроодна ќелија).\n",
    "    Агенти се позиционирани на одредени стартни точки.\n",
    "    Цели се поставени на различни локации во матрицата.\n",
    "\n",
    "Услови:\n",
    "\n",
    "    Постојат KK агенти (индексирани од A1,A2,…,AKA1​,A2​,…,AK​).\n",
    "\n",
    "    Секој агент има своја специфична целна локација.\n",
    "\n",
    "    Дозволени движења за секој агент се:\n",
    "        Горe (−1,0−1,0)\n",
    "        Долу (+1,0+1,0)\n",
    "        Лево (0,−10,−1)\n",
    "        Десно (0,+10,+1)\n",
    "\n",
    "    Агенти не смеат да се судираат:\n",
    "        Две агенти не можат да се најдат на иста ќелија истовремено.\n",
    "        Агенти не можат да разменат места помеѓу чекори (т.е. AiAi​ не може да оди на местото на AjAj​, ако AjAj​ оди на местото на AiAi​).\n",
    "\n",
    "    Цел на задачата:\n",
    "        Сите агенти мора да стигнат до своите цели.\n",
    "        Најди го оптималниот пат (по вкупна цена) за сите агенти, користејќи еден од алгоритмите: BFS, UCS или A*.\n",
    "\n",
    "Пример матрица:\n",
    "\n",
    "Матрица N=5N=5:\n",
    "\n",
    "0  0  0  0  0  \n",
    "1  1  0  1  0  \n",
    "A1 0  0  1  C1  \n",
    "0  1  0  0  0  \n",
    "0  0  A2 0  C2  \n",
    "\n",
    "    Стартни позиции: A1A1​ на (2,0)(2,0), A2A2​ на (4,2)(4,2).\n",
    "    Цели: C1C1​ на (2,4)(2,4), C2C2​ на (4,4)(4,4).\n",
    "    Блокирачки ѕидови се обележани со 1."
   ]
  },
  {
   "cell_type": "code",
   "execution_count": 75,
   "id": "e5b73f1c-e126-4675-b993-50ab909bcc7c",
   "metadata": {},
   "outputs": [
    {
     "name": "stdout",
     "output_type": "stream",
     "text": [
      "da\n"
     ]
    }
   ],
   "source": [
    "a=\"A1\"\n",
    "type(\"A1\")\n",
    "if \"1\" in a:\n",
    "    print(\"da\")"
   ]
  },
  {
   "cell_type": "code",
   "execution_count": 76,
   "id": "18301c16-2601-442d-9c19-1210b8fe2716",
   "metadata": {},
   "outputs": [],
   "source": [
    "state=(\n",
    "    (0  ,0  ,0  ,0  ,0 ),\n",
    "    (1  ,1  ,0  ,1  ,0 ),\n",
    "    (\"A1\" ,0  ,0  ,1  ,\"C1\"),\n",
    "    (0  ,1  ,0  ,0  ,0 ),\n",
    "    (0 , 0 , \"A2\", 0 , \"C2\")\n",
    "    \n",
    ")\n",
    "goal_state=(\n",
    "    (0  ,0  ,0  ,0  ,0 ),\n",
    "    (1  ,1  ,0  ,1  ,0 ),\n",
    "    (0 ,0  ,0  ,1  ,\"A1\"),\n",
    "    (0  ,1  ,0  ,0  ,0 ),\n",
    "    (0 , 0 , 0, 0 , \"A2\")\n",
    "    \n",
    ")"
   ]
  },
  {
   "cell_type": "code",
   "execution_count": 77,
   "id": "dfca015f-356d-4a1c-af70-43efd7500ec5",
   "metadata": {},
   "outputs": [],
   "source": [
    "AGENTS=[\"A1\",\"A2\"]\n",
    "TARGETS=[\"C1\",\"C2\"]"
   ]
  },
  {
   "cell_type": "code",
   "execution_count": 78,
   "id": "de22e9f5-c24c-46bc-852e-79972c185e55",
   "metadata": {},
   "outputs": [],
   "source": [
    "def find_agent(state,agent):\n",
    "    for i in range(len(AGENTS)):\n",
    "        if \"A\"+str(i) in AGENTS[i]:\n",
    "           continue\n",
    "        for i,row in enumerate(state):\n",
    "            for j,col in enumerate(row):\n",
    "                if state[i][j]==agent:\n",
    "                    return i,j"
   ]
  },
  {
   "cell_type": "code",
   "execution_count": 79,
   "id": "74e9bf7e-79ce-40c9-b67b-0f0fab0680bd",
   "metadata": {},
   "outputs": [
    {
     "data": {
      "text/plain": [
       "(2, 0)"
      ]
     },
     "execution_count": 79,
     "metadata": {},
     "output_type": "execute_result"
    }
   ],
   "source": [
    "find_agent(state,\"A1\")"
   ]
  },
  {
   "cell_type": "code",
   "execution_count": 80,
   "id": "51dcdddd-ce05-4373-aa97-cc88dfd1ca90",
   "metadata": {},
   "outputs": [],
   "source": [
    "def find_target(state,target):\n",
    "     for i in range(len(TARGETS)):\n",
    "        if \"C\"+str(i) in TARGETS[i]:\n",
    "           continue\n",
    "        for i,row in enumerate(state):\n",
    "            for j,col in enumerate(row):\n",
    "                if state[i][j]==target:\n",
    "                    return i,j\n",
    "    "
   ]
  },
  {
   "cell_type": "code",
   "execution_count": 81,
   "id": "12461218-4138-4a04-a54a-439572bec3d1",
   "metadata": {},
   "outputs": [
    {
     "data": {
      "text/plain": [
       "(4, 4)"
      ]
     },
     "execution_count": 81,
     "metadata": {},
     "output_type": "execute_result"
    }
   ],
   "source": [
    "find_target(state,\"C2\")\n",
    "state=(\n",
    "    (0  ,0  ,0  ,0  ,0 ),\n",
    "    (1  ,1  ,0  ,1  ,0 ),\n",
    "    (\"A1\" ,0  ,0  ,1  ,\"C1\"),\n",
    "    (0  ,1  ,0  ,0  ,0 ),\n",
    "    (0 , 0 , \"A2\", 0 , \"C2\")\n",
    "    \n",
    ")"
   ]
  },
  {
   "cell_type": "code",
   "execution_count": 101,
   "id": "6d0bc983-a0c8-4456-86ac-a64c19efc9ce",
   "metadata": {},
   "outputs": [],
   "source": [
    "def limits_of_table(x, y):\n",
    "    if 0 <= x <= 4 and 0 <= y <= 4:\n",
    "        obstacle_positions = {(1,0),(1,1),(1,3),(3,1)}\n",
    "        if (x, y) not in obstacle_positions: \n",
    "            return True#vrakja (x,y) ako na taa pozicija nema precka, preckite gi cita sejaci od slika"
   ]
  },
  {
   "cell_type": "code",
   "execution_count": 102,
   "id": "54edf44f-e638-4e33-adbc-16396a17a86f",
   "metadata": {},
   "outputs": [],
   "source": [
    "def same_position(x1,y1,x2,y2):\n",
    "    if x1 == x2 and y1 == y2:\n",
    "        return False\n",
    "    else:\n",
    "        return True"
   ]
  },
  {
   "cell_type": "code",
   "execution_count": 103,
   "id": "f3c66c04-dcc1-4886-a11e-e94dbcb33c91",
   "metadata": {},
   "outputs": [],
   "source": [
    "def expand_state(state):\n",
    "    states = []   # lista kade kje gi skladirame prosirenite\n",
    "    new_state_matrix = [list(row) for row in state] # hard copy na state\n",
    "\n",
    "    possible_moves_A1 = [(0, 1),(0, -1),(1, 0),(-1, 0)]  # mozni premini na lovec vo shahot(mnogu lesno moze da se dobie za kralica;samo possible moves od gore)\n",
    "    possible_moves_A2 = [(0, 1),(0, -1),(1, 0),(-1, 0)]  # KONJ\n",
    "    \n",
    "    x,y = find_agent(new_state_matrix,\"A1\")# find element ja imas\n",
    "    w,z = find_agent(new_state_matrix,\"A2\")# find element ja imas\n",
    "\n",
    "    for (dx,dy),(dw,dz) in zip(possible_moves_A1, possible_moves_A2): #povtorno iterira istovremeno za dvata elementi vo listata\n",
    "        new_state_matrix = [list(row) for row in state] # povtorno hard copy na state\n",
    "        new_x = x + dx #pomestuvanja\n",
    "        new_y = y + dy\n",
    "        new_w = w + dw\n",
    "        new_z = z + dz\n",
    "        #print(new_x,new_y,new_w,new_z)\n",
    "        if same_position(new_x,new_y,new_w,new_z): # vnimavaj funkcijata vrakja true ako NE se na ista pozicija\n",
    "            if limits_of_table(new_x,new_y):  # limits of table vrakja TURE ako se naogjaat vnatre vo tablata \n",
    "                new_state_matrix[x][y] = 0       # stata 0 na mestotot kade shto se naogjal konjot\n",
    "                new_state_matrix[new_x][new_y] = \"A1\"  #KONJ=1\n",
    "            if limits_of_table(new_w,new_z):\n",
    "                new_state_matrix[w][z] = 0 # stava 0 na prethodnata pozicija na lovecot\n",
    "                new_state_matrix[new_w][new_z] = \"A2\"#2=LOVEC\n",
    "            states.append((1,tuple(map(tuple,new_state_matrix)))) # torka od statovi\n",
    "    return states "
   ]
  },
  {
   "cell_type": "code",
   "execution_count": 104,
   "id": "a38d5004-f3d9-4961-b09b-db70c2e5533b",
   "metadata": {},
   "outputs": [
    {
     "data": {
      "text/plain": [
       "[(1,\n",
       "  ((0, 0, 0, 0, 0),\n",
       "   (1, 1, 0, 1, 0),\n",
       "   (0, 'A1', 0, 1, 'C1'),\n",
       "   (0, 1, 0, 0, 0),\n",
       "   (0, 0, 0, 'A2', 'C2'))),\n",
       " (1,\n",
       "  ((0, 0, 0, 0, 0),\n",
       "   (1, 1, 0, 1, 0),\n",
       "   ('A1', 0, 0, 1, 'C1'),\n",
       "   (0, 1, 0, 0, 0),\n",
       "   (0, 'A2', 0, 0, 'C2'))),\n",
       " (1,\n",
       "  ((0, 0, 0, 0, 0),\n",
       "   (1, 1, 0, 1, 0),\n",
       "   (0, 0, 0, 1, 'C1'),\n",
       "   ('A1', 1, 0, 0, 0),\n",
       "   (0, 0, 'A2', 0, 'C2'))),\n",
       " (1,\n",
       "  ((0, 0, 0, 0, 0),\n",
       "   (1, 1, 0, 1, 0),\n",
       "   ('A1', 0, 0, 1, 'C1'),\n",
       "   (0, 1, 'A2', 0, 0),\n",
       "   (0, 0, 0, 0, 'C2')))]"
      ]
     },
     "execution_count": 104,
     "metadata": {},
     "output_type": "execute_result"
    }
   ],
   "source": [
    "expand_state(state)"
   ]
  },
  {
   "cell_type": "code",
   "execution_count": 105,
   "id": "917f343e-9b2b-443e-9afd-25d97de3c439",
   "metadata": {},
   "outputs": [],
   "source": [
    "def manhattan_distance(agent,target):\n",
    "    x,y=agent\n",
    "    z,w=target\n",
    "    return abs(x - z) + abs(y - w)\n",
    "    "
   ]
  },
  {
   "cell_type": "code",
   "execution_count": 106,
   "id": "886a35c2-efa3-4e6c-934d-8a0de46c24e8",
   "metadata": {},
   "outputs": [],
   "source": [
    "def heuristic_function(current_state, goal_state):\n",
    "    agent1=find_agent(current_state,\"A1\")\n",
    "    target1=find_target(current_state,\"C1\")\n",
    "    weight=manhattan_distance(agent1,target1)\n",
    "    agent2=find_agent(current_state,\"A2\")\n",
    "    target2=find_target(current_state,\"C2\")\n",
    "    weight1=manhattan_distance(agent2,target2)\n",
    "    return (weight+weight1)/2\n",
    "    "
   ]
  },
  {
   "cell_type": "code",
   "execution_count": 107,
   "id": "0fb4e39e-bbbd-448b-b8b8-0e6e16a8eb09",
   "metadata": {},
   "outputs": [],
   "source": [
    "def he(current_state,goal_state):\n",
    "    N=len(AGENTS)\n",
    "    weight=0\n",
    "    for i in range(1,N):\n",
    "        agent=\"A\"+str(i)\n",
    "        target=\"T\"+str(i)\n",
    "        a=find_agent(current_state,agent)\n",
    "        t=find_target(current_state,target)\n",
    "        weight=manhattan_distance(a,t)\n",
    "        weight+=weight\n",
    "    return weight/2"
   ]
  },
  {
   "cell_type": "code",
   "execution_count": 111,
   "id": "6301c6ce-e80c-42bd-af40-6d2435b2939f",
   "metadata": {},
   "outputs": [
    {
     "data": {
      "text/plain": [
       "3.0"
      ]
     },
     "execution_count": 111,
     "metadata": {},
     "output_type": "execute_result"
    }
   ],
   "source": [
    "h=heuristic_function(state,goal_state)\n",
    "h"
   ]
  },
  {
   "cell_type": "code",
   "execution_count": 114,
   "id": "b0ab1c77-4a88-4bcb-a252-86774cb0aa65",
   "metadata": {},
   "outputs": [],
   "source": [
    "def check_end(state):\n",
    "    for i,row in enumerate(state):\n",
    "        for j,col in enumerate(row):\n",
    "            if state[i][j]!=goal_state[i][j]:\n",
    "                return False\n",
    "    return True"
   ]
  },
  {
   "cell_type": "code",
   "execution_count": 123,
   "id": "8f2cad01-0e84-4b06-b20c-38458e1b2356",
   "metadata": {},
   "outputs": [],
   "source": [
    "def a_star_search(initial_state, h, alpha=1): \n",
    "    expanded=set()\n",
    "    if check_end(state_to_expand): \n",
    "        return []\n",
    "    queue=[((0,0),[starting_vertex])]\n",
    "    heapq.heapify(queue)\n",
    "    # while queue:\n",
    "    #     weight, state_list=heapq.heappop(queue)\n",
    "    #     current_a_star_weight, current_path_weight=weight\n",
    "    #     state_to_expand=state_list[-1]\n",
    "    while queue:\n",
    "        weight, state_list = heapq.heappop(queue)\n",
    "        current_a_star_weight, current_path_weight = weight\n",
    "        state_to_expand = state_list[-1] \n",
    "        if check_end(state_to_expand):\n",
    "            return current_path_weight, state_list\n",
    "        else:\n",
    "            for next_state in expand(state_to_expand):\n",
    "                if next_state not in expanded:\n",
    "                    h=heuristic_function(neighbour)\n",
    "                    path_weight=current_path_weight+1\n",
    "                    a_star_weight=path_weight+alpha*h\n",
    "                    heapq.heappush(queue, ((a_star_weight, path_weight), state_list+[next_state]))\n",
    "                expanded.add(next_state)\n"
   ]
  },
  {
   "cell_type": "code",
   "execution_count": 124,
   "id": "70f37043-b4e4-4803-a8f0-56c663673fd9",
   "metadata": {},
   "outputs": [
    {
     "ename": "UnboundLocalError",
     "evalue": "cannot access local variable 'state_to_expand' where it is not associated with a value",
     "output_type": "error",
     "traceback": [
      "\u001b[0;31m---------------------------------------------------------------------------\u001b[0m",
      "\u001b[0;31mUnboundLocalError\u001b[0m                         Traceback (most recent call last)",
      "Cell \u001b[0;32mIn[124], line 1\u001b[0m\n\u001b[0;32m----> 1\u001b[0m \u001b[43ma_star_search\u001b[49m\u001b[43m(\u001b[49m\u001b[43mstate\u001b[49m\u001b[43m,\u001b[49m\u001b[43mh\u001b[49m\u001b[43m,\u001b[49m\u001b[38;5;241;43m1\u001b[39;49m\u001b[43m)\u001b[49m\n",
      "Cell \u001b[0;32mIn[123], line 3\u001b[0m, in \u001b[0;36ma_star_search\u001b[0;34m(initial_state, h, alpha)\u001b[0m\n\u001b[1;32m      1\u001b[0m \u001b[38;5;28;01mdef\u001b[39;00m \u001b[38;5;21ma_star_search\u001b[39m(initial_state, h, alpha\u001b[38;5;241m=\u001b[39m\u001b[38;5;241m1\u001b[39m): \n\u001b[1;32m      2\u001b[0m     expanded\u001b[38;5;241m=\u001b[39m\u001b[38;5;28mset\u001b[39m()\n\u001b[0;32m----> 3\u001b[0m     \u001b[38;5;28;01mif\u001b[39;00m check_end(\u001b[43mstate_to_expand\u001b[49m): \n\u001b[1;32m      4\u001b[0m         \u001b[38;5;28;01mreturn\u001b[39;00m []\n\u001b[1;32m      5\u001b[0m     queue\u001b[38;5;241m=\u001b[39m[((\u001b[38;5;241m0\u001b[39m,\u001b[38;5;241m0\u001b[39m),[starting_vertex])]\n",
      "\u001b[0;31mUnboundLocalError\u001b[0m: cannot access local variable 'state_to_expand' where it is not associated with a value"
     ]
    }
   ],
   "source": [
    "a_star_search(state,h,1)"
   ]
  },
  {
   "cell_type": "code",
   "execution_count": null,
   "id": "94e7b78a-28f4-4694-b77a-d083b628f722",
   "metadata": {},
   "outputs": [],
   "source": []
  },
  {
   "cell_type": "code",
   "execution_count": null,
   "id": "837428aa-270c-476a-84ec-e0f0de1f7d35",
   "metadata": {},
   "outputs": [],
   "source": []
  },
  {
   "cell_type": "code",
   "execution_count": null,
   "id": "5e1057b3-0889-4dee-bc7a-8d7111ed3f77",
   "metadata": {},
   "outputs": [],
   "source": []
  },
  {
   "cell_type": "code",
   "execution_count": null,
   "id": "1cf50b73-3cc1-401b-8b6f-cdecbb539eb6",
   "metadata": {},
   "outputs": [],
   "source": []
  },
  {
   "cell_type": "code",
   "execution_count": null,
   "id": "c977651a-7cae-419d-8912-f70cc0cf50f9",
   "metadata": {},
   "outputs": [],
   "source": []
  },
  {
   "cell_type": "code",
   "execution_count": null,
   "id": "9b5080dd-a7d2-4228-9fed-d8bca75b0bde",
   "metadata": {},
   "outputs": [],
   "source": []
  },
  {
   "cell_type": "code",
   "execution_count": null,
   "id": "202ab454-44b6-4edc-a06f-ceb7702e5cc6",
   "metadata": {},
   "outputs": [],
   "source": []
  },
  {
   "cell_type": "code",
   "execution_count": null,
   "id": "1d5f155c-cb5b-4025-a7d3-59075e71dd3a",
   "metadata": {},
   "outputs": [],
   "source": []
  },
  {
   "cell_type": "code",
   "execution_count": null,
   "id": "0d7707ae-c929-453c-b155-edfff7c4dc71",
   "metadata": {},
   "outputs": [],
   "source": []
  }
 ],
 "metadata": {
  "kernelspec": {
   "display_name": "Python 3 (ipykernel)",
   "language": "python",
   "name": "python3"
  },
  "language_info": {
   "codemirror_mode": {
    "name": "ipython",
    "version": 3
   },
   "file_extension": ".py",
   "mimetype": "text/x-python",
   "name": "python",
   "nbconvert_exporter": "python",
   "pygments_lexer": "ipython3",
   "version": "3.12.6"
  }
 },
 "nbformat": 4,
 "nbformat_minor": 5
}
