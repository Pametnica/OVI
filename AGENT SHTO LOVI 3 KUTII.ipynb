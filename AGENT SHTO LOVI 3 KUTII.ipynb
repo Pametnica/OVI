{
 "cells": [
  {
   "cell_type": "code",
   "execution_count": 193,
   "id": "8086e62e-e158-4f75-b3fe-d64a4db05880",
   "metadata": {},
   "outputs": [
    {
     "ename": "SyntaxError",
     "evalue": "invalid character '×' (U+00D7) (1918789110.py, line 4)",
     "output_type": "error",
     "traceback": [
      "\u001b[0;36m  Cell \u001b[0;32mIn[193], line 4\u001b[0;36m\u001b[0m\n\u001b[0;31m    ×\u001b[0m\n\u001b[0m    ^\u001b[0m\n\u001b[0;31mSyntaxError\u001b[0m\u001b[0;31m:\u001b[0m invalid character '×' (U+00D7)\n"
     ]
    }
   ],
   "source": [
    "Задача: Робот собирач на предмети\n",
    "Робот се движи низ лавиринт и треба да собере одреден број предмети и потоа да стигне до целна позиција. Лавиринтот е претставен како матрица \n",
    "𝑁\n",
    "×\n",
    "𝑀\n",
    "N×M, каде што:\n",
    "\n",
    "0 – проодно поле.\n",
    "1 – ѕид (непроодно поле).\n",
    "P – позиција со предмет (роботот треба да ги посети сите P).\n",
    "S – почетна позиција на роботот.\n",
    "G – целна позиција.\n",
    "Правила:\n",
    "Роботот може да се движи горе, долу, лево или десно.\n",
    "Може да помине низ исто поле повеќе пати, но не може да помине низ пречки (1).\n",
    "За да се смета дека задачата е завршена, роботот треба да ги посети сите полиња со P барем еднаш и потоа да стигне до G.\n",
    "Алгоритмот треба да најде најкраток пат што ги задоволува горните услови.\n",
    "Влез:\n",
    "Матрица \n",
    "\n",
    "N×M.\n",
    "Почетна позиција \n",
    "𝑆\n",
    " и целна позиција \n",
    "\n",
    "G.\n",
    "Координати на сите P.\n",
    "Излез:\n",
    "Најкраток пат (ако постои), претставен како листа од координати или порака дека нема решение. \n",
    "S 0 1 P 0\n",
    "1 0 1 0 0\n",
    "0 0 P 1 0\n",
    "P 1 1 1 G\n",
    "0 0 0 0 0\n",
    "Почетна позиција: \n",
    "𝑆=(0,0)\n",
    "S=(0,0)\n",
    "Целна позиција: \n",
    "𝐺=(3,4)\n",
    "G=(3,4)\n",
    "Полиња со предмети: \n",
    "𝑃={(0,3),(2,2),(3,0)}\n",
    "P={(0,3),(2,2),(3,0)}"
   ]
  },
  {
   "cell_type": "code",
   "execution_count": 194,
   "id": "ff069aa0-7e28-4770-a629-208512ff2101",
   "metadata": {},
   "outputs": [],
   "source": [
    "state=(\n",
    "(\"S\", 0, 1, \"P\", 0),\n",
    "(1 ,0 ,1 ,0 ,0),\n",
    "(0, 0,\"P\", 1, 0),\n",
    "(\"P\" ,1 ,1 ,1 ,\"G\"),\n",
    "(0, 0, 0, 0, 0),\n",
    ")\n",
    "𝑆=(0,0)\n",
    "G=(3,4)\n",
    "P={(0,3),(2,2),(3,0)}\n",
    "N=len(state)\n",
    "M=len(state[0])"
   ]
  },
  {
   "cell_type": "code",
   "execution_count": 195,
   "id": "38696dc4-67ef-4bf3-a4b8-f6bc3698a69c",
   "metadata": {},
   "outputs": [],
   "source": [
    "def find_position_robot(matrix_state):\n",
    "    for x, row in enumerate(matrix_state):\n",
    "        for y, column in enumerate(matrix_state):\n",
    "            if matrix_state[x][y]==\"S\":\n",
    "                return (x,y)"
   ]
  },
  {
   "cell_type": "code",
   "execution_count": 196,
   "id": "e97a94ce-7f1b-44e4-b3f5-1c7a5bdf34fc",
   "metadata": {},
   "outputs": [],
   "source": [
    "def find_position_goal(matrix_state):\n",
    "    for x, row in enumerate(matrix_state):\n",
    "        for y, column in enumerate(matrix_state):\n",
    "            if matrix_state[x][y]==\"G\":\n",
    "                return (x,y)"
   ]
  },
  {
   "cell_type": "code",
   "execution_count": 197,
   "id": "80dcfdd9-ce73-4a5e-95a3-0e48a1eaf4d5",
   "metadata": {},
   "outputs": [],
   "source": [
    "def find_position_box(matrix_state):\n",
    "    box_list=[]\n",
    "    for x, row in enumerate(matrix_state):\n",
    "        for y, column in enumerate(matrix_state):\n",
    "            if matrix_state[x][y]==\"P\":\n",
    "                box_list.append((x,y))\n",
    "    return box_list"
   ]
  },
  {
   "cell_type": "code",
   "execution_count": 198,
   "id": "52eea653-e5ed-4d16-bafd-dc43db9224bf",
   "metadata": {},
   "outputs": [],
   "source": [
    "def find_position_wall(matrix_state):\n",
    "    box_list=[]\n",
    "    for x, row in enumerate(matrix_state):\n",
    "        for y, column in enumerate(matrix_state):\n",
    "            if matrix_state[x][y]==1:\n",
    "                box_list.append((x,y))\n",
    "    return box_list"
   ]
  },
  {
   "cell_type": "code",
   "execution_count": 199,
   "id": "23c0cb20-d0de-48e8-afc8-d6904078fd83",
   "metadata": {},
   "outputs": [
    {
     "data": {
      "text/plain": [
       "[(0, 3), (2, 2), (3, 0)]"
      ]
     },
     "execution_count": 199,
     "metadata": {},
     "output_type": "execute_result"
    }
   ],
   "source": [
    "find_position_box(state)"
   ]
  },
  {
   "cell_type": "code",
   "execution_count": 200,
   "id": "dc645813-93c7-4074-8f99-9a145581e1ba",
   "metadata": {},
   "outputs": [],
   "source": [
    "def distance_of_the_box(state, robot_position, box_position):\n",
    "    robot_position=z,p\n",
    "    box_position=i,j\n",
    "    if robot_position.difference(box_position)==1:\n",
    "        return True"
   ]
  },
  {
   "cell_type": "code",
   "execution_count": 201,
   "id": "06b15b90-3ed3-4252-b17a-e701df1a40c4",
   "metadata": {},
   "outputs": [],
   "source": [
    "def limits_of_table(x,y):\n",
    "    obstacle_positions = {(0, 2), (1, 0), (1, 2), (2, 3), (3, 1), (3, 2), (3, 3)}\n",
    "    if 0 <= x <= N-1 and 0 <= y <= M-1 and (x, y) not in obstacle_positions:\n",
    "        return True"
   ]
  },
  {
   "cell_type": "code",
   "execution_count": 202,
   "id": "19a42293-6929-406a-b5da-51d26ea23fcd",
   "metadata": {},
   "outputs": [],
   "source": [
    "def agent_moves(robot):\n",
    "    new_states=[]\n",
    "    robot = i,j\n",
    "    possible_moves=[(i,j+1),(i,j-1),(i+1,j),(i-1,j)]\n",
    "    for m, n in possible_moves:\n",
    "        if is_valid(state):\n",
    "            new_states.append((z,p))\n",
    "    return new_states"
   ]
  },
  {
   "cell_type": "code",
   "execution_count": 226,
   "id": "0092b07c-90b1-4336-9e64-ede7886d8e96",
   "metadata": {},
   "outputs": [],
   "source": [
    "def expand_state(state):\n",
    "    states = []\n",
    "    new_state_matrix = [list(row) for row in state]\n",
    "\n",
    "    possible_moves_robot = [(1, 0),(-1, 0),(0, 1),(0, -1)]\n",
    "    \n",
    "    x,y = find_position_robot(new_state_matrix)\n",
    "\n",
    "    for (dx,dy) in possible_moves_robot:\n",
    "        new_state_matrix = [list(row) for row in state]\n",
    "        new_x = x + dx\n",
    "        new_y = y + dy\n",
    "        if limits_of_table(new_x,new_y):\n",
    "            new_state_matrix[x][y] = 0\n",
    "            new_state_matrix[new_x][new_y] = \"S\"\n",
    "            states.append((1,tuple(map(tuple,new_state_matrix))))\n",
    "    return states \n"
   ]
  },
  {
   "cell_type": "code",
   "execution_count": 227,
   "id": "34a378a2-d7be-4f56-93cf-8dc1203ab798",
   "metadata": {},
   "outputs": [
    {
     "data": {
      "text/plain": [
       "[(1,\n",
       "  ((0, 'S', 1, 'P', 0),\n",
       "   (1, 0, 1, 0, 0),\n",
       "   (0, 0, 'P', 1, 0),\n",
       "   ('P', 1, 1, 1, 'G'),\n",
       "   (0, 0, 0, 0, 0)))]"
      ]
     },
     "execution_count": 227,
     "metadata": {},
     "output_type": "execute_result"
    }
   ],
   "source": [
    "expand_state(state)"
   ]
  },
  {
   "cell_type": "code",
   "execution_count": 228,
   "id": "f3d7ba27-dcc3-49de-94c3-737fbda48047",
   "metadata": {},
   "outputs": [],
   "source": [
    "def check_goal(state_matrix):\n",
    "    robot=find_position_robot(state_matrix)\n",
    "    x,y=robot\n",
    "    table_check_matrix = [list(row) for row in state_matrix]\n",
    "    count_boxes = sum(row.count(3) for row in table_check_matrix)\n",
    "    if x==3 and y==4 and count_boxes==0:\n",
    "        return True"
   ]
  },
  {
   "cell_type": "code",
   "execution_count": 229,
   "id": "6df65b44-2c26-4398-ba90-ea68b465aacc",
   "metadata": {},
   "outputs": [],
   "source": [
    "from collections import deque\n",
    "def search_path(initial_state):\n",
    "    visited = {initial_state}\n",
    "    states_queue = deque([[initial_state]])\n",
    "    while states_queue:\n",
    "        states_list = states_queue.popleft()\n",
    "        state_to_expand = states_list[-1]\n",
    "        for next_state in expand_state(state_to_expand):\n",
    "            if next_state not in visited:\n",
    "                if check_goal(next_state):\n",
    "                    return states_list + [next_state]\n",
    "                visited.add(next_state)\n",
    "                states_queue.append(states_list + [next_state])\n",
    "    return []"
   ]
  },
  {
   "cell_type": "code",
   "execution_count": 230,
   "id": "585695ce-c6e7-4475-8481-9c003defe231",
   "metadata": {},
   "outputs": [],
   "source": [
    "def manhattan_distance(state_1, state_2):\n",
    "    return abs(state_1[0] - state_2[0]) + abs(state_1[1] - state_2[1])"
   ]
  },
  {
   "cell_type": "code",
   "execution_count": 236,
   "id": "3be0c0f5-ebe0-4a62-b662-4528abc615a3",
   "metadata": {},
   "outputs": [],
   "source": [
    "def heuristic(state):\n",
    "    agent=find_position_robot(state)\n",
    "    w=0\n",
    "    box_list=[(0, 3), (2, 2), (3, 0)]\n",
    "    for box in box_list:\n",
    "        i=box[0]\n",
    "        j=box[1]\n",
    "        w+=manhattan_distance(agent,(i,j))\n",
    "    return round(w/3)"
   ]
  },
  {
   "cell_type": "code",
   "execution_count": 237,
   "id": "4d877287-f3d7-4b5f-9e3d-2ee4beac75b8",
   "metadata": {},
   "outputs": [
    {
     "data": {
      "text/plain": [
       "3"
      ]
     },
     "execution_count": 237,
     "metadata": {},
     "output_type": "execute_result"
    }
   ],
   "source": [
    "heuristic(state)"
   ]
  },
  {
   "cell_type": "code",
   "execution_count": 243,
   "id": "0e2b2f57-e1cb-4f1a-b41a-797c82b99d5c",
   "metadata": {},
   "outputs": [],
   "source": [
    "import heapq\n",
    "def a_star_search(initial_state, goal_state):\n",
    "    \n",
    "    queue = [((0, 0), [initial_state])]\n",
    "    heapq.heapify(queue)\n",
    "    expanded = set()\n",
    "    \n",
    "    while queue:\n",
    "        current_weight_tuple, list_to_expand = heapq.heappop(queue)\n",
    "        current_a_star_weight, current_path_weight = current_weight_tuple\n",
    "        state_to_expand = list_to_expand[-1]\n",
    "        \n",
    "        if state_to_expand == goal_state:\n",
    "            return current_path_weight, list_to_expand\n",
    "        \n",
    "        if state_to_expand not in expanded:\n",
    "            for next_path_weight, next_state in expand_state(state_to_expand):\n",
    "                if next_state not in expanded:\n",
    "                    total_path_weight = current_path_weight + next_path_weight\n",
    "                    a_star_weight = total_path_weight + heuristic(next_state)\n",
    "                    heapq.heappush(queue, ((a_star_weight, total_path_weight), list_to_expand + [next_state]))\n",
    "            expanded.add(state_to_expand)"
   ]
  },
  {
   "cell_type": "code",
   "execution_count": 244,
   "id": "ee6f9c27-58ec-4fcb-9c40-6b071fd4ba4a",
   "metadata": {},
   "outputs": [],
   "source": [
    "goal = (\n",
    "    \"0, 0, 1, 0, 0\\n\"\n",
    "    \"1, 0, 1, 0, 0\\n\"\n",
    "    \"0, 0, 0, 1, 0\\n\"\n",
    "    \"0, 1, 1, 1, 'S'\\n\"\n",
    "    \"0, 0, 0, 0, 0\"\n",
    ")\n"
   ]
  },
  {
   "cell_type": "code",
   "execution_count": null,
   "id": "2954b86a-3e49-44d5-b302-f8dc6188aac6",
   "metadata": {},
   "outputs": [],
   "source": []
  },
  {
   "cell_type": "code",
   "execution_count": null,
   "id": "2d9ab26c-37be-4577-a594-0ccfa477ce52",
   "metadata": {},
   "outputs": [],
   "source": []
  },
  {
   "cell_type": "code",
   "execution_count": null,
   "id": "e106c891-eb0f-4381-aad6-470eb188f2f2",
   "metadata": {},
   "outputs": [],
   "source": []
  },
  {
   "cell_type": "code",
   "execution_count": null,
   "id": "e605fe70-24d4-4997-815e-71e64b64fff5",
   "metadata": {},
   "outputs": [],
   "source": []
  },
  {
   "cell_type": "code",
   "execution_count": null,
   "id": "499d6d05-a2d5-49b1-8807-605f3547edb1",
   "metadata": {},
   "outputs": [],
   "source": []
  },
  {
   "cell_type": "code",
   "execution_count": null,
   "id": "bcdf69a0-737a-4daf-bc00-4e2d76fac6a2",
   "metadata": {},
   "outputs": [],
   "source": []
  },
  {
   "cell_type": "code",
   "execution_count": null,
   "id": "93d8132d-c001-43e7-85bc-5234c1cd36d9",
   "metadata": {},
   "outputs": [],
   "source": []
  },
  {
   "cell_type": "code",
   "execution_count": null,
   "id": "48277191-6c29-4b2a-a820-fc90ea0d9904",
   "metadata": {},
   "outputs": [],
   "source": []
  },
  {
   "cell_type": "code",
   "execution_count": null,
   "id": "d0b39d44-c50e-4604-84ca-11710f88ae68",
   "metadata": {},
   "outputs": [],
   "source": []
  },
  {
   "cell_type": "code",
   "execution_count": null,
   "id": "f154f279-a448-4354-b76c-30f0675cab32",
   "metadata": {},
   "outputs": [],
   "source": []
  },
  {
   "cell_type": "code",
   "execution_count": null,
   "id": "88e68cb0-6b0a-4b70-955e-564c224a4535",
   "metadata": {},
   "outputs": [],
   "source": []
  },
  {
   "cell_type": "code",
   "execution_count": null,
   "id": "48f2bf0f-cd57-49f7-b2ab-1a6ca100343e",
   "metadata": {},
   "outputs": [],
   "source": []
  }
 ],
 "metadata": {
  "kernelspec": {
   "display_name": "Python 3 (ipykernel)",
   "language": "python",
   "name": "python3"
  },
  "language_info": {
   "codemirror_mode": {
    "name": "ipython",
    "version": 3
   },
   "file_extension": ".py",
   "mimetype": "text/x-python",
   "name": "python",
   "nbconvert_exporter": "python",
   "pygments_lexer": "ipython3",
   "version": "3.12.6"
  }
 },
 "nbformat": 4,
 "nbformat_minor": 5
}
