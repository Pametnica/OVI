{
 "cells": [
  {
   "cell_type": "code",
   "execution_count": 13,
   "id": "d42139b8-9623-421a-b9c0-b1100b0e3bda",
   "metadata": {},
   "outputs": [],
   "source": [
    "def toggle(matrix,x,y):\n",
    "    N=len(matrix)\n",
    "    if (x>=0 and x<=N-1) and (y>=0 and y<=N-1):\n",
    "        matrix[x][y]=1-matrix[x][y]\n",
    "        if not x<=0:\n",
    "            matrix[x-1][y]=1-matrix[x-1][y]\n",
    "        if not x>N-1:\n",
    "            matrix[x+1][y]=1-matrix[x+1][y]\n",
    "        if not y<0:\n",
    "            matrix[x][y-1]=1-matrix[x][y-1]\n",
    "        if not y>=N-1:\n",
    "            matrix[x][y+1]=1-matrix[x][y-1]\n",
    "    return matrix\n",
    "    # ova treba da vrakja graf- tuka da go formira"
   ]
  },
  {
   "cell_type": "code",
   "execution_count": 16,
   "id": "8167685f-b128-49d2-bc01-5806f37f7c9f",
   "metadata": {},
   "outputs": [
    {
     "name": "stdout",
     "output_type": "stream",
     "text": [
      "((0, 0, [[0, 0, 1, 0], [0, 0, 1, 1], [1, 1, 0, 0], [0, 1, 0, 0]]), (0, 1, [[0, 0, 1, 0], [0, 0, 1, 1], [1, 1, 0, 0], [0, 1, 0, 0]]), (0, 2, [[0, 0, 1, 0], [0, 0, 1, 1], [1, 1, 0, 0], [0, 1, 0, 0]]), (0, 3, [[0, 0, 1, 0], [0, 0, 1, 1], [1, 1, 0, 0], [0, 1, 0, 0]]), (1, 0, [[0, 0, 1, 0], [0, 0, 1, 1], [1, 1, 0, 0], [0, 1, 0, 0]]), (1, 1, [[0, 0, 1, 0], [0, 0, 1, 1], [1, 1, 0, 0], [0, 1, 0, 0]]), (1, 2, [[0, 0, 1, 0], [0, 0, 1, 1], [1, 1, 0, 0], [0, 1, 0, 0]]), (1, 3, [[0, 0, 1, 0], [0, 0, 1, 1], [1, 1, 0, 0], [0, 1, 0, 0]]), (2, 0, [[0, 0, 1, 0], [0, 0, 1, 1], [1, 1, 0, 0], [0, 1, 0, 0]]), (2, 1, [[0, 0, 1, 0], [0, 0, 1, 1], [1, 1, 0, 0], [0, 1, 0, 0]]), (2, 2, [[0, 0, 1, 0], [0, 0, 1, 1], [1, 1, 0, 0], [0, 1, 0, 0]]), (2, 3, [[0, 0, 1, 0], [0, 0, 1, 1], [1, 1, 0, 0], [0, 1, 0, 0]]), (3, 0, [[0, 0, 1, 0], [0, 0, 1, 1], [1, 1, 0, 0], [0, 1, 0, 0]]), (3, 1, [[0, 0, 1, 0], [0, 0, 1, 1], [1, 1, 0, 0], [0, 1, 0, 0]]), (3, 2, [[0, 0, 1, 0], [0, 0, 1, 1], [1, 1, 0, 0], [0, 1, 0, 0]]), (3, 3, [[0, 0, 1, 0], [0, 0, 1, 1], [1, 1, 0, 0], [0, 1, 0, 0]]))\n"
     ]
    }
   ],
   "source": [
    "def expand_state(matrix): #parkajm matrica\n",
    "    state_list=[]\n",
    "    N=len(matrix)\n",
    "    for x in range(N):\n",
    "        for y  in range(N):\n",
    "            tuple_dusho=tuple((x,y,(toggle(matrix,x,y))))\n",
    "            state_list.append(tuple_dusho)\n",
    "    return (tuple(state_list))# state list e lista od torki (x,y,prevrtena matrica\n",
    "\n",
    "N = 4\n",
    "TABLE = [\n",
    "    [0, 0, 1, 0],\n",
    "    [0, 0, 1, 1],\n",
    "    [1, 1, 0, 0],\n",
    "    [0, 1, 0, 0],\n",
    "]\n",
    "print(expand_state(TABLE))"
   ]
  },
  {
   "cell_type": "code",
   "execution_count": 15,
   "id": "72b923da-a894-4e82-929f-d6f211cfee7c",
   "metadata": {},
   "outputs": [],
   "source": [
    "def toggle(matrix,x,y):\n",
    "    N=len(matrix)\n",
    "    for x in range(N):\n",
    "        for y in range(N):\n",
    "            matrix[x][y]=1-matrix[x][y]\n",
    "            if not x<=0:\n",
    "                matrix[x-1][y]=1-matrix[x-1][y]\n",
    "            if not x>N-1:\n",
    "                matrix[x+1][y]=1-matrix[x+1][y]\n",
    "            if not y<0:\n",
    "                matrix[x][y-1]=1-matrix[x][y-1]\n",
    "            if not y>=N-1:\n",
    "                matrix[x][y+1]=1-matrix[x][y-1]\n",
    "        return matrix"
   ]
  },
  {
   "cell_type": "code",
   "execution_count": null,
   "id": "cbc5bec3-a905-4f29-9191-861ad993b21f",
   "metadata": {},
   "outputs": [],
   "source": []
  },
  {
   "cell_type": "code",
   "execution_count": null,
   "id": "599aa70d-7411-46eb-8f56-fcc696dc05c2",
   "metadata": {},
   "outputs": [],
   "source": []
  },
  {
   "cell_type": "code",
   "execution_count": null,
   "id": "e467b2b4-6db3-44eb-bb3b-5580ac604053",
   "metadata": {},
   "outputs": [],
   "source": []
  },
  {
   "cell_type": "code",
   "execution_count": null,
   "id": "6a63d120-7ba2-48b3-909f-2164f001c3da",
   "metadata": {},
   "outputs": [],
   "source": []
  },
  {
   "cell_type": "code",
   "execution_count": null,
   "id": "c2814492-cf92-4e4b-ad24-74758fd20c6f",
   "metadata": {},
   "outputs": [],
   "source": []
  },
  {
   "cell_type": "code",
   "execution_count": null,
   "id": "a5412a36-e7b0-4100-ac78-f93496116887",
   "metadata": {},
   "outputs": [],
   "source": []
  },
  {
   "cell_type": "code",
   "execution_count": null,
   "id": "07657311-91db-423d-a93e-a58608534522",
   "metadata": {},
   "outputs": [],
   "source": []
  },
  {
   "cell_type": "code",
   "execution_count": null,
   "id": "0c5c3be3-c3d8-446c-a82e-27420d2da9a8",
   "metadata": {},
   "outputs": [],
   "source": []
  },
  {
   "cell_type": "code",
   "execution_count": null,
   "id": "df06549a-a69a-48c0-812b-d7a61e62abb9",
   "metadata": {},
   "outputs": [],
   "source": []
  },
  {
   "cell_type": "code",
   "execution_count": null,
   "id": "7d91d7d3-c4f4-4f8f-84ad-912e03b0c988",
   "metadata": {},
   "outputs": [],
   "source": []
  },
  {
   "cell_type": "code",
   "execution_count": null,
   "id": "02cb0c47-9a13-4623-8492-49186bf44d5d",
   "metadata": {},
   "outputs": [],
   "source": []
  },
  {
   "cell_type": "code",
   "execution_count": null,
   "id": "cc63c799-911e-4d65-898c-bc359c7d4521",
   "metadata": {},
   "outputs": [],
   "source": []
  },
  {
   "cell_type": "code",
   "execution_count": null,
   "id": "ecec3fec-15fe-48cc-9abf-987502ffea9f",
   "metadata": {},
   "outputs": [],
   "source": []
  },
  {
   "cell_type": "code",
   "execution_count": null,
   "id": "82883b1f-f205-48e7-a3e9-99aa8e80b483",
   "metadata": {},
   "outputs": [],
   "source": []
  },
  {
   "cell_type": "code",
   "execution_count": null,
   "id": "643cef2d-026d-4b93-85a7-de6ab98236d5",
   "metadata": {},
   "outputs": [],
   "source": []
  },
  {
   "cell_type": "code",
   "execution_count": null,
   "id": "5524540d-37c8-4202-a962-0ed8d73afff6",
   "metadata": {},
   "outputs": [],
   "source": []
  }
 ],
 "metadata": {
  "kernelspec": {
   "display_name": "Python 3 (ipykernel)",
   "language": "python",
   "name": "python3"
  },
  "language_info": {
   "codemirror_mode": {
    "name": "ipython",
    "version": 3
   },
   "file_extension": ".py",
   "mimetype": "text/x-python",
   "name": "python",
   "nbconvert_exporter": "python",
   "pygments_lexer": "ipython3",
   "version": "3.12.6"
  }
 },
 "nbformat": 4,
 "nbformat_minor": 5
}
