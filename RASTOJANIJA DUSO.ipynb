{
 "cells": [
  {
   "cell_type": "markdown",
   "id": "7c22239c-4d40-4edd-87c8-4814347ea8a8",
   "metadata": {},
   "source": [
    "## MANHATTAN RASTOJANIE"
   ]
  },
  {
   "cell_type": "code",
   "execution_count": null,
   "id": "40da98e9-f062-4265-93bb-377c4fb2f2a8",
   "metadata": {},
   "outputs": [],
   "source": [
    "def manhattan_distance(state_1, state_2):\n",
    "    return abs(state_1[0] - state_2[0]) + abs(state_1[1] - state_2[1])"
   ]
  },
  {
   "cell_type": "code",
   "execution_count": null,
   "id": "e41e5ea7-e0fd-4213-a267-a68a33006cab",
   "metadata": {},
   "outputs": [],
   "source": [
    "def manhattan_distance(state):\n",
    "    matrix_explorer = [list(row) for row in state]\n",
    "    i_p, j_p = find_person(matrix_explorer)    #toa so treba da go doneseme do celta\n",
    "    return abs(i_p - 1) + abs(j_p - 7)   # 1,7 se koordinatite kade se naoga celta\n"
   ]
  },
  {
   "cell_type": "code",
   "execution_count": null,
   "id": "5db914a9-d5ae-43b9-8ca5-5a4c76a5c140",
   "metadata": {},
   "outputs": [],
   "source": [
    "def h(state):\n",
    "    distance = manhattan_distance(state)\n",
    "    return distance"
   ]
  },
  {
   "cell_type": "markdown",
   "id": "b3c82ca2-64fa-4f60-9717-175679bb4fea",
   "metadata": {},
   "source": [
    "# od zadacata so plocki kaj so koristi recnik kako goal state \n",
    ":) "
   ]
  },
  {
   "cell_type": "code",
   "execution_count": null,
   "id": "ab6f3cc0-c4df-48e4-afdd-278899b93c9b",
   "metadata": {},
   "outputs": [],
   "source": [
    "goal_positions = {\n",
    "    0: (0, 0), 1: (0, 1), 2: (0, 2),\n",
    "    3: (1, 0), 4: (1, 1), 5: (1, 2),\n",
    "    6: (2, 0), 7: (2, 1), 8: (2, 2)\n",
    "}\n",
    "#fakticki si pravi goal mnozestvo i go zima kako krajno sto treba da dobie\n",
    "def manhattan_distance(current_position, number): #number e brojot na koj mu barame heuristic\n",
    "    return abs(current_position[0] - goal_positions[number][0]) + abs(current_position[1] - goal_positions[number][1])  \n",
    "#goal_positions[number][0] - number i brojot na koj so mu barame, a posle toa e redicata\n",
    "\n",
    "def heuristics(state): #go sobiram vkupoto rastojanie, odnosno kolku kemu treba za da ja dostigne celta\n",
    "    value = 0\n",
    "    for index_row, row in enumerate(state):\n",
    "        for index_col, col in enumerate(row):\n",
    "            value += manhattan_distance((index_row, index_col), col)\n",
    "    return value"
   ]
  },
  {
   "cell_type": "markdown",
   "id": "3c764ab4-e39f-4cce-a04a-d616ec594f84",
   "metadata": {},
   "source": [
    " "
   ]
  },
  {
   "cell_type": "markdown",
   "id": "9cb13fc8-32ab-4e0f-bf46-a275352a9f2a",
   "metadata": {},
   "source": [
    " "
   ]
  },
  {
   "cell_type": "markdown",
   "id": "9064bb5b-08b9-4265-97b1-699a2120210d",
   "metadata": {},
   "source": [
    "## CHEBISHEV"
   ]
  },
  {
   "cell_type": "code",
   "execution_count": null,
   "id": "9ff5d07e-be44-4206-9b79-3ccaeb5f2b50",
   "metadata": {},
   "outputs": [],
   "source": [
    "def chebyshev_distance(state_1, state_2):\n",
    "    return max(abs(state_1[0] - state_2[0]), abs(state_1[1] - state_2[1]))\n",
    "    "
   ]
  },
  {
   "cell_type": "markdown",
   "id": "173d6dff-ee3a-41c8-8f9e-27ce243ba3e0",
   "metadata": {},
   "source": [
    "# Na vlez zima dve matrici"
   ]
  },
  {
   "cell_type": "code",
   "execution_count": null,
   "id": "7607162d-c1e0-4313-9ff2-e6ca0afef668",
   "metadata": {},
   "outputs": [],
   "source": [
    "def chebyshev(current_state, goal_state):\n",
    "    for row_index, row in enumerate(current_state):\n",
    "        if 1 in row:\n",
    "            x1, y1 = row_index, row.index(1)\n",
    "    for row_index, row in enumerate(goal_state):\n",
    "        if 1 in row:\n",
    "            x2, y2 = row_index, row.index(1)\n",
    "    return max(abs(x1-x2), abs(y1-y2))\n",
    "    "
   ]
  },
  {
   "cell_type": "markdown",
   "id": "37b21e10-a276-4a06-b342-8405020b14e7",
   "metadata": {},
   "source": [
    " "
   ]
  },
  {
   "cell_type": "markdown",
   "id": "189169db-5855-4162-8ecd-10e93822ae23",
   "metadata": {},
   "source": [
    " "
   ]
  },
  {
   "cell_type": "markdown",
   "id": "48aa0de6-cdbc-43c0-bb4d-32b6af9d8641",
   "metadata": {},
   "source": [
    "## EVKLID"
   ]
  },
  {
   "cell_type": "code",
   "execution_count": null,
   "id": "19bb4187-4184-4f0e-9c5a-739453a068c8",
   "metadata": {},
   "outputs": [],
   "source": [
    "def eucledian_distance(state_1, state_2):\n",
    "    return math.sqrt((state_1[0] - state_2[0])**2 + (state_1[1] - state_2[1])**2)"
   ]
  },
  {
   "cell_type": "markdown",
   "id": "13468a53-f923-4c50-9a46-3c456ddf9298",
   "metadata": {},
   "source": [
    " "
   ]
  },
  {
   "cell_type": "markdown",
   "id": "9c47e9e3-5700-400e-a0af-1e611e6a8d21",
   "metadata": {},
   "source": [
    " "
   ]
  },
  {
   "cell_type": "markdown",
   "id": "909cb79a-efe0-4a88-b240-a3b12e54447f",
   "metadata": {},
   "source": [
    " \n"
   ]
  },
  {
   "cell_type": "markdown",
   "id": "5736c40e-c790-4a97-bb82-03ce770b88d8",
   "metadata": {},
   "source": [
    "\n",
    " "
   ]
  },
  {
   "cell_type": "markdown",
   "id": "a10c8996-808c-4e1b-94e3-f771a2cd30d7",
   "metadata": {},
   "source": [
    " "
   ]
  },
  {
   "cell_type": "markdown",
   "id": "9ff21eab-b216-41a2-85d4-65203b05e4da",
   "metadata": {},
   "source": [
    "# Heuristic za PIVARA"
   ]
  },
  {
   "cell_type": "code",
   "execution_count": 2,
   "id": "ee9f16ab-f288-4e1d-bb47-f6b1768cc377",
   "metadata": {},
   "outputs": [],
   "source": [
    "import math\n",
    "\n",
    "def heuristic(state):\n",
    "    how_many_twos = 0\n",
    "    for row in state:\n",
    "        how_many_twos += row.count(2)\n",
    "    return math.ceil(how_many_twos / 6) #go deli so 6 zaradi matricata 2x3 (na rabotot)"
   ]
  },
  {
   "cell_type": "code",
   "execution_count": null,
   "id": "6e1cc701-87a6-4376-9511-2f5532de3d59",
   "metadata": {},
   "outputs": [],
   "source": []
  }
 ],
 "metadata": {
  "kernelspec": {
   "display_name": "Python 3 (ipykernel)",
   "language": "python",
   "name": "python3"
  },
  "language_info": {
   "codemirror_mode": {
    "name": "ipython",
    "version": 3
   },
   "file_extension": ".py",
   "mimetype": "text/x-python",
   "name": "python",
   "nbconvert_exporter": "python",
   "pygments_lexer": "ipython3",
   "version": "3.12.6"
  }
 },
 "nbformat": 4,
 "nbformat_minor": 5
}
