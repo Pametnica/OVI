{
 "cells": [
  {
   "cell_type": "markdown",
   "id": "99dcd935-a359-4d3e-b2c3-81be6b9cedf6",
   "metadata": {},
   "source": [
    "# Гаси светла со А*\n"
   ]
  },
  {
   "cell_type": "markdown",
   "id": "0e876e9d-3c1b-4757-a122-19226558c33b",
   "metadata": {},
   "source": [
    "Разгледуваме игра која се игра самостојно. Правилата на играта се:\n",
    "\n",
    "    Се игра на табла со димензии N по N.\n",
    "    Има празни и полни кругчиња, по едно кругче за секое поле од таблата.\n",
    "    Се игра исклучиво со притискање на кругчињата.\n",
    "    Ако се притисне некое кругче:\n",
    "        Се менува од празно во полно, или пак обратно, од полно во празно.\n",
    "        Неговите соседи се менуваат од празно во полно, или пак обратно, од полно во празно.\n",
    "        Соседи на едно кругче се соседните кругчиња кои се наоѓаат над, под, лево и десно.\n",
    "    Целта на играта е сите кругчиња да се празни, во најмал број чекори.\n"
   ]
  },
  {
   "cell_type": "code",
   "execution_count": null,
   "id": "51ce3d59-3757-42be-b52e-712380f3183f",
   "metadata": {},
   "outputs": [],
   "source": [
    "def toggle(state, bulb_position):\n",
    "    N = len(state)\n",
    "    state_list = []\n",
    "    bulb_row, bulb_column = bulb_position \n",
    "    for row in state:\n",
    "        state_list.append(list(row))\n",
    "    if 0 <= bulb_row < N and 0 <= bulb_column < N:\n",
    "        state_list[bulb_row][bulb_column] = 1 - state[bulb_row][bulb_column]\n",
    "        if bulb_row > 0: \n",
    "            state_list[bulb_row - 1][bulb_column] = 1 - state[bulb_row - 1][bulb_column]\n",
    "        if bulb_row < N - 1: \n",
    "            state_list[bulb_row + 1][bulb_column] = 1 - state[bulb_row + 1][bulb_column]\n",
    "        if bulb_column > 0: \n",
    "            state_list[bulb_row][bulb_column - 1] = 1 - state[bulb_row][bulb_column - 1]\n",
    "        if bulb_column < N - 1: \n",
    "            state_list[bulb_row][bulb_column + 1] = 1 - state[bulb_row][bulb_column + 1]\n",
    "        \n",
    "    state_tuple=[]\n",
    "    for row in state_list:\n",
    "         state_tuple.append(tuple(row))\n",
    "        \n",
    "    return tuple(state_tuple)"
   ]
  },
  {
   "cell_type": "code",
   "execution_count": null,
   "id": "769f3bb2-4727-49dd-a136-f2d536fa10af",
   "metadata": {},
   "outputs": [],
   "source": [
    "# Sample initial state (3x3 matrix with 1s representing ON bulbs and 0s representing OFF bulbs)\n",
    "initial_state = (\n",
    "    (0, 1, 0),\n",
    "    (1, 0, 1),\n",
    "    (0, 1, 0)\n",
    ")\n",
    "\n",
    "# Position to toggle (center of the matrix)\n",
    "bulb_position = (1, 1)\n",
    "\n",
    "# Expected output after toggling bulb at (1,1) in the 3x3 matrix\n",
    "# The bulb at (1,1) and its neighbors should toggle:\n",
    "# (0, 0, 0)\n",
    "# (0, 1, 0)\n",
    "# (0, 0, 0)\n",
    "\n",
    "# Call the toggle function\n",
    "result = toggle(initial_state, bulb_position)\n",
    "\n",
    "# Print the result\n",
    "print(\"Initial State:\")\n",
    "for row in initial_state:\n",
    "    print(row)\n",
    "\n",
    "print(\"\\nResult after toggling at position\", bulb_position, \":\")\n",
    "for row in result:\n",
    "    print(row)\n"
   ]
  },
  {
   "cell_type": "code",
   "execution_count": null,
   "id": "8da1b051-25dd-4be5-9aab-c5b8ab5a972e",
   "metadata": {},
   "outputs": [],
   "source": [
    "def check_goal(state):\n",
    "    state_list=list(state)\n",
    "    for row in state_list:\n",
    "        state_list.append(list(row))\n",
    "    for element in state_list:\n",
    "        if element!=0:\n",
    "            return False\n",
    "    return True"
   ]
  },
  {
   "cell_type": "code",
   "execution_count": null,
   "id": "3a9d1c29-7d46-4897-b785-694ff52d50b1",
   "metadata": {},
   "outputs": [],
   "source": [
    "print(check_goal([[0, 0], [0, 0]]))  # Expected output: True\n",
    "print(check_goal([[0, 1], [0, 0]]))  # Expected output: False\n"
   ]
  },
  {
   "cell_type": "code",
   "execution_count": null,
   "id": "5cb58811-edbe-41e2-8df2-9e4167b3592f",
   "metadata": {},
   "outputs": [],
   "source": [
    "def expand_state(state):\n",
    "    N=len(state)\n",
    "    all_states=[]\n",
    "    for r in range(N):\n",
    "        for c in range(N):\n",
    "            all_states.append(1,toggle(state,(r,c)))\n",
    "    return tuple(all_states)"
   ]
  },
  {
   "cell_type": "code",
   "execution_count": null,
   "id": "27910c53-a666-4d55-a864-35300de3c425",
   "metadata": {},
   "outputs": [],
   "source": [
    "def heuristic(state):\n",
    "    count=0\n",
    "    N=len(state)\n",
    "    for i in range(len(state)):\n",
    "        for j in range(len(state[i])):\n",
    "            if state[i][j]==1:\n",
    "                count=count+1\n",
    "    return count/N*N"
   ]
  },
  {
   "cell_type": "code",
   "execution_count": null,
   "id": "32790c81-a201-49a8-a6e6-102324f5eb58",
   "metadata": {},
   "outputs": [],
   "source": [
    "import heapq\n",
    "\n",
    "def a_star_search(initial_state, goal_state):\n",
    "    \n",
    "    queue = [((0, 0), [initial_state])]\n",
    "    heapq.heapify(queue)\n",
    "    expanded = set()\n",
    "    \n",
    "    while queue:\n",
    "        current_weight_tuple, list_to_expand = heapq.heappop(queue)\n",
    "        current_a_star_weight, current_path_weight = current_weight_tuple\n",
    "        state_to_expand = list_to_expand[-1]\n",
    "        \n",
    "        if state_to_expand == goal_state:\n",
    "            return current_path_weight, list_to_expand\n",
    "        \n",
    "        if state_to_expand not in expanded:\n",
    "            for next_path_weight, next_state in expand_state(state_to_expand):\n",
    "                if next_state not in expanded:\n",
    "                    total_path_weight = current_path_weight + next_path_weight\n",
    "                    a_star_weight = total_path_weight + heuristic(next_state)\n",
    "                    heapq.heappush(queue, ((a_star_weight, total_path_weight), list_to_expand + [next_state]))\n",
    "            expanded.add(state_to_expand)\n",
    "            "
   ]
  },
  {
   "cell_type": "code",
   "execution_count": null,
   "id": "c8015711-976f-451d-a08c-562767da87bf",
   "metadata": {},
   "outputs": [],
   "source": [
    "a=a_star_search(TABLE,GOAL)\n",
    "a"
   ]
  },
  {
   "cell_type": "code",
   "execution_count": null,
   "id": "b9b36bc3-23a0-4277-9e1f-195f5a1839e9",
   "metadata": {},
   "outputs": [],
   "source": []
  },
  {
   "cell_type": "code",
   "execution_count": null,
   "id": "a5e2951a-8c12-4ea4-a04f-7412f4f22f4e",
   "metadata": {},
   "outputs": [],
   "source": []
  },
  {
   "cell_type": "code",
   "execution_count": null,
   "id": "1e5fed5b-9643-4819-b622-4e6ecc3054c6",
   "metadata": {},
   "outputs": [],
   "source": []
  }
 ],
 "metadata": {
  "kernelspec": {
   "display_name": "Python 3 (ipykernel)",
   "language": "python",
   "name": "python3"
  },
  "language_info": {
   "codemirror_mode": {
    "name": "ipython",
    "version": 3
   },
   "file_extension": ".py",
   "mimetype": "text/x-python",
   "name": "python",
   "nbconvert_exporter": "python",
   "pygments_lexer": "ipython3",
   "version": "3.12.6"
  }
 },
 "nbformat": 4,
 "nbformat_minor": 5
}
