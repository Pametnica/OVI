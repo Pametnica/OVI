{
 "cells": [
  {
   "cell_type": "markdown",
   "id": "bfb439a9-40eb-481e-834e-0a65ee80e2dc",
   "metadata": {},
   "source": [
    "# Гаси Светла\n",
    "# Лабораториска вежба 3"
   ]
  },
  {
   "cell_type": "markdown",
   "id": "104d6a04-b7bf-43c6-a7e9-4a18aea253b8",
   "metadata": {},
   "source": [
    "Разгледуваме игра која се игра самостојно. Правилата на играта се:\n",
    "\n",
    "    Се игра на табла со димензии N по N.\n",
    "    Има празни и полни кругчиња, по едно кругче за секое поле од таблата.\n",
    "    Се игра исклучиво со притискање на кругчињата.\n",
    "    Ако се притисне некое кругче:\n",
    "        Се менува од празно во полно, или пак обратно, од полно во празно.\n",
    "        Неговите соседи се менуваат од празно во полно, или пак обратно, од полно во празно.\n",
    "        Соседи на едно кругче се соседните кругчиња кои се наоѓаат над, под, лево и десно.\n",
    "    Целта на играта е сите кругчиња да се празни, во најмал број чекори.\n",
    "\n",
    "Следи интерактивна апликација за оваа игра.\n"
   ]
  },
  {
   "cell_type": "code",
   "execution_count": 13,
   "id": "d2955a74-d7b2-4839-95ef-f26579ff01f1",
   "metadata": {},
   "outputs": [],
   "source": [
    "N = 4\n",
    "TABLE = [\n",
    "    [0, 0, 1, 0],\n",
    "    [0, 0, 1, 1],\n",
    "    [1, 1, 0, 0],\n",
    "    [0, 1, 0, 0],\n",
    "]\n",
    "GOAL = [\n",
    "    [0, 0, 0, 0],\n",
    "    [0, 0, 0, 0],\n",
    "    [0, 0, 0, 0],\n",
    "    [0, 0, 0, 0],\n",
    "]"
   ]
  },
  {
   "cell_type": "code",
   "execution_count": 14,
   "id": "31a6e689-eb73-4b8f-ad69-5b2bf6157c19",
   "metadata": {},
   "outputs": [],
   "source": [
    "def toggle(state, bulb_position):\n",
    "    N = len(state)\n",
    "    state_list = []\n",
    "    bulb_row, bulb_column = bulb_position \n",
    "    for row in state:\n",
    "        state_list.append(list(row))\n",
    "    if 0 <= bulb_row < N and 0 <= bulb_column < N:\n",
    "        state_list[bulb_row][bulb_column] = 1 - state[bulb_row][bulb_column]\n",
    "        if bulb_row > 0: \n",
    "            state_list[bulb_row - 1][bulb_column] = 1 - state[bulb_row - 1][bulb_column]\n",
    "        if bulb_row < N - 1: \n",
    "            state_list[bulb_row + 1][bulb_column] = 1 - state[bulb_row + 1][bulb_column]\n",
    "        if bulb_column > 0: \n",
    "            state_list[bulb_row][bulb_column - 1] = 1 - state[bulb_row][bulb_column - 1]\n",
    "        if bulb_column < N - 1: \n",
    "            state_list[bulb_row][bulb_column + 1] = 1 - state[bulb_row][bulb_column + 1]\n",
    "        \n",
    "    state_tuple=[]\n",
    "    for row in state_list:\n",
    "         state_tuple.append(tuple(row))\n",
    "        \n",
    "    return tuple(state_tuple)"
   ]
  },
  {
   "cell_type": "code",
   "execution_count": 15,
   "id": "2d8a8016-90b4-41c4-b1e8-dbf9bc4adb72",
   "metadata": {},
   "outputs": [],
   "source": [
    "def expand_state(state):\n",
    "    N=len(state)\n",
    "    all_states=[]\n",
    "    for r in range(N):\n",
    "        for c in range(N):\n",
    "            all_states.append(toggle(state,(r,c)))\n",
    "    return tuple(all_states)    "
   ]
  },
  {
   "cell_type": "code",
   "execution_count": 16,
   "id": "4d3667b8-86d3-4efe-9629-dca482a63396",
   "metadata": {},
   "outputs": [],
   "source": [
    "from collections import deque\n",
    "\n",
    "def breadth_first_search(initial_state, goal_state):\n",
    "    if initial_state == goal_state:\n",
    "        return\n",
    "    \n",
    "    queue = deque([[initial_state]])\n",
    "    visited = {initial_state}\n",
    "    \n",
    "    while queue:\n",
    "        list_to_expand = queue.popleft()\n",
    "        state_to_expand = list_to_expand[-1]\n",
    "        \n",
    "        for next_state in expand_state(state_to_expand):\n",
    "            if next_state not in visited:\n",
    "                if next_state == goal_state:\n",
    "                    return list_to_expand + [next_state]\n",
    "                queue.append(list_to_expand + [next_state])\n",
    "                visited.add(next_state)"
   ]
  },
  {
   "cell_type": "code",
   "execution_count": 17,
   "id": "ac7a6884-17a4-4e00-8370-7d0758431647",
   "metadata": {},
   "outputs": [],
   "source": [
    "def matrix_to_tuple(state_list):\n",
    "    state_tuple=[]\n",
    "    for row in state_list:\n",
    "         state_tuple.append(tuple(row))\n",
    "        \n",
    "    return tuple(state_tuple)"
   ]
  },
  {
   "cell_type": "code",
   "execution_count": 18,
   "id": "a4d23033-0ad0-4ea7-b673-7abe6608173f",
   "metadata": {},
   "outputs": [
    {
     "name": "stdout",
     "output_type": "stream",
     "text": [
      "Path found:\n",
      "\n",
      "Step 0:\n",
      "(0, 0, 1, 0)\n",
      "(0, 0, 1, 1)\n",
      "(1, 1, 0, 0)\n",
      "(0, 1, 0, 0)\n",
      "\n",
      "Step 1:\n",
      "(0, 0, 0, 0)\n",
      "(0, 1, 0, 0)\n",
      "(1, 1, 1, 0)\n",
      "(0, 1, 0, 0)\n",
      "\n",
      "Step 2:\n",
      "(0, 0, 0, 0)\n",
      "(0, 0, 0, 0)\n",
      "(0, 0, 0, 0)\n",
      "(0, 0, 0, 0)\n"
     ]
    }
   ],
   "source": [
    "initial_state=matrix_to_tuple(TABLE)\n",
    "goal_state=matrix_to_tuple(GOAL)\n",
    "path = breadth_first_search(initial_state, goal_state)\n",
    "\n",
    "# Проверка дали е најден пат и печатење на патот\n",
    "if path:\n",
    "    print(\"Path found:\")\n",
    "    for i, state in enumerate(path):\n",
    "        print(f\"\\nStep {i}:\")\n",
    "        for row in state:\n",
    "            print(row)\n",
    "else:\n",
    "    print(\"No path found.\")\n",
    "\n"
   ]
  },
  {
   "cell_type": "code",
   "execution_count": null,
   "id": "a4fd606d-1f9c-426d-b09a-b63f1dc89e66",
   "metadata": {},
   "outputs": [],
   "source": []
  },
  {
   "cell_type": "code",
   "execution_count": null,
   "id": "78aad2dc-48e8-4d84-ab2d-67ac87939bb7",
   "metadata": {},
   "outputs": [],
   "source": []
  },
  {
   "cell_type": "code",
   "execution_count": null,
   "id": "cb336ca9-123c-4e88-a3ca-1978e5427e4c",
   "metadata": {},
   "outputs": [],
   "source": []
  },
  {
   "cell_type": "code",
   "execution_count": null,
   "id": "32b971b6-8e37-4db9-a2ed-9aa1b0348b94",
   "metadata": {},
   "outputs": [],
   "source": []
  },
  {
   "cell_type": "code",
   "execution_count": null,
   "id": "870c722b-221f-456f-ad31-1751d9aba279",
   "metadata": {},
   "outputs": [],
   "source": []
  },
  {
   "cell_type": "code",
   "execution_count": null,
   "id": "7b4c92ef-b350-4a61-9342-50ed7b74e428",
   "metadata": {},
   "outputs": [],
   "source": []
  },
  {
   "cell_type": "code",
   "execution_count": null,
   "id": "776e9ef8-0179-4254-b6f3-c574455036ec",
   "metadata": {},
   "outputs": [],
   "source": []
  }
 ],
 "metadata": {
  "kernelspec": {
   "display_name": "Python 3 (ipykernel)",
   "language": "python",
   "name": "python3"
  },
  "language_info": {
   "codemirror_mode": {
    "name": "ipython",
    "version": 3
   },
   "file_extension": ".py",
   "mimetype": "text/x-python",
   "name": "python",
   "nbconvert_exporter": "python",
   "pygments_lexer": "ipython3",
   "version": "3.12.6"
  }
 },
 "nbformat": 4,
 "nbformat_minor": 5
}
