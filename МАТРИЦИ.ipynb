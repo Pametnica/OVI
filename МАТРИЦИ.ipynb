{
 "cells": [
  {
   "cell_type": "markdown",
   "id": "e73df2ae-1e59-4537-a654-53514ffd6ca4",
   "metadata": {},
   "source": [
    "# Интересни готови функции ако работиме со матрици"
   ]
  },
  {
   "cell_type": "markdown",
   "id": "be610f0e-5eb7-4844-8035-2cf77fb62ee3",
   "metadata": {},
   "source": [
    "Ако имаме матрица претставена како торка од торки еве функција да ја претвориме во листа од листи и да може да ја менуваме"
   ]
  },
  {
   "cell_type": "code",
   "execution_count": 1,
   "id": "92e6457f-5c64-4268-a87a-ed6173f0cf02",
   "metadata": {},
   "outputs": [],
   "source": [
    "def torka_od_torki_matrica_vo_lista_od_listi(state):\n",
    "    state_list=[] \n",
    "    for row in state:\n",
    "        state_list.append(list(row))\n",
    "    return state_list\n",
    "#матрицата е листа : има членови колку што има редици, секоја редица претставува засебна листа"
   ]
  },
  {
   "cell_type": "code",
   "execution_count": 2,
   "id": "7cbd01bc-f503-44ad-a00a-e4e5776a43d9",
   "metadata": {},
   "outputs": [
    {
     "name": "stdout",
     "output_type": "stream",
     "text": [
      "Тестирање на функцијата: True\n",
      "Резултат: [[0, 5, 3], [7, 8, 4], [2, 6, 1]]\n"
     ]
    }
   ],
   "source": [
    "# Дефинирање на пример на тока од тока\n",
    "state = (\n",
    "    (0, 5, 3),\n",
    "    (7, 8, 4),\n",
    "    (2, 6, 1)\n",
    ")\n",
    "\n",
    "# Очекуван резултат: список од листи\n",
    "expected_result = [\n",
    "    [0, 5, 3],\n",
    "    [7, 8, 4],\n",
    "    [2, 6, 1]\n",
    "]\n",
    "\n",
    "# Тестирање на функцијата\n",
    "result = torka_od_torki_matrica_vo_lista_od_listi(state)\n",
    "\n",
    "# Печатење на резултатот\n",
    "print(\"Тестирање на функцијата:\", result == expected_result)\n",
    "\n",
    "# Печатење на резултатот за визуализација\n",
    "print(\"Резултат:\", result)\n"
   ]
  },
  {
   "cell_type": "markdown",
   "id": "d617cf9b-bd9c-4196-b8a0-3298c49f5fa9",
   "metadata": {},
   "source": [
    "Доколку имаме матрица која е претставена како листа од листи, а сакаме да ја враќаме како торка од торки еве како се прави таа конверзија"
   ]
  },
  {
   "cell_type": "code",
   "execution_count": 3,
   "id": "4abbd93d-235b-4b91-bee8-fe1e97c7f5e5",
   "metadata": {},
   "outputs": [],
   "source": [
    "def lista_od_listi_vo_torka_od_torki(state_list):\n",
    "    state_tuple=[]\n",
    "    for row in state_list:\n",
    "         state_tuple.append(tuple(row))\n",
    "        \n",
    "    return tuple(state_tuple)\n",
    "    "
   ]
  },
  {
   "cell_type": "code",
   "execution_count": 4,
   "id": "90087fa7-07ed-4485-a686-9c022b3df911",
   "metadata": {},
   "outputs": [
    {
     "name": "stdout",
     "output_type": "stream",
     "text": [
      "Тестирање на функцијата: True\n",
      "Резултат: ((0, 5, 3), (7, 8, 4), (2, 6, 1))\n"
     ]
    }
   ],
   "source": [
    "# Дефинирање на пример на список од листи\n",
    "state_list = [\n",
    "    [0, 5, 3],\n",
    "    [7, 8, 4],\n",
    "    [2, 6, 1]\n",
    "]\n",
    "\n",
    "# Очекуван резултат: тока од тока\n",
    "expected_result = (\n",
    "    (0, 5, 3),\n",
    "    (7, 8, 4),\n",
    "    (2, 6, 1)\n",
    ")\n",
    "\n",
    "# Тестирање на функцијата\n",
    "result = lista_od_listi_vo_torka_od_torki(state_list)\n",
    "\n",
    "# Печатење на резултатот\n",
    "print(\"Тестирање на функцијата:\", result == expected_result)\n",
    "\n",
    "# Печатење на резултатот за визуализација\n",
    "print(\"Резултат:\", result)\n"
   ]
  },
  {
   "cell_type": "markdown",
   "id": "b444e84d-9290-45f1-a867-a540ac8fb750",
   "metadata": {},
   "source": [
    "Промена на позиции на 2 елементи од матрица доколку на влез ја примаме матрицата и нивните позниции"
   ]
  },
  {
   "cell_type": "code",
   "execution_count": null,
   "id": "ff2b3e5f-40ec-4e62-af4c-b2cce19b88f0",
   "metadata": {},
   "outputs": [],
   "source": [
    "def move_tile(state,element1_position,element2__position):\n",
    "    elemen1_row,element1_column=tile_position\n",
    "    zero_row,zero_column=zero_position\n",
    "    state_list=[]\n",
    "    for row in state:\n",
    "        state_list.append(list(row))\n",
    "    state_list[zero_row][zero_column]=state[tile_row][tile_column]\n",
    "    state_list[tile_row][tile_column]=state[zero_row][zero_column]\n",
    "    state_tuple=[]\n",
    "    for row in state_list:\n",
    "        state_tuple.append(tuple(row))\n",
    "    return tuple(state_tuple)"
   ]
  },
  {
   "cell_type": "markdown",
   "id": "6f8c5ea0-ad29-4da3-902c-931bfa8d1332",
   "metadata": {},
   "source": [
    "# TOGGLE FUNCTION"
   ]
  },
  {
   "cell_type": "code",
   "execution_count": 7,
   "id": "700f61a6-4d6b-4a2b-a2e8-f06791dfed96",
   "metadata": {},
   "outputs": [],
   "source": [
    "def toggle(state, bulb_position):\n",
    "    N = len(state)\n",
    "    state_list = []\n",
    "    bulb_row, bulb_column = bulb_position \n",
    "    for row in state:\n",
    "        state_list.append(list(row))\n",
    "    if 0 <= bulb_row < N and 0 <= bulb_column < N:\n",
    "        state_list[bulb_row][bulb_column] = 1 - state[bulb_row][bulb_column]\n",
    "        if bulb_row > 0: \n",
    "            state_list[bulb_row - 1][bulb_column] = 1 - state[bulb_row - 1][bulb_column]\n",
    "        if bulb_row < N - 1: \n",
    "            state_list[bulb_row + 1][bulb_column] = 1 - state[bulb_row + 1][bulb_column]\n",
    "        if bulb_column > 0: \n",
    "            state_list[bulb_row][bulb_column - 1] = 1 - state[bulb_row][bulb_column - 1]\n",
    "        if bulb_column < N - 1: \n",
    "            state_list[bulb_row][bulb_column + 1] = 1 - state[bulb_row][bulb_column + 1]\n",
    "        \n",
    "    state_tuple=[]\n",
    "    for row in state_list:\n",
    "         state_tuple.append(tuple(row))\n",
    "        \n",
    "    return tuple(state_tuple)"
   ]
  },
  {
   "cell_type": "code",
   "execution_count": 8,
   "id": "056d9e5d-4a28-48b4-a23e-8eb0f96622bf",
   "metadata": {},
   "outputs": [
    {
     "name": "stdout",
     "output_type": "stream",
     "text": [
      "Initial State:\n",
      "(0, 1, 0)\n",
      "(1, 0, 1)\n",
      "(0, 1, 0)\n",
      "\n",
      "Result after toggling at position (1, 1) :\n",
      "(0, 0, 0)\n",
      "(0, 1, 0)\n",
      "(0, 0, 0)\n"
     ]
    }
   ],
   "source": [
    "# Sample initial state (3x3 matrix with 1s representing ON bulbs and 0s representing OFF bulbs)\n",
    "initial_state = (\n",
    "    (0, 1, 0),\n",
    "    (1, 0, 1),\n",
    "    (0, 1, 0)\n",
    ")\n",
    "\n",
    "# Position to toggle (center of the matrix)\n",
    "bulb_position = (1, 1)\n",
    "\n",
    "# Expected output after toggling bulb at (1,1) in the 3x3 matrix\n",
    "# The bulb at (1,1) and its neighbors should toggle:\n",
    "# (0, 0, 0)\n",
    "# (0, 1, 0)\n",
    "# (0, 0, 0)\n",
    "\n",
    "# Call the toggle function\n",
    "result = toggle(initial_state, bulb_position)\n",
    "\n",
    "# Print the result\n",
    "print(\"Initial State:\")\n",
    "for row in initial_state:\n",
    "    print(row)\n",
    "\n",
    "print(\"\\nResult after toggling at position\", bulb_position, \":\")\n",
    "for row in result:\n",
    "    print(row)\n"
   ]
  },
  {
   "cell_type": "code",
   "execution_count": null,
   "id": "d3441d33-58eb-4617-b3c7-f0809bbbd730",
   "metadata": {},
   "outputs": [],
   "source": []
  },
  {
   "cell_type": "code",
   "execution_count": null,
   "id": "94894c34-3c6a-4647-8cde-94288db59a80",
   "metadata": {},
   "outputs": [],
   "source": []
  },
  {
   "cell_type": "code",
   "execution_count": null,
   "id": "7ea0b1c8-c373-4c75-a862-67e2579457d1",
   "metadata": {},
   "outputs": [],
   "source": []
  },
  {
   "cell_type": "code",
   "execution_count": null,
   "id": "9d9fcbcd-1dab-4ff7-b844-cb25f0f14532",
   "metadata": {},
   "outputs": [],
   "source": []
  },
  {
   "cell_type": "code",
   "execution_count": null,
   "id": "827af9ad-5941-4b1c-9a80-f9a4848f3b73",
   "metadata": {},
   "outputs": [],
   "source": []
  },
  {
   "cell_type": "code",
   "execution_count": null,
   "id": "baa7b692-0684-49d0-a992-4dad2db4b215",
   "metadata": {},
   "outputs": [],
   "source": []
  },
  {
   "cell_type": "code",
   "execution_count": null,
   "id": "4c7f264a-a922-41dc-8b1f-afc24827e667",
   "metadata": {},
   "outputs": [],
   "source": []
  },
  {
   "cell_type": "code",
   "execution_count": null,
   "id": "d3f8bfe9-3c44-4ad0-a487-ed078978f37d",
   "metadata": {},
   "outputs": [],
   "source": []
  },
  {
   "cell_type": "code",
   "execution_count": null,
   "id": "ebb26914-4adc-4525-a59f-43d3d33efbd7",
   "metadata": {},
   "outputs": [],
   "source": []
  }
 ],
 "metadata": {
  "kernelspec": {
   "display_name": "Python 3 (ipykernel)",
   "language": "python",
   "name": "python3"
  },
  "language_info": {
   "codemirror_mode": {
    "name": "ipython",
    "version": 3
   },
   "file_extension": ".py",
   "mimetype": "text/x-python",
   "name": "python",
   "nbconvert_exporter": "python",
   "pygments_lexer": "ipython3",
   "version": "3.12.6"
  }
 },
 "nbformat": 4,
 "nbformat_minor": 5
}
