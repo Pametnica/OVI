{
 "cells": [
  {
   "cell_type": "markdown",
   "id": "7da39696-7bbf-4d58-8b43-163033136d9c",
   "metadata": {},
   "source": [
    "Задача: Синхронизирано собирање на ресурси во лавиринт\n",
    "\n",
    "Имате лавиринт претставен како матрица N×NN×N, каде што постојат MM агенти и KK ресурси. Целта е сите агенти заеднички да соберат што повеќе ресурси во најмал број чекори.\n",
    "Услови:\n",
    "\n",
    "    Агенти и ресурси:\n",
    "        Агентите се обележани како A1,A2,…,AMA1,A2,…,AM.\n",
    "        Ресурсите се обележани со R.\n",
    "\n",
    "    Лавиринт:\n",
    "        Матрицата содржи празни полиња (0), ѕидови (X), почетни позиции на агенти (A1, A2, ...), и ресурси (R).\n",
    "\n",
    "    Правила на движење:\n",
    "        Агенти можат да се движат горе, долу, лево или десно за едно поле по чекор.\n",
    "        Движењата на сите агенти се симултани.\n",
    "        Агенти не смеат:\n",
    "            Да завршат на исто поле.\n",
    "            Да се судрат при преминување (на пр. A1A1 се движи на полето каде што A2A2 моментално е и обратно).\n",
    "        Агенти не можат да поминат низ ѕидови (X).\n",
    "\n",
    "    Цел:\n",
    "        Соберете што повеќе ресурси со сите агенти.\n",
    "        Враќање на минималниот број чекори потребни за собирање на сите ресурси или колку што е можно повеќе.\n",
    "        Агентите може да престанат да се движат откако ќе ги соберат ресурсите во нивна близина.\n",
    "\n",
    "    Хевристика (додатно):\n",
    "        Минимизирај ја дистрибуцијата на патиштата: агенти кои се поблиску до ресурсите треба први да ги соберат.\n",
    "\n",
    "Влез:\n",
    "\n",
    "Пример за лавиринт:\n",
    "\n",
    "N = 6\n",
    "Лавиринт:\n",
    "0  0  X  R  0  0\n",
    "0  A1 0  0  R  0\n",
    "0  X  0  0  0  0\n",
    "0  0  R  0  0  0\n",
    "0  A2 0  0  0  R\n",
    "0  0  0  0  0  0\n",
    "\n",
    "    A1A1: Почетна позиција на првиот агент.\n",
    "    A2A2: Почетна позиција на вториот агент.\n",
    "    RR: Ресурси кои треба да се соберат.\n",
    "\n",
    "Барање:\n",
    "\n",
    "    Движењата на агентите треба да бидат координирани за да се соберат ресурсите во минимален број чекори.\n",
    "    Враќање на следниве податоци:\n",
    "        Број на собрани ресурси.\n",
    "        Број на чекори потребни за собирање.\n",
    "        Последователност на движењата (на пр. „A1A1: горе, A2A2: десно“).\n",
    "\n",
    "Ограничувања:\n",
    "\n",
    "    N≤10N≤10\n",
    "    M≤3M≤3\n",
    "    K≤5K≤5"
   ]
  },
  {
   "cell_type": "code",
   "execution_count": 5,
   "id": "b0d23a91-776c-4595-8312-dfbcf341268e",
   "metadata": {},
   "outputs": [],
   "source": [
    "AGENTS=[\"A1\",\"A2\"]\n",
    "M=len(AGENTS)\n"
   ]
  },
  {
   "cell_type": "code",
   "execution_count": 19,
   "id": "38934258-4821-4b23-adcf-9b826f9ecb78",
   "metadata": {},
   "outputs": [],
   "source": [
    "state=(\n",
    "    (0 , 0,  \"X\" , \"R\",  0,  0),\n",
    "    (0 , \"A1\", 0  ,0  ,\"R\"  ,0),\n",
    "    (0 , \"X\"  ,0  ,0  ,0  ,0),\n",
    "    (0  ,0  ,\"R\"  ,0  ,0  ,0),\n",
    "    (0,  \"A2\" ,0,  0,  0,  \"R\"),\n",
    "    (0  ,0  ,0  ,0  ,0  ,0),\n",
    ")"
   ]
  },
  {
   "cell_type": "code",
   "execution_count": 20,
   "id": "030ab675-7c69-49ac-9257-16e0605114bf",
   "metadata": {},
   "outputs": [],
   "source": [
    "def end_check(state):\n",
    "    table_check_matrix = [list(row) for row in state]\n",
    "    count_X = sum(row.count(\"X\") for row in table_check_matrix) #ovde broj kolku trojki ima na matricata ako nema trojki togas ja resivme zad\n",
    "    #print(count_1)\n",
    "    if count_X == 0:\n",
    "        return True\n",
    "    else:\n",
    "        return False"
   ]
  },
  {
   "cell_type": "code",
   "execution_count": 21,
   "id": "b20ad59d-4760-4500-93fb-4633395c719a",
   "metadata": {},
   "outputs": [],
   "source": [
    "def limits_of_table(agent_position):\n",
    "    x,y = agent_position\n",
    "    if 0 <= x<=5 and 0 <= y <= 5:\n",
    "        obstacle_positions = {(0,2)}\n",
    "        return (y, x) not in obstacle_positions #vrakja (x,y) ako na taa pozicija nema precka, preckite gi cita sejaci od slika\n",
    "\n",
    "    else:\n",
    "        return False"
   ]
  },
  {
   "cell_type": "code",
   "execution_count": 22,
   "id": "254cf7e6-f8d3-4910-95c7-66abaea4ba21",
   "metadata": {},
   "outputs": [],
   "source": [
    "def same_position(agent1, agent2):\n",
    "    x,y = agent1\n",
    "    w,z = agent2\n",
    "\n",
    "    if x == w and y == z:\n",
    "        return False"
   ]
  },
  {
   "cell_type": "code",
   "execution_count": 37,
   "id": "bc5a1347-3791-40da-80d1-da80f0e8b3fc",
   "metadata": {},
   "outputs": [],
   "source": [
    "def find_agent(state,agent):\n",
    "    for i in range(len(AGENTS)):\n",
    "        if \"A\"+str(i) in AGENTS[i]:\n",
    "           continue\n",
    "        for i,row in enumerate(state):\n",
    "            for j,col in enumerate(row):\n",
    "                if state[i][j]==agent:\n",
    "                    return i,j"
   ]
  },
  {
   "cell_type": "code",
   "execution_count": 38,
   "id": "c5fc2d01-6503-47b1-b494-072c9a281298",
   "metadata": {},
   "outputs": [
    {
     "data": {
      "text/plain": [
       "(1, 1)"
      ]
     },
     "execution_count": 38,
     "metadata": {},
     "output_type": "execute_result"
    }
   ],
   "source": [
    "find_pos(state,\"A1\")"
   ]
  },
  {
   "cell_type": "code",
   "execution_count": 39,
   "id": "6086d2d8-75b5-4bf0-b9f4-29f3946271d8",
   "metadata": {},
   "outputs": [],
   "source": [
    "def expand_state(state):\n",
    "    states = []   # lista kade kje gi skladirame prosirenite\n",
    "    new_state_matrix = [list(row) for row in state] # hard copy na state\n",
    "\n",
    "    possible_moves_A1 = [(0, 1),(0, -1),(1, 0),(-1, 0)]  # mozni premini na lovec vo shahot(mnogu lesno moze da se dobie za kralica;samo possible moves od gore)\n",
    "    possible_moves_A2 = [(0, 1),(0, -1),(1, 0),(-1, 0)]  # KONJ\n",
    "    \n",
    "    x,y = find_agent(new_state_matrix,\"A1\")# find element ja imas\n",
    "    w,z = find_agent(new_state_matrix,\"A2\")# find element ja imas\n",
    "\n",
    "    for (dx,dy),(dw,dz) in zip(possible_moves_A1, possible_moves_A2): #povtorno iterira istovremeno za dvata elementi vo listata\n",
    "        new_state_matrix = [list(row) for row in state] # povtorno hard copy na state\n",
    "        new_x = x + dx #pomestuvanja\n",
    "        new_y = y + dy\n",
    "        new_w = w + dw\n",
    "        new_z = z + dz\n",
    "        #print(new_x,new_y,new_w,new_z)\n",
    "        if same_position((new_x,new_y),(new_w,new_z)): # vnimavaj funkcijata vrakja true ako NE se na ista pozicija\n",
    "            if limits_of_table(new_x,new_y):  # limits of table vrakja TURE ako se naogjaat vnatre vo tablata \n",
    "                new_state_matrix[x][y] = 0       # stata 0 na mestotot kade shto se naogjal konjot\n",
    "                new_state_matrix[new_x][new_y] = \"A1\"  #KONJ=1\n",
    "            if limits_of_table(new_w,new_z):\n",
    "                new_state_matrix[w][z] = 0 # stava 0 na prethodnata pozicija na lovecot\n",
    "                new_state_matrix[new_w][new_z] = \"A2\"#2=LOVEC\n",
    "            states.append((1,tuple(map(tuple,new_state_matrix)))) # torka od statovi\n",
    "    return states "
   ]
  },
  {
   "cell_type": "code",
   "execution_count": 40,
   "id": "089aeab6-aa23-44f6-8237-cedef10bee94",
   "metadata": {},
   "outputs": [
    {
     "data": {
      "text/plain": [
       "[]"
      ]
     },
     "execution_count": 40,
     "metadata": {},
     "output_type": "execute_result"
    }
   ],
   "source": [
    "expand_state(state)"
   ]
  },
  {
   "cell_type": "code",
   "execution_count": 13,
   "id": "8bc7f179-1098-4f08-88c5-613a078a5ff6",
   "metadata": {},
   "outputs": [],
   "source": [
    "import queue\n",
    "def search_path(initial_state):\n",
    "    visited = {initial_state}\n",
    "    states_queue = deque([[initial_state]])\n",
    "    while states_queue:\n",
    "        states_list = states_queue.popleft()\n",
    "        state_to_expand = states_list[-1]\n",
    "        for next_state in expand_state(state_to_expand):\n",
    "            if next_state not in visited:\n",
    "                if end_check(next_state):\n",
    "                    return states_list + [next_state]\n",
    "                visited.add(next_state)\n",
    "                states_queue.append(states_list + [next_state])\n",
    "    return []"
   ]
  },
  {
   "cell_type": "code",
   "execution_count": null,
   "id": "ae5a9ebc-2703-4f89-b174-87d9deac03f7",
   "metadata": {},
   "outputs": [],
   "source": []
  },
  {
   "cell_type": "code",
   "execution_count": null,
   "id": "71b32f26-d865-476e-87c5-357c27c16406",
   "metadata": {},
   "outputs": [],
   "source": []
  },
  {
   "cell_type": "code",
   "execution_count": null,
   "id": "dbc821f4-1651-4407-91f6-b5c0cc64cb60",
   "metadata": {},
   "outputs": [],
   "source": []
  }
 ],
 "metadata": {
  "kernelspec": {
   "display_name": "Python 3 (ipykernel)",
   "language": "python",
   "name": "python3"
  },
  "language_info": {
   "codemirror_mode": {
    "name": "ipython",
    "version": 3
   },
   "file_extension": ".py",
   "mimetype": "text/x-python",
   "name": "python",
   "nbconvert_exporter": "python",
   "pygments_lexer": "ipython3",
   "version": "3.12.6"
  }
 },
 "nbformat": 4,
 "nbformat_minor": 5
}
